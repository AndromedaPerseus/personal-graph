{
 "cells": [
  {
   "cell_type": "code",
   "execution_count": 1,
   "metadata": {},
   "outputs": [],
   "source": [
    "import os\n",
    "from simple_graph_sqlite import database as db\n",
    "from dotenv import load_dotenv\n",
    "\n",
    "load_dotenv()\n",
    "db_url = os.getenv(\"LIBSQL_URL\")\n",
    "auth_token = os.getenv(\"LIBSQL_AUTH_TOKEN\")"
   ]
  },
  {
   "cell_type": "code",
   "execution_count": 2,
   "metadata": {},
   "outputs": [
    {
     "name": "stderr",
     "output_type": "stream",
     "text": [
      "thread '<unnamed>' panicked at Traceback (most recent call last):\n",
      "  File \"/home/anubhuti/Desktop/simple-graph-db/src/simple_graph_sqlite/database.py\", line 61, in initialize\n",
      "/root/.cargo/git/checkouts/libsql-311658d335deb3b1/9de3ccc/libsql/src/hrana/hyper.rs:88:9:\n",
      "there is no reactor running, must be called from the context of a Tokio 1.x runtime\n",
      "note: run with `RUST_BACKTRACE=1` environment variable to display a backtrace\n",
      "    return atomic(db_url, auth_token, _init)\n",
      "           ^^^^^^^^^^^^^^^^^^^^^^^^^^^^^^^^^\n",
      "pyo3_runtime.PanicException: there is no reactor running, must be called from the context of a Tokio 1.x runtime\n"
     ]
    }
   ],
   "source": [
    "# To initialze the database and establish a connection with tursodb\n",
    "db.initialize(db_url, auth_token)"
   ]
  },
  {
   "cell_type": "code",
   "execution_count": 18,
   "metadata": {},
   "outputs": [],
   "source": [
    "# To add a single node\n",
    "def insert_single_node(db_url, auth_token, new_node, new_node_id):\n",
    "    try:\n",
    "        db.atomic(db_url, auth_token, db.add_node(new_node, new_node_id))\n",
    "    except Exception as e:\n",
    "        assert False\n",
    "new_node = {'subject': 'CS', 'type': ['person', 'student']}\n",
    "new_node_id = 'Engineer'\n",
    "\n",
    "insert_single_node(db_url, auth_token, new_node, new_node_id)\n",
    "    "
   ]
  },
  {
   "cell_type": "code",
   "execution_count": 20,
   "metadata": {},
   "outputs": [
    {
     "name": "stderr",
     "output_type": "stream",
     "text": [
      "Traceback (most recent call last):\n",
      "thread '<unnamed>' panicked at /root/.cargo/git/checkouts/libsql-311658d335deb3b1/9de3ccc/libsql/src/hrana/hyper.rs:  File \"/tmp/ipykernel_12811/1631940904.py\", line 14, in bulk_insert_operations\n",
      "88:9:\n",
      "there is no reactor running, must be called from the context of a Tokio 1.x runtime\n",
      "pyo3_runtime.PanicException: there is no reactor running, must be called from the context of a Tokio 1.x runtime\n",
      "Traceback (most recent call last):\n",
      "thread '<unnamed>' panicked at   File \"/tmp/ipykernel_12811/1631940904.py\", line 14, in bulk_insert_operations\n",
      "/root/.cargo/git/checkouts/libsql-311658d335deb3b1/9de3ccc/libsql/src/hrana/hyper.rs:88:9:\n",
      "there is no reactor running, must be called from the context of a Tokio 1.x runtime\n",
      "pyo3_runtime.PanicException: there is no reactor running, must be called from the context of a Tokio 1.x runtime\n"
     ]
    },
    {
     "name": "stdout",
     "output_type": "stream",
     "text": [
      "Find node {'name': 'Stanley', 'age': '20', 'id': 'Student'}\n",
      "Find node {'name': 'James', 'age': '45', 'id': 'Professor'}\n"
     ]
    },
    {
     "name": "stderr",
     "output_type": "stream",
     "text": [
      "Traceback (most recent call last):\n",
      "  File \"/tmp/ipykernel_12811/1631940904.py\", line 20, in bulk_insert_operations\n",
      "thread '<unnamed>' panicked at /root/.cargo/git/checkouts/libsql-311658d335deb3b1/9de3ccc/libsql/src/hrana/hyper.rs:88:9:\n",
      "there is no reactor running, must be called from the context of a Tokio 1.x runtime\n",
      "pyo3_runtime.PanicException: there is no reactor running, must be called from the context of a Tokio 1.x runtime\n",
      "Traceback (most recent call last):\n",
      "thread '<unnamed>' panicked at /root/.cargo/git/checkouts/libsql-311658d335deb3b1/9de3ccc/libsql/src/hrana/hyper.rs:  File \"/tmp/ipykernel_12811/1631940904.py\", line 20, in bulk_insert_operations\n",
      "88:9:\n",
      "there is no reactor running, must be called from the context of a Tokio 1.x runtime\n",
      "pyo3_runtime.PanicException: there is no reactor running, must be called from the context of a Tokio 1.x runtime\n"
     ]
    },
    {
     "name": "stdout",
     "output_type": "stream",
     "text": [
      "upsert {'name': 'Stanley', 'age': '20', 'id': 'Student'}\n",
      "upsert {'name': 'James', 'age': '45', 'id': 'Professor'}\n"
     ]
    }
   ],
   "source": [
    "# To add multiple nodes\n",
    "def bulk_insert_operations(db_url, auth_token, nodes):\n",
    "    ids = []\n",
    "    bodies = []\n",
    "    for id, body in nodes.items():\n",
    "        ids.append(id)\n",
    "        bodies.append(body)\n",
    "\n",
    "    # bulk add and confirm\n",
    "    db.atomic(db_url, auth_token, db.add_nodes(bodies, ids))\n",
    "\n",
    "new_nodes = {\n",
    "    'Student': {'name': 'Stanley', 'age': '20'},\n",
    "    'Professor': {'name': 'James', 'age': '45'}\n",
    "}\n",
    "\n",
    "bulk_insert_operations(db_url, auth_token, new_nodes)"
   ]
  },
  {
   "cell_type": "code",
   "execution_count": 21,
   "metadata": {},
   "outputs": [
    {
     "name": "stderr",
     "output_type": "stream",
     "text": [
      "Traceback (most recent call last):\n",
      "  File \"/tmp/ipykernel_12811/1075016553.py\", line 5, in find_a_node\n",
      "thread '<unnamed>' panicked at /root/.cargo/git/checkouts/libsql-311658d335deb3b1/9de3ccc/libsql/src/hrana/hyper.rs:88:9:\n",
      "there is no reactor running, must be called from the context of a Tokio 1.x runtime\n",
      "pyo3_runtime.PanicException: there is no reactor running, must be called from the context of a Tokio 1.x runtime\n"
     ]
    },
    {
     "data": {
      "text/plain": [
       "{'name': 'Stanley', 'age': '20', 'id': 'Student'}"
      ]
     },
     "execution_count": 21,
     "metadata": {},
     "output_type": "execute_result"
    }
   ],
   "source": [
    "# To find for a node\n",
    "def find_a_node(db_url, auth_token, node):\n",
    "            return db.atomic(db_url, auth_token, db.find_node(node))\n",
    "\n",
    "\n",
    "find_a_node(db_url, auth_token, 'Student')"
   ]
  },
  {
   "cell_type": "code",
   "execution_count": 15,
   "metadata": {},
   "outputs": [
    {
     "name": "stderr",
     "output_type": "stream",
     "text": [
      "Traceback (most recent call last):\n",
      "thread '<unnamed>' panicked at   File \"/tmp/ipykernel_45610/1549721029.py\", line 3, in find_bulk_node\n",
      "/root/.cargo/git/checkouts/libsql-311658d335deb3b1/9de3ccc/libsql/src/hrana/hyper.rs:88:9:\n",
      "there is no reactor running, must be called from the context of a Tokio 1.x runtime\n",
      "pyo3_runtime.PanicException: there is no reactor running, must be called from the context of a Tokio 1.x runtime\n"
     ]
    },
    {
     "data": {
      "text/plain": [
       "{'name': 'James', 'age': '35', 'id': 'Professor'}"
      ]
     },
     "execution_count": 15,
     "metadata": {},
     "output_type": "execute_result"
    }
   ],
   "source": [
    "# To find multiple nodes\n",
    "def find_bulk_node(db_url, auth_token, node):\n",
    "        return db.atomic(db_url, auth_token, db.find_node(node))\n",
    "\n",
    "\n",
    "\n",
    "find_bulk_node(db_url, auth_token, 'Professor')"
   ]
  },
  {
   "cell_type": "code",
   "execution_count": 53,
   "metadata": {},
   "outputs": [
    {
     "name": "stdout",
     "output_type": "stream",
     "text": [
      "Professor {'name': 'James', 'age': '35'}\n"
     ]
    }
   ],
   "source": [
    "# For bulk upsert: Update and insert\n",
    "def bulk_upsert(db_url, auth_token, nodes):\n",
    "    ids = []\n",
    "    bodies = []\n",
    "    for id, body in nodes.items():\n",
    "        ids.append(id)\n",
    "        bodies.append(body)\n",
    "\n",
    "    db.atomic(db_url, auth_token, db.upsert_nodes(bodies, ids))\n",
    "nodes = {\n",
    "    'Student': {'name': 'Stanley', 'age': '23'},\n",
    "    'Professor': {'name': 'James', 'age': '35'}\n",
    "}\n",
    "\n",
    "bulk_upsert(db_url, auth_token, nodes)\n",
    "    "
   ]
  },
  {
   "cell_type": "code",
   "execution_count": 57,
   "metadata": {},
   "outputs": [
    {
     "name": "stdout",
     "output_type": "stream",
     "text": [
      "{'name': 'Bob', 'age': '23'} Student\n"
     ]
    }
   ],
   "source": [
    "# For single upsert: Update and insert a node\n",
    "def single_upsert(db_url, auth_token, body, id):\n",
    "    print(body, id)\n",
    "    \n",
    "    db.atomic(db_url, auth_token, db.upsert_node(id, body))\n",
    "\n",
    "body = {'name': 'Bob', 'age': '23'}\n",
    "id = 'Student'\n",
    "single_upsert(db_url, auth_token, body, id)"
   ]
  },
  {
   "cell_type": "code",
   "execution_count": 5,
   "metadata": {},
   "outputs": [
    {
     "name": "stdout",
     "output_type": "stream",
     "text": [
      "[{'wealth': '1000 Billion'}, {'balance': '1000 rupees'}]\n",
      "Inserted!!!\n",
      "None\n"
     ]
    }
   ],
   "source": [
    "# Bulk connect and confirm\n",
    "def bulk_node_connect(db_url, auth_token, edges):\n",
    "    sources = []\n",
    "    targets = []\n",
    "    properties = []\n",
    "    for src, tgts in edges.items():\n",
    "        for target in tgts:\n",
    "            tgt, label = target\n",
    "            sources.append(src)\n",
    "            targets.append(tgt)\n",
    "            if label:\n",
    "                properties.append(label)\n",
    "            else:\n",
    "                properties.append({})\n",
    "        \n",
    "\n",
    "    db.atomic(db_url, auth_token, db.connect_many_nodes(\n",
    "        sources, targets, properties))\n",
    "    \n",
    "edges = {\n",
    "    'Professor': [('Bill Gates', {'wealth':'1000 Billion'})],\n",
    "    'Bill Gates': [('Professor', {'balance': '1000 rupees'})]\n",
    "}\n",
    "\n",
    "bulk_node_connect(db_url, auth_token, edges)\n",
    "    \n"
   ]
  },
  {
   "cell_type": "code",
   "execution_count": 9,
   "metadata": {},
   "outputs": [],
   "source": [
    "# Single connect and confirm\n",
    "def single_node_connect(db_url, auth_token, sources, target,  property):\n",
    "    db.atomic(db_url, auth_token, db.connect_nodes(\n",
    "        source, target,  property))\n",
    "    \n",
    "source = 'Engineer'\n",
    "target = 'Bill Gates'\n",
    "property = {'package': '100000 lpa'}\n",
    "\n",
    "single_node_connect(db_url, auth_token, source, target, property)"
   ]
  },
  {
   "cell_type": "code",
   "execution_count": 38,
   "metadata": {},
   "outputs": [],
   "source": [
    "# To remove nodes\n",
    "def remove_bulk_nodes(db_url, auth_token, ids):\n",
    "        db.atomic(db_url, auth_token,  db.remove_nodes(ids))\n",
    "\n",
    "ids = [7,8]\n",
    "\n",
    "remove_bulk_nodes(db_url, auth_token, ids)\n"
   ]
  },
  {
   "cell_type": "code",
   "execution_count": 4,
   "metadata": {},
   "outputs": [],
   "source": [
    "# To remove a single node\n",
    "def remove_single_node(db_url, auth_token, id):\n",
    "    db.atomic(db_url, auth_token, db.remove_node(id))\n",
    "\n",
    "remove_single_node(db_url, auth_token, 'Professor')"
   ]
  },
  {
   "cell_type": "code",
   "execution_count": 13,
   "metadata": {},
   "outputs": [
    {
     "ename": "TypeError",
     "evalue": "'builtins.Cursor' object is not iterable",
     "output_type": "error",
     "traceback": [
      "\u001b[0;31m---------------------------------------------------------------------------\u001b[0m",
      "\u001b[0;31mTypeError\u001b[0m                                 Traceback (most recent call last)",
      "Cell \u001b[0;32mIn[13], line 4\u001b[0m\n\u001b[1;32m      2\u001b[0m \u001b[38;5;28;01mdef\u001b[39;00m \u001b[38;5;21mtraverse_nodes\u001b[39m(db_url, auth_token, src, tgt\u001b[38;5;241m=\u001b[39m\u001b[38;5;28;01mNone\u001b[39;00m):\n\u001b[1;32m      3\u001b[0m     \u001b[38;5;28;01mreturn\u001b[39;00m db\u001b[38;5;241m.\u001b[39mtraverse(db_url, auth_token, src, tgt)\n\u001b[0;32m----> 4\u001b[0m \u001b[43mtraverse_nodes\u001b[49m\u001b[43m(\u001b[49m\u001b[43mdb_url\u001b[49m\u001b[43m,\u001b[49m\u001b[43m \u001b[49m\u001b[43mauth_token\u001b[49m\u001b[43m,\u001b[49m\u001b[43m \u001b[49m\u001b[38;5;124;43m'\u001b[39;49m\u001b[38;5;124;43mEngineer\u001b[39;49m\u001b[38;5;124;43m'\u001b[39;49m\u001b[43m)\u001b[49m\n",
      "Cell \u001b[0;32mIn[13], line 3\u001b[0m, in \u001b[0;36mtraverse_nodes\u001b[0;34m(db_url, auth_token, src, tgt)\u001b[0m\n\u001b[1;32m      2\u001b[0m \u001b[38;5;28;01mdef\u001b[39;00m \u001b[38;5;21mtraverse_nodes\u001b[39m(db_url, auth_token, src, tgt\u001b[38;5;241m=\u001b[39m\u001b[38;5;28;01mNone\u001b[39;00m):\n\u001b[0;32m----> 3\u001b[0m     \u001b[38;5;28;01mreturn\u001b[39;00m \u001b[43mdb\u001b[49m\u001b[38;5;241;43m.\u001b[39;49m\u001b[43mtraverse\u001b[49m\u001b[43m(\u001b[49m\u001b[43mdb_url\u001b[49m\u001b[43m,\u001b[49m\u001b[43m \u001b[49m\u001b[43mauth_token\u001b[49m\u001b[43m,\u001b[49m\u001b[43m \u001b[49m\u001b[43msrc\u001b[49m\u001b[43m,\u001b[49m\u001b[43m \u001b[49m\u001b[43mtgt\u001b[49m\u001b[43m)\u001b[49m\n",
      "File \u001b[0;32m~/Desktop/simple-graph-db/src/simple_graph_sqlite/database.py:232\u001b[0m, in \u001b[0;36mtraverse\u001b[0;34m(db_url, auth_token, src, tgt, neighbors_fn, with_bodies)\u001b[0m\n\u001b[1;32m    229\u001b[0m                         \u001b[38;5;28;01mbreak\u001b[39;00m\n\u001b[1;32m    230\u001b[0m     \u001b[38;5;28;01mreturn\u001b[39;00m path\n\u001b[0;32m--> 232\u001b[0m \u001b[38;5;28;01mreturn\u001b[39;00m \u001b[43matomic\u001b[49m\u001b[43m(\u001b[49m\u001b[43mdb_url\u001b[49m\u001b[43m,\u001b[49m\u001b[43m \u001b[49m\u001b[43mauth_token\u001b[49m\u001b[43m,\u001b[49m\u001b[43m \u001b[49m\u001b[43m_traverse\u001b[49m\u001b[43m)\u001b[49m\n",
      "File \u001b[0;32m~/Desktop/simple-graph-db/src/simple_graph_sqlite/database.py:46\u001b[0m, in \u001b[0;36matomic\u001b[0;34m(db_url, auth_token, cursor_exec_fn)\u001b[0m\n\u001b[1;32m     44\u001b[0m     cursor \u001b[38;5;241m=\u001b[39m connection\u001b[38;5;241m.\u001b[39mcursor()\n\u001b[1;32m     45\u001b[0m     cursor\u001b[38;5;241m.\u001b[39mexecute(\u001b[38;5;124m\"\u001b[39m\u001b[38;5;124mPRAGMA foreign_keys = TRUE;\u001b[39m\u001b[38;5;124m\"\u001b[39m)\n\u001b[0;32m---> 46\u001b[0m     results \u001b[38;5;241m=\u001b[39m \u001b[43mcursor_exec_fn\u001b[49m\u001b[43m(\u001b[49m\u001b[43mcursor\u001b[49m\u001b[43m)\u001b[49m\n\u001b[1;32m     47\u001b[0m     connection\u001b[38;5;241m.\u001b[39mcommit()\n\u001b[1;32m     48\u001b[0m \u001b[38;5;28;01mfinally\u001b[39;00m:\n",
      "File \u001b[0;32m~/Desktop/simple-graph-db/src/simple_graph_sqlite/database.py:217\u001b[0m, in \u001b[0;36mtraverse.<locals>._traverse\u001b[0;34m(cursor)\u001b[0m\n\u001b[1;32m    215\u001b[0m target \u001b[38;5;241m=\u001b[39m json\u001b[38;5;241m.\u001b[39mdumps(tgt)\n\u001b[1;32m    216\u001b[0m rows \u001b[38;5;241m=\u001b[39m cursor\u001b[38;5;241m.\u001b[39mexecute(neighbors_fn(with_bodies\u001b[38;5;241m=\u001b[39mwith_bodies), (src,))\n\u001b[0;32m--> 217\u001b[0m \u001b[43m\u001b[49m\u001b[38;5;28;43;01mfor\u001b[39;49;00m\u001b[43m \u001b[49m\u001b[43mrow\u001b[49m\u001b[43m \u001b[49m\u001b[38;5;129;43;01min\u001b[39;49;00m\u001b[43m \u001b[49m\u001b[43mrows\u001b[49m\u001b[43m:\u001b[49m\n\u001b[1;32m    218\u001b[0m \u001b[43m    \u001b[49m\u001b[38;5;28;43;01mif\u001b[39;49;00m\u001b[43m \u001b[49m\u001b[43mrow\u001b[49m\u001b[43m:\u001b[49m\n\u001b[1;32m    219\u001b[0m \u001b[43m        \u001b[49m\u001b[38;5;28;43;01mif\u001b[39;49;00m\u001b[43m \u001b[49m\u001b[43mwith_bodies\u001b[49m\u001b[43m:\u001b[49m\n",
      "\u001b[0;31mTypeError\u001b[0m: 'builtins.Cursor' object is not iterable"
     ]
    }
   ],
   "source": [
    "# To traverse the nodes\n",
    "def traverse_nodes(db_url, auth_token, src, tgt=None):\n",
    "    return db.traverse(db_url, auth_token, src, tgt)\n",
    "traverse_nodes(db_url, auth_token, 'Engineer')"
   ]
  }
 ],
 "metadata": {
  "kernelspec": {
   "display_name": "simple-graph-sqlite-_HGANDYB-py3.11",
   "language": "python",
   "name": "python3"
  },
  "language_info": {
   "codemirror_mode": {
    "name": "ipython",
    "version": 3
   },
   "file_extension": ".py",
   "mimetype": "text/x-python",
   "name": "python",
   "nbconvert_exporter": "python",
   "pygments_lexer": "ipython3",
   "version": "3.11.7"
  }
 },
 "nbformat": 4,
 "nbformat_minor": 2
}
