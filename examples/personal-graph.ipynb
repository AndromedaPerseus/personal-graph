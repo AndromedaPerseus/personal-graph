{
 "cells": [
  {
   "cell_type": "code",
   "execution_count": 1,
   "metadata": {},
   "outputs": [],
   "source": [
    "import os\n",
    "import sys\n",
    "\n",
    "parent_dir = os.path.abspath(os.path.join(os.pardir))\n",
    "sys.path.append(parent_dir)\n",
    "\n",
    "from personal_graph import database as db\n",
    "from dotenv import load_dotenv # type: ignore\n",
    "\n",
    "load_dotenv()\n",
    "db_url = os.getenv(\"LIBSQL_URL\")\n",
    "auth_token = os.getenv(\"LIBSQL_AUTH_TOKEN\")\n"
   ]
  },
  {
   "cell_type": "code",
   "execution_count": 2,
   "metadata": {},
   "outputs": [
    {
     "ename": "ValueError",
     "evalue": "Hrana: `cursor error: `error at step 0: (error code: SQL_INPUT_ERROR) `SQL input error: no such column: attribute (at offset 154)```",
     "output_type": "error",
     "traceback": [
      "\u001b[0;31m---------------------------------------------------------------------------\u001b[0m",
      "\u001b[0;31mValueError\u001b[0m                                Traceback (most recent call last)",
      "Cell \u001b[0;32mIn[2], line 2\u001b[0m\n\u001b[1;32m      1\u001b[0m \u001b[38;5;66;03m# To initialze the database and establish a connection with tursodb\u001b[39;00m\n\u001b[0;32m----> 2\u001b[0m \u001b[43mdb\u001b[49m\u001b[38;5;241;43m.\u001b[39;49m\u001b[43minitialize\u001b[49m\u001b[43m(\u001b[49m\u001b[43mdb_url\u001b[49m\u001b[43m,\u001b[49m\u001b[43m \u001b[49m\u001b[43mauth_token\u001b[49m\u001b[43m)\u001b[49m\n",
      "File \u001b[0;32m~/Desktop/simple-graph-db/personal_graph/database.py:82\u001b[0m, in \u001b[0;36minitialize\u001b[0;34m(db_url, auth_token, schema_file)\u001b[0m\n\u001b[1;32m     79\u001b[0m     schema_sql \u001b[38;5;241m=\u001b[39m read_sql(schema_file)\n\u001b[1;32m     80\u001b[0m     connection\u001b[38;5;241m.\u001b[39mexecutescript(schema_sql)\n\u001b[0;32m---> 82\u001b[0m \u001b[38;5;28;01mreturn\u001b[39;00m \u001b[43matomic\u001b[49m\u001b[43m(\u001b[49m\u001b[43m_init\u001b[49m\u001b[43m,\u001b[49m\u001b[43m \u001b[49m\u001b[43mdb_url\u001b[49m\u001b[43m,\u001b[49m\u001b[43m \u001b[49m\u001b[43mauth_token\u001b[49m\u001b[43m)\u001b[49m\n",
      "File \u001b[0;32m~/Desktop/simple-graph-db/personal_graph/database.py:65\u001b[0m, in \u001b[0;36matomic\u001b[0;34m(cursor_exec_fn, db_url, auth_token)\u001b[0m\n\u001b[1;32m     63\u001b[0m     cursor \u001b[38;5;241m=\u001b[39m connection\u001b[38;5;241m.\u001b[39mcursor()\n\u001b[1;32m     64\u001b[0m     cursor\u001b[38;5;241m.\u001b[39mexecute(\u001b[38;5;124m\"\u001b[39m\u001b[38;5;124mPRAGMA foreign_keys = TRUE;\u001b[39m\u001b[38;5;124m\"\u001b[39m)\n\u001b[0;32m---> 65\u001b[0m     results \u001b[38;5;241m=\u001b[39m \u001b[43mcursor_exec_fn\u001b[49m\u001b[43m(\u001b[49m\u001b[43mcursor\u001b[49m\u001b[43m,\u001b[49m\u001b[43m \u001b[49m\u001b[43mconnection\u001b[49m\u001b[43m)\u001b[49m\n\u001b[1;32m     66\u001b[0m     connection\u001b[38;5;241m.\u001b[39mcommit()\n\u001b[1;32m     67\u001b[0m \u001b[38;5;28;01mfinally\u001b[39;00m:\n",
      "File \u001b[0;32m~/Desktop/simple-graph-db/personal_graph/database.py:80\u001b[0m, in \u001b[0;36minitialize.<locals>._init\u001b[0;34m(cursor, connection)\u001b[0m\n\u001b[1;32m     78\u001b[0m \u001b[38;5;28;01mdef\u001b[39;00m \u001b[38;5;21m_init\u001b[39m(cursor, connection):\n\u001b[1;32m     79\u001b[0m     schema_sql \u001b[38;5;241m=\u001b[39m read_sql(schema_file)\n\u001b[0;32m---> 80\u001b[0m     \u001b[43mconnection\u001b[49m\u001b[38;5;241;43m.\u001b[39;49m\u001b[43mexecutescript\u001b[49m\u001b[43m(\u001b[49m\u001b[43mschema_sql\u001b[49m\u001b[43m)\u001b[49m\n",
      "\u001b[0;31mValueError\u001b[0m: Hrana: `cursor error: `error at step 0: (error code: SQL_INPUT_ERROR) `SQL input error: no such column: attribute (at offset 154)```"
     ]
    }
   ],
   "source": [
    "# To initialze the database and establish a connection with tursodb\n",
    "db.initialize(db_url, auth_token)\n"
   ]
  },
  {
   "cell_type": "code",
   "execution_count": 3,
   "metadata": {},
   "outputs": [],
   "source": [
    "from personal_graph import natural as nt\n",
    "\n",
    "info_list = [\n",
    "    \"Maya is curious and always up for a challenge.\",\n",
    "    \"Maya's age is 28.\",\n",
    "    \"Maya lives in Austin, Texas (originally from Chicago).\",\n",
    "    \"Maya is an astrophysicist by day and an aspiring novelist by night.\",\n",
    "    \"Maya enjoys rock climbing (indoor and outdoor), baking elaborate cakes (think: space-themed!), playing the electric guitar (currently learning Metallica riffs), scouring used bookstores for hidden gems, and stargazing (when the city lights don't get in the way).\",\n",
    "    \"Maya has a bit of a dreamer side, but it's balanced by a healthy dose of pragmatism.\",\n",
    "    \"Maya can be shy at first, but she opens up quickly and becomes a loyal friend who's always there to lend a hand.\",\n",
    "    \"Maya has a competitive streak that emerges during board games and trivia nights.\",\n",
    "    \"Maya has a hidden talent: she can recite all the planets in order backwards (Pluto included, in her heart!).\",\n",
    "    \"Maya has a secret fear of spiders (but don't tell anyone).\",\n",
    "    \"Maya is fluent in Gujarati thanks to her grandparents.\", \n",
    "    \"Maya has a pet tarantula named Cosmo (don't judge).\",\n",
    "    \"Maya even won a pie-eating contest at a county fair once (it was a close call!).\",\n",
    "    \"Maya wants to Publish a science fiction novel that inspires kids to reach for the stars.\",\n",
    "    \"Maya wants to Climb El Capitan in Yosemite National Park.\",\n",
    "    \"Maya wanted to Travel to a stargazing destination like Namibia or Atacama Desert.\",\n",
    "    \"Maya loves to play the theremin (because, why not?).\",\n",
    "    \"Maya is finding a partner who can keep up with her adventurous spirit.\"\n",
    "]\n",
    "\n",
    "# for info in info_list:\n",
    "#     nt.insert_into_graph(info)\n",
    "# nt.insert_into_graph(\"Maya wants to Publish a science fiction novel.\")"
   ]
  },
  {
   "cell_type": "code",
   "execution_count": 4,
   "metadata": {},
   "outputs": [
    {
     "name": "stderr",
     "output_type": "stream",
     "text": [
      "Traceback (most recent call last):\n",
      "thread '<unnamed>' panicked at /root/.cargo/registry/src/index.crates.io-6f17d22bba15001f/libsql-0.3.1/src/hrana/hyper.rs:  File \"/home/anubhuti/Desktop/simple-graph-db/personal_graph/natural.py\", line 87, in search_from_graph\n",
      "88:9:\n",
      "there is no reactor running, must be called from the context of a Tokio 1.x runtime\n",
      "    similar_nodes = atomic(\n",
      "                    ^^^^^^^\n",
      "pyo3_runtime.PanicException: there is no reactor running, must be called from the context of a Tokio 1.x runtime\n",
      "Traceback (most recent call last):\n",
      "thread '<unnamed>' panicked at /root/.cargo/registry/src/index.crates.io-6f17d22bba15001f/libsql-0.3.1/src/hrana/hyper.rs:  File \"/home/anubhuti/Desktop/simple-graph-db/personal_graph/natural.py\", line 90, in search_from_graph\n",
      "88:9:\n",
      "there is no reactor running, must be called from the context of a Tokio 1.x runtime\n",
      "    similar_edges = atomic(vector_search_edge({\"body\": text}, k=2), db_url, auth_token)\n",
      "                    ^^^^^^^^^^^^^^^^^^^^^^^^^^^^^^^^^^^^^^^^^^^^^^^^^^^^^^^^^^^^^^^^^^^\n",
      "pyo3_runtime.PanicException: there is no reactor running, must be called from the context of a Tokio 1.x runtime\n",
      "Traceback (most recent call last):\n",
      "thread '<unnamed>' panicked at /root/.cargo/registry/src/index.crates.io-6f17d22bba15001f/libsql-0.3.1/src/hrana/hyper.rs:88:9:\n",
      "there is no reactor running, must be called from the context of a Tokio 1.x runtime\n",
      "  File \"/home/anubhuti/Desktop/simple-graph-db/personal_graph/natural.py\", line 103, in search_from_graph\n",
      "    nodes = atomic(all_connected_nodes(similar_node), db_url, auth_token)\n",
      "            ^^^^^^^^^^^^^^^^^^^^^^^^^^^^^^^^^^^^^^^^^^^^^^^^^^^^^^^^^^^^^\n",
      "pyo3_runtime.PanicException: there is no reactor running, must be called from the context of a Tokio 1.x runtime\n",
      "Traceback (most recent call last):\n",
      "  File \"/home/anubhuti/Desktop/simple-graph-db/personal_graph/natural.py\", line 103, in search_from_graph\n",
      "thread '<unnamed>' panicked at /root/.cargo/registry/src/index.crates.io-6f17d22bba15001f/libsql-0.3.1/src/hrana/hyper.rs:88:9:\n",
      "there is no reactor running, must be called from the context of a Tokio 1.x runtime\n",
      "    nodes = atomic(all_connected_nodes(similar_node), db_url, auth_token)\n",
      "            ^^^^^^^^^^^^^^^^^^^^^^^^^^^^^^^^^^^^^^^^^^^^^^^^^^^^^^^^^^^^^\n",
      "pyo3_runtime.PanicException: there is no reactor running, must be called from the context of a Tokio 1.x runtime\n",
      "Traceback (most recent call last):\n",
      "thread '<unnamed>' panicked at /root/.cargo/registry/src/index.crates.io-6f17d22bba15001f/libsql-0.3.1/src/hrana/hyper.rs  File \"/home/anubhuti/Desktop/simple-graph-db/personal_graph/natural.py\", line 123, in search_from_graph\n",
      ":88:9:\n",
      "there is no reactor running, must be called from the context of a Tokio 1.x runtime\n",
      "    nodes = atomic(all_connected_nodes(similar_edge), db_url, auth_token)\n",
      "            ^^^^^^^^^^^^^^^^^^^^^^^^^^^^^^^^^^^^^^^^^^^^^^^^^^^^^^^^^^^^^\n",
      "pyo3_runtime.PanicException: there is no reactor running, must be called from the context of a Tokio 1.x runtime\n",
      "Traceback (most recent call last):\n",
      "  File \"/home/anubhuti/Desktop/simple-graph-db/personal_graph/natural.py\", line 123, in search_from_graph\n",
      "thread '<unnamed>' panicked at /root/.cargo/registry/src/index.crates.io-6f17d22bba15001f/libsql-0.3.1/src/hrana/hyper.rs:88:9:\n",
      "there is no reactor running, must be called from the context of a Tokio 1.x runtime\n",
      "    nodes = atomic(all_connected_nodes(similar_edge), db_url, auth_token)\n",
      "            ^^^^^^^^^^^^^^^^^^^^^^^^^^^^^^^^^^^^^^^^^^^^^^^^^^^^^^^^^^^^^\n",
      "pyo3_runtime.PanicException: there is no reactor running, must be called from the context of a Tokio 1.x runtime\n"
     ]
    },
    {
     "name": "stdout",
     "output_type": "stream",
     "text": [
      "nodes=[Node(id='43991a73-b2ba-4c13-9908-016b8cf193ec', attribute='{\"body\":\"Jack is a person.\",\"id\":\"43991a73-b2ba-4c13-9908-016b8cf193ec\"}', label='Jack'), Node(id='37b8f9ca-f7fc-4fe1-9e0c-8f85cc5e9049', attribute='{\"body\":\"Jack is a member of the charity\",\"id\":\"37b8f9ca-f7fc-4fe1-9e0c-8f85cc5e9049\"}', label='Jack'), Node(id='469f43ae-42d6-45b7-b3de-d8ebd7fc228b', attribute='{\"body\":\"James is a person.\",\"id\":\"469f43ae-42d6-45b7-b3de-d8ebd7fc228b\"}', label='James'), Node(id='866cadb5-9c4a-4f66-8f7c-81f22cf043f7', attribute='{\"body\":\"Charity organization\",\"id\":\"866cadb5-9c4a-4f66-8f7c-81f22cf043f7\"}', label='Charity'), Node(id='03030b6f-4cc6-447e-98fb-f87fb0623436', attribute='{\"body\":\"A person interested in publishing a science fiction novel\",\"id\":\"03030b6f-4cc6-447e-98fb-f87fb0623436\"}', label='Maya'), Node(id='6305f7b4-e257-42cb-9e52-374bbfbfdbd4', attribute='{\"body\":\"The process of making written or printed works available to the public\",\"id\":\"6305f7b4-e257-42cb-9e52-374bbfbfdbd4\"}', label='Publishing'), Node(id='891ca98b-fdd8-439a-8761-9e2af2865e6e', attribute='{\"body\":\"A literary genre that involves imaginative and futuristic science-based themes\",\"id\":\"891ca98b-fdd8-439a-8761-9e2af2865e6e\"}', label='Science Fiction Novel')] edges=[Edge(source='03030b6f-4cc6-447e-98fb-f87fb0623436', target='6305f7b4-e257-42cb-9e52-374bbfbfdbd4', label='Wants to publish', attribute='{\"body\":\"Maya wants to engage in the process of making her written work public\"}'), Edge(source='43991a73-b2ba-4c13-9908-016b8cf193ec', target='469f43ae-42d6-45b7-b3de-d8ebd7fc228b', label='friends', attribute='{\"body\":\"Jack and James are very good friends.\"}')]\n"
     ]
    },
    {
     "data": {
      "text/plain": [
       "KnowledgeGraph(nodes=[Node(id='43991a73-b2ba-4c13-9908-016b8cf193ec', attribute='{\"body\":\"Jack is a person.\",\"id\":\"43991a73-b2ba-4c13-9908-016b8cf193ec\"}', label='Jack'), Node(id='37b8f9ca-f7fc-4fe1-9e0c-8f85cc5e9049', attribute='{\"body\":\"Jack is a member of the charity\",\"id\":\"37b8f9ca-f7fc-4fe1-9e0c-8f85cc5e9049\"}', label='Jack'), Node(id='469f43ae-42d6-45b7-b3de-d8ebd7fc228b', attribute='{\"body\":\"James is a person.\",\"id\":\"469f43ae-42d6-45b7-b3de-d8ebd7fc228b\"}', label='James'), Node(id='866cadb5-9c4a-4f66-8f7c-81f22cf043f7', attribute='{\"body\":\"Charity organization\",\"id\":\"866cadb5-9c4a-4f66-8f7c-81f22cf043f7\"}', label='Charity'), Node(id='03030b6f-4cc6-447e-98fb-f87fb0623436', attribute='{\"body\":\"A person interested in publishing a science fiction novel\",\"id\":\"03030b6f-4cc6-447e-98fb-f87fb0623436\"}', label='Maya'), Node(id='6305f7b4-e257-42cb-9e52-374bbfbfdbd4', attribute='{\"body\":\"The process of making written or printed works available to the public\",\"id\":\"6305f7b4-e257-42cb-9e52-374bbfbfdbd4\"}', label='Publishing'), Node(id='891ca98b-fdd8-439a-8761-9e2af2865e6e', attribute='{\"body\":\"A literary genre that involves imaginative and futuristic science-based themes\",\"id\":\"891ca98b-fdd8-439a-8761-9e2af2865e6e\"}', label='Science Fiction Novel')], edges=[Edge(source='03030b6f-4cc6-447e-98fb-f87fb0623436', target='6305f7b4-e257-42cb-9e52-374bbfbfdbd4', label='Wants to publish', attribute='{\"body\":\"Maya wants to engage in the process of making her written work public\"}'), Edge(source='43991a73-b2ba-4c13-9908-016b8cf193ec', target='469f43ae-42d6-45b7-b3de-d8ebd7fc228b', label='friends', attribute='{\"body\":\"Jack and James are very good friends.\"}')])"
      ]
     },
     "execution_count": 4,
     "metadata": {},
     "output_type": "execute_result"
    },
    {
     "name": "stderr",
     "output_type": "stream",
     "text": [
      "\n",
      "(process:60733): Gtk-WARNING **: 13:19:09.038: Locale not supported by C library.\n",
      "\tUsing the fallback 'C' locale.\n",
      "\n",
      "(evince:60733): Gtk-WARNING **: 13:19:09.087: Theme parsing error: gtk-keys.css:1:0: Failed to import: Error opening file /snap/code/157/usr/share/themes/Default/gtk-3.0/gtk-keys.css: Permission denied\n",
      "Gtk-Message: 13:19:09.087: Failed to load module \"canberra-gtk-module\"\n",
      "Gtk-Message: 13:19:09.093: Failed to load module \"canberra-gtk-module\"\n",
      "/home/anubhuti/snap/code/common/.cache/gio-modules/libdconfsettings.so: cannot open shared object file: Permission denied\n",
      "Failed to load module: /home/anubhuti/snap/code/common/.cache/gio-modules/libdconfsettings.so\n",
      "\n",
      "(evince:60733): Gtk-WARNING **: 13:19:09.221: Could not load a pixbuf from icon theme.\n",
      "This may indicate that pixbuf loaders or the mime database could not be found.\n",
      "**\n",
      "Gtk:ERROR:../../../../gtk/gtkiconhelper.c:494:ensure_surface_for_gicon: assertion failed (error == NULL): Failed to load /usr/share/icons/Yaru/48x48/status/image-missing.png: Unable to load image-loading module: /snap/code/157/usr/lib/x86_64-linux-gnu/gdk-pixbuf-2.0/2.10.0/loaders/libpixbufloader-png.so: /snap/code/157/usr/lib/x86_64-linux-gnu/gdk-pixbuf-2.0/2.10.0/loaders/libpixbufloader-png.so: cannot open shared object file: Permission denied (gdk-pixbuf-error-quark, 5)\n"
     ]
    },
    {
     "name": "stdout",
     "output_type": "stream",
     "text": [
      "Bail out! Gtk:ERROR:../../../../gtk/gtkiconhelper.c:494:ensure_surface_for_gicon: assertion failed (error == NULL): Failed to load /usr/share/icons/Yaru/48x48/status/image-missing.png: Unable to load image-loading module: /snap/code/157/usr/lib/x86_64-linux-gnu/gdk-pixbuf-2.0/2.10.0/loaders/libpixbufloader-png.so: /snap/code/157/usr/lib/x86_64-linux-gnu/gdk-pixbuf-2.0/2.10.0/loaders/libpixbufloader-png.so: cannot open shared object file: Permission denied (gdk-pixbuf-error-quark, 5)\n"
     ]
    }
   ],
   "source": [
    "nt.search_from_graph(\"What are the aspirations of Maya and Jack\")"
   ]
  },
  {
   "cell_type": "code",
   "execution_count": null,
   "metadata": {},
   "outputs": [
    {
     "name": "stderr",
     "output_type": "stream",
     "text": [
      "\n",
      "(process:105175): Gtk-WARNING **: 15:58:07.383: Locale not supported by C library.\n",
      "\tUsing the fallback 'C' locale.\n",
      "Traceback (most recent call last):\n",
      "  File \"/tmp/ipykernel_105076/3809413473.py\", line 3, in find_nodes_like\n",
      "\n",
      "(evince:105175): Gtk-WARNING **: 15:58:07.437: Theme parsing error: gtk-keys.css:1:0: Failed to import: Error opening file /snap/code/156/usr/share/themes/Default/gtk-3.0/gtk-keys.css: Permission denied\n",
      "Gtk-Message: 15:58:07.437: Failed to load module \"canberra-gtk-module\"\n",
      "Gtk-Message: 15:58:07.439: Failed to load module \"canberra-gtk-module\"\n",
      "thread '<unnamed>' panicked at /root/.cargo/registry/src/index.crates.io-6f17d22bba15001f/libsql-0.3.1/src/hrana/hyper.rs:88:9:\n",
      "there is no reactor running, must be called from the context of a Tokio 1.x runtime\n",
      "pyo3_runtime.PanicException: there is no reactor running, must be called from the context of a Tokio 1.x runtime\n"
     ]
    },
    {
     "data": {
      "text/plain": [
       "[]"
      ]
     },
     "execution_count": 4,
     "metadata": {},
     "output_type": "execute_result"
    }
   ],
   "source": [
    "# find nodes like\n",
    "def find_nodes_like(db_url, auth_token, label, threshold):\n",
    "    return db.atomic(db.find_similar_nodes(label, threshold), db_url, auth_token)\n",
    "\n",
    "label = \"relative\"\n",
    "threshold = 0.9\n",
    "find_nodes_like(db_url, auth_token, label, threshold)"
   ]
  },
  {
   "cell_type": "code",
   "execution_count": null,
   "metadata": {},
   "outputs": [
    {
     "ename": "ValueError",
     "evalue": "Hrana: `cursor error: `error at step 0: (error code: SQLITE_UNKNOWN) `SQLite error: Limit must be greater than 0, got 0```",
     "output_type": "error",
     "traceback": [
      "\u001b[0;31m---------------------------------------------------------------------------\u001b[0m",
      "\u001b[0;31mValueError\u001b[0m                                Traceback (most recent call last)",
      "Cell \u001b[0;32mIn[5], line 7\u001b[0m\n\u001b[1;32m      4\u001b[0m     db\u001b[38;5;241m.\u001b[39matomic(db\u001b[38;5;241m.\u001b[39mpruning(threshold), db_url, auth_token)\n\u001b[1;32m      6\u001b[0m threshold \u001b[38;5;241m=\u001b[39m \u001b[38;5;241m0.9\u001b[39m\n\u001b[0;32m----> 7\u001b[0m \u001b[43mmerge_nodes\u001b[49m\u001b[43m(\u001b[49m\u001b[43mthreshold\u001b[49m\u001b[43m,\u001b[49m\u001b[43m \u001b[49m\u001b[43mdb_url\u001b[49m\u001b[43m,\u001b[49m\u001b[43m \u001b[49m\u001b[43mauth_token\u001b[49m\u001b[43m)\u001b[49m\n",
      "Cell \u001b[0;32mIn[5], line 4\u001b[0m, in \u001b[0;36mmerge_nodes\u001b[0;34m(threshold, db_url, auth_token)\u001b[0m\n\u001b[1;32m      3\u001b[0m \u001b[38;5;28;01mdef\u001b[39;00m \u001b[38;5;21mmerge_nodes\u001b[39m(threshold, db_url, auth_token):\n\u001b[0;32m----> 4\u001b[0m     \u001b[43mdb\u001b[49m\u001b[38;5;241;43m.\u001b[39;49m\u001b[43matomic\u001b[49m\u001b[43m(\u001b[49m\u001b[43mdb\u001b[49m\u001b[38;5;241;43m.\u001b[39;49m\u001b[43mpruning\u001b[49m\u001b[43m(\u001b[49m\u001b[43mthreshold\u001b[49m\u001b[43m)\u001b[49m\u001b[43m,\u001b[49m\u001b[43m \u001b[49m\u001b[43mdb_url\u001b[49m\u001b[43m,\u001b[49m\u001b[43m \u001b[49m\u001b[43mauth_token\u001b[49m\u001b[43m)\u001b[49m\n",
      "File \u001b[0;32m~/Desktop/simple-graph-db/personal_graph/database.py:64\u001b[0m, in \u001b[0;36matomic\u001b[0;34m(cursor_exec_fn, db_url, auth_token)\u001b[0m\n\u001b[1;32m     62\u001b[0m     cursor \u001b[38;5;241m=\u001b[39m connection\u001b[38;5;241m.\u001b[39mcursor()\n\u001b[1;32m     63\u001b[0m     cursor\u001b[38;5;241m.\u001b[39mexecute(\u001b[38;5;124m\"\u001b[39m\u001b[38;5;124mPRAGMA foreign_keys = TRUE;\u001b[39m\u001b[38;5;124m\"\u001b[39m)\n\u001b[0;32m---> 64\u001b[0m     results \u001b[38;5;241m=\u001b[39m \u001b[43mcursor_exec_fn\u001b[49m\u001b[43m(\u001b[49m\u001b[43mcursor\u001b[49m\u001b[43m,\u001b[49m\u001b[43m \u001b[49m\u001b[43mconnection\u001b[49m\u001b[43m)\u001b[49m\n\u001b[1;32m     65\u001b[0m     connection\u001b[38;5;241m.\u001b[39mcommit()\n\u001b[1;32m     66\u001b[0m \u001b[38;5;28;01mfinally\u001b[39;00m:\n",
      "File \u001b[0;32m~/Desktop/simple-graph-db/personal_graph/database.py:625\u001b[0m, in \u001b[0;36mpruning.<locals>._merge\u001b[0;34m(cursor, connection)\u001b[0m\n\u001b[1;32m    619\u001b[0m     \u001b[38;5;28;01mcontinue\u001b[39;00m\n\u001b[1;32m    621\u001b[0m node \u001b[38;5;241m=\u001b[39m cursor\u001b[38;5;241m.\u001b[39mexecute(\n\u001b[1;32m    622\u001b[0m     \u001b[38;5;124m\"\u001b[39m\u001b[38;5;124mSELECT label, attribute from nodes where id=?\u001b[39m\u001b[38;5;124m\"\u001b[39m, (node_id[\u001b[38;5;241m0\u001b[39m],)\n\u001b[1;32m    623\u001b[0m )\u001b[38;5;241m.\u001b[39mfetchone()\n\u001b[0;32m--> 625\u001b[0m similar_nodes \u001b[38;5;241m=\u001b[39m \u001b[43mvector_search_node\u001b[49m\u001b[43m(\u001b[49m\u001b[43mnode_data\u001b[49m\u001b[43m,\u001b[49m\u001b[43m \u001b[49m\u001b[38;5;241;43m3\u001b[39;49m\u001b[43m,\u001b[49m\u001b[43m \u001b[49m\u001b[43mthreshold\u001b[49m\u001b[43m)\u001b[49m\u001b[43m(\u001b[49m\n\u001b[1;32m    626\u001b[0m \u001b[43m    \u001b[49m\u001b[43mcursor\u001b[49m\u001b[43m,\u001b[49m\u001b[43m \u001b[49m\u001b[43mconnection\u001b[49m\n\u001b[1;32m    627\u001b[0m \u001b[43m\u001b[49m\u001b[43m)\u001b[49m\n\u001b[1;32m    629\u001b[0m \u001b[38;5;28;01mif\u001b[39;00m \u001b[38;5;28mlen\u001b[39m(similar_nodes) \u001b[38;5;241m<\u001b[39m \u001b[38;5;241m1\u001b[39m:\n\u001b[1;32m    630\u001b[0m     \u001b[38;5;28;01mcontinue\u001b[39;00m\n",
      "File \u001b[0;32m~/Desktop/simple-graph-db/personal_graph/database.py:132\u001b[0m, in \u001b[0;36mvector_search_node.<locals>._search_node\u001b[0;34m(cursor, connection)\u001b[0m\n\u001b[1;32m    128\u001b[0m \u001b[38;5;28;01mdef\u001b[39;00m \u001b[38;5;21m_search_node\u001b[39m(cursor, connection):\n\u001b[1;32m    129\u001b[0m     embed \u001b[38;5;241m=\u001b[39m json\u001b[38;5;241m.\u001b[39mdumps(embed_obj\u001b[38;5;241m.\u001b[39mget_embedding(json\u001b[38;5;241m.\u001b[39mdumps(data)))\n\u001b[1;32m    130\u001b[0m     nodes \u001b[38;5;241m=\u001b[39m \u001b[43mcursor\u001b[49m\u001b[38;5;241;43m.\u001b[39;49m\u001b[43mexecute\u001b[49m\u001b[43m(\u001b[49m\n\u001b[1;32m    131\u001b[0m \u001b[43m        \u001b[49m\u001b[43mread_sql\u001b[49m\u001b[43m(\u001b[49m\u001b[38;5;124;43m\"\u001b[39;49m\u001b[38;5;124;43mvector-search-node.sql\u001b[39;49m\u001b[38;5;124;43m\"\u001b[39;49m\u001b[43m)\u001b[49m\u001b[43m,\u001b[49m\u001b[43m \u001b[49m\u001b[43m(\u001b[49m\u001b[43membed\u001b[49m\u001b[43m,\u001b[49m\u001b[43m \u001b[49m\u001b[43mk\u001b[49m\u001b[43m)\u001b[49m\n\u001b[0;32m--> 132\u001b[0m \u001b[43m    \u001b[49m\u001b[43m)\u001b[49m\u001b[38;5;241;43m.\u001b[39;49m\u001b[43mfetchall\u001b[49m\u001b[43m(\u001b[49m\u001b[43m)\u001b[49m\n\u001b[1;32m    134\u001b[0m     \u001b[38;5;28;01mif\u001b[39;00m threshold \u001b[38;5;129;01mis\u001b[39;00m \u001b[38;5;129;01mnot\u001b[39;00m \u001b[38;5;28;01mNone\u001b[39;00m:\n\u001b[1;32m    135\u001b[0m         filtered_results \u001b[38;5;241m=\u001b[39m [\n\u001b[1;32m    136\u001b[0m             node \u001b[38;5;28;01mfor\u001b[39;00m node \u001b[38;5;129;01min\u001b[39;00m nodes \u001b[38;5;28;01mif\u001b[39;00m node[\u001b[38;5;241m4\u001b[39m] \u001b[38;5;241m<\u001b[39m threshold\n\u001b[1;32m    137\u001b[0m         ]\n",
      "\u001b[0;31mValueError\u001b[0m: Hrana: `cursor error: `error at step 0: (error code: SQLITE_UNKNOWN) `SQLite error: Limit must be greater than 0, got 0```"
     ]
    }
   ],
   "source": [
    "# merge by similarity\n",
    "\n",
    "def merge_nodes(threshold, db_url, auth_token):\n",
    "    db.atomic(db.pruning(threshold), db_url, auth_token)\n",
    "    \n",
    "threshold = 0.9\n",
    "merge_nodes(threshold, db_url, auth_token)"
   ]
  },
  {
   "cell_type": "code",
   "execution_count": null,
   "metadata": {},
   "outputs": [],
   "source": [
    "# To add a single node\n",
    "def insert_single_node(db_url, auth_token, new_label, new_node, new_node_id):\n",
    "    try:\n",
    "        db.atomic(db.add_node(new_label, new_node, new_node_id), db_url, auth_token)\n",
    "    except Exception as e:\n",
    "        assert False\n",
    "new_node = {'body': 'Jack is Alice cousin brother and lives in America.'}\n",
    "new_label = \"relative\"\n",
    "new_node_id = 1\n",
    "\n",
    "insert_single_node(db_url, auth_token, new_label, new_node, new_node_id)\n",
    "    "
   ]
  },
  {
   "cell_type": "code",
   "execution_count": null,
   "metadata": {},
   "outputs": [],
   "source": [
    "# To add multiple nodes\n",
    "def bulk_insert_operations(db_url, auth_token, labels, nodes):\n",
    "    ids = []\n",
    "    bodies = []\n",
    "    for id, body in nodes.items():\n",
    "        ids.append(id)\n",
    "        bodies.append(body)\n",
    "\n",
    "    # bulk add and confirm\n",
    "    db.atomic(db.add_nodes(bodies, labels, ids), db_url, auth_token)\n",
    "\n",
    "new_nodes = {\n",
    "    3 : {'name': 'Peri', 'age': '90'},\n",
    "    4: {'name': 'Pema', 'age': '66'},\n",
    "    5: {'name': \"Ella\", 'age': '45'}\n",
    "}\n",
    "new_labels = [\"Retired Doctor\", \"Tuberculosis Patient\", \"Diabetes Pateint\"]\n",
    "\n",
    "bulk_insert_operations(db_url, auth_token, new_labels, new_nodes)"
   ]
  },
  {
   "cell_type": "code",
   "execution_count": null,
   "metadata": {},
   "outputs": [],
   "source": [
    "# To find for a node\n",
    "def find_a_node(db_url, auth_token, node):\n",
    "            return db.atomic(db.find_node(node), db_url, auth_token)\n",
    "\n",
    "\n",
    "find_a_node(db_url, auth_token, 4)"
   ]
  },
  {
   "cell_type": "code",
   "execution_count": null,
   "metadata": {},
   "outputs": [
    {
     "name": "stdout",
     "output_type": "stream",
     "text": [
      "INSERTED EDGE\n"
     ]
    }
   ],
   "source": [
    "# For bulk upsert: Update and insert\n",
    "def bulk_upsert(db_url, auth_token, labels, nodes):\n",
    "    ids = []\n",
    "    bodies = []\n",
    "    for id, body in nodes.items():\n",
    "        ids.append(id)\n",
    "        bodies.append(body)\n",
    "\n",
    "    db.atomic(db.upsert_nodes(bodies, labels, ids), db_url, auth_token)\n",
    "nodes = {\n",
    "    2 : {'name': 'Stanley', 'age': '30'},\n",
    "    \n",
    "    3 : {'name': 'Sheeran', 'type': ['singer', 'rich']}\n",
    "}\n",
    "labels = [\"Lunch Box\", \"Pop Singer\"]\n",
    "\n",
    "bulk_upsert(db_url, auth_token, labels, nodes)\n",
    "    "
   ]
  },
  {
   "cell_type": "code",
   "execution_count": null,
   "metadata": {},
   "outputs": [],
   "source": [
    "# For single upsert: Update and insert a node\n",
    "def single_upsert(db_url, auth_token, label, body, id):\n",
    "    \n",
    "    db.atomic(db.upsert_node(id, label, body), db_url, auth_token)\n",
    "\n",
    "body = {'name': 'Sheeran', 'type': ['singer', 'rich']}\n",
    "label = \"related as an\"\n",
    "id = 2\n",
    "single_upsert(db_url, auth_token, label, body, id)"
   ]
  },
  {
   "cell_type": "code",
   "execution_count": null,
   "metadata": {},
   "outputs": [
    {
     "name": "stderr",
     "output_type": "stream",
     "text": [
      "Traceback (most recent call last):\n",
      "  File \"/tmp/ipykernel_12762/4126399405.py\", line 18, in bulk_node_connect\n",
      "thread '<unnamed>' panicked at /root/.cargo/registry/src/index.crates.io-6f17d22bba15001f/libsql-0.3.1/src/hrana/hyper.rs:88:9:\n",
      "there is no reactor running, must be called from the context of a Tokio 1.x runtime\n",
      "pyo3_runtime.PanicException: there is no reactor running, must be called from the context of a Tokio 1.x runtime\n"
     ]
    },
    {
     "name": "stdout",
     "output_type": "stream",
     "text": [
      "[2, 2] [1, 2] [{'disease': 'Diabetes'}, {'patient': 'Diabetes Symptoms'}]\n"
     ]
    }
   ],
   "source": [
    "# Bulk connect and confirm\n",
    "def bulk_node_connect(db_url, auth_token, labels, edges):\n",
    "    sources = []\n",
    "    targets = []\n",
    "    attributes = []\n",
    "    for src, tgts in edges.items():\n",
    "        for target in tgts:\n",
    "            tgt, label = target\n",
    "            sources.append(src)\n",
    "            targets.append(tgt)\n",
    "            if label:\n",
    "                attributes.append(label)\n",
    "            else:\n",
    "                attributes.append({})\n",
    "    print(sources, targets, attributes)\n",
    "        \n",
    "\n",
    "    db.atomic(db.connect_many_nodes(\n",
    "        sources, targets, label, attributes), db_url, auth_token)\n",
    "    \n",
    "edges = {\n",
    "    2: [\n",
    "        (1 , {'disease':'Diabetes'}),\n",
    "        (2 , {'patient': 'Diabetes Symptoms'}),\n",
    "    ]\n",
    "}\n",
    "edges_labels = [\"Has\", \"is\"]\n",
    "\n",
    "bulk_node_connect(db_url, auth_token, edges_labels, edges)\n",
    "    \n"
   ]
  },
  {
   "cell_type": "code",
   "execution_count": null,
   "metadata": {},
   "outputs": [],
   "source": [
    "# Single connect and confirm\n",
    "def single_node_connect(db_url, auth_token, source, target, label, attribute):\n",
    "    db.atomic(db.connect_nodes(\n",
    "        source, target,  label, attribute), db_url, auth_token)\n",
    "    \n",
    "source = 5\n",
    "target = 5\n",
    "label = \"treats\"\n",
    "attribute = {\"person\": \"old man\", \"disease\": \"Asthma\"}\n",
    "\n",
    "single_node_connect(db_url, auth_token, source, target, label, attribute)"
   ]
  },
  {
   "cell_type": "code",
   "execution_count": null,
   "metadata": {},
   "outputs": [],
   "source": [
    "# To remove nodes\n",
    "def remove_bulk_nodes(db_url, auth_token, ids):\n",
    "        db.atomic(db.remove_nodes(ids), db_url, auth_token)\n",
    "\n",
    "ids = [1, 4]\n",
    "\n",
    "remove_bulk_nodes(db_url, auth_token, ids)\n"
   ]
  },
  {
   "cell_type": "code",
   "execution_count": null,
   "metadata": {},
   "outputs": [],
   "source": [
    "# To remove a single node\n",
    "def remove_single_node(db_url, auth_token, id):\n",
    "    db.atomic(db.remove_node(id), db_url, auth_token)\n",
    "\n",
    "remove_single_node(db_url, auth_token, 5)"
   ]
  },
  {
   "cell_type": "code",
   "execution_count": null,
   "metadata": {},
   "outputs": [
    {
     "name": "stderr",
     "output_type": "stream",
     "text": [
      "Traceback (most recent call last):\n",
      "  File \"/home/anubhuti/Desktop/simple-graph-db/personal_graph/database.py\", line 592, in traverse\n",
      "thread '<unnamed>' panicked at /root/.cargo/registry/src/index.crates.io-6f17d22bba15001f/libsql-0.3.1/src/hrana/hyper.rs:88:9:\n",
      "there is no reactor running, must be called from the context of a Tokio 1.x runtime\n",
      "    return atomic(_traverse, db_url, auth_token)  # type: ignore\n",
      "           ^^^^^^^^^^^^^^^^^^^^^^^^^^^^^^^^^^^^^\n",
      "pyo3_runtime.PanicException: there is no reactor running, must be called from the context of a Tokio 1.x runtime\n"
     ]
    },
    {
     "data": {
      "text/plain": [
       "['2']"
      ]
     },
     "execution_count": 20,
     "metadata": {},
     "output_type": "execute_result"
    }
   ],
   "source": [
    "# To traverse the nodes\n",
    "def traverse_nodes(db_url, auth_token, src, tgt):\n",
    "    return db.traverse(db_url, auth_token, src, tgt)\n",
    "traverse_nodes(db_url, auth_token, 2, 5)"
   ]
  },
  {
   "cell_type": "code",
   "execution_count": null,
   "metadata": {},
   "outputs": [
    {
     "name": "stderr",
     "output_type": "stream",
     "text": [
      "Traceback (most recent call last):\n",
      "thread '<unnamed>' panicked at /root/.cargo/registry/src/index.crates.io-6f17d22bba15001f/libsql-0.3.1/src/hrana/hyper.rs:88:  File \"/tmp/ipykernel_12762/2893161704.py\", line 3, in <module>\n",
      "9:\n",
      "there is no reactor running, must be called from the context of a Tokio 1.x runtime\n",
      "pyo3_runtime.PanicException: there is no reactor running, must be called from the context of a Tokio 1.x runtime\n"
     ]
    },
    {
     "name": "stdout",
     "output_type": "stream",
     "text": [
      "[]\n"
     ]
    }
   ],
   "source": [
    "# To generate a query clause and find nodes\n",
    "kv_name_like = db._generate_clause('name', predicate='LIKE')\n",
    "print(db.atomic(db.find_nodes([kv_name_like], ('Pe%',)), db_url, auth_token))\n"
   ]
  },
  {
   "cell_type": "code",
   "execution_count": null,
   "metadata": {},
   "outputs": [
    {
     "name": "stderr",
     "output_type": "stream",
     "text": [
      "Traceback (most recent call last):\n",
      "thread '<unnamed>' panicked at   File \"/home/anubhuti/Desktop/simple-graph-db/personal_graph/visualizers.py\", line 61, in graphviz_visualize\n",
      "    for edge in db.atomic(connections(i), db_url, auth_token):  # type: ignore\n",
      "                ^^^^^^^^^^^^^^^^^^^^^^^^^^^^^^^^^^^^^^^^^^^^^\n",
      "pyo3_runtime.PanicException: there is no reactor running, must be called from the context of a Tokio 1.x runtime\n",
      "/root/.cargo/registry/src/index.crates.io-6f17d22bba15001f/libsql-0.3.1/src/hrana/hyper.rs:88:9:\n",
      "there is no reactor running, must be called from the context of a Tokio 1.x runtime\n",
      "Traceback (most recent call last):\n",
      "  File \"/home/anubhuti/Desktop/simple-graph-db/personal_graph/visualizers.py\", line 61, in graphviz_visualize\n",
      "thread '<unnamed>' panicked at /root/.cargo/registry/src/index.crates.io-6f17d22bba15001f/libsql-0.3.1/src/hrana/hyper.rs    for edge in db.atomic(connections(i), db_url, auth_token):  # type: ignore\n",
      "                ^^^^^^^^^^^^^^^^^^^^^^^^^^^^^^^^^^^^^^^^^^^^^\n",
      "pyo3_runtime.PanicException: there is no reactor running, must be called from the context of a Tokio 1.x runtime\n",
      ":88:9:\n",
      "there is no reactor running, must be called from the context of a Tokio 1.x runtime\n",
      "Traceback (most recent call last):\n",
      "  File \"/home/anubhuti/Desktop/simple-graph-db/personal_graph/visualizers.py\", line 61, in graphviz_visualize\n",
      "thread '<unnamed>' panicked at /root/.cargo/registry/src/index.crates.io-6f17d22bba15001f/libsql-0.3.1/src/hrana/hyper.rs:88:9:\n",
      "there is no reactor running, must be called from the context of a Tokio 1.x runtime\n",
      "    for edge in db.atomic(connections(i), db_url, auth_token):  # type: ignore\n",
      "                ^^^^^^^^^^^^^^^^^^^^^^^^^^^^^^^^^^^^^^^^^^^^^\n",
      "pyo3_runtime.PanicException: there is no reactor running, must be called from the context of a Tokio 1.x runtime\n"
     ]
    },
    {
     "name": "stdout",
     "output_type": "stream",
     "text": [
      "Here (3, '53ce030f-3307-4a22-b45c-d8ec95867ddc', '3ba94f84-da52-4453-a765-812d67caf2da', 'likes', '{\"body\":\"\"}', '2024-04-09 09:24:00', '2024-04-09 09:24:00')\n",
      "Here (3, '53ce030f-3307-4a22-b45c-d8ec95867ddc', '3ba94f84-da52-4453-a765-812d67caf2da', 'likes', '{\"body\":\"\"}', '2024-04-09 09:24:00', '2024-04-09 09:24:00')\n"
     ]
    },
    {
     "name": "stderr",
     "output_type": "stream",
     "text": [
      "Traceback (most recent call last):\n",
      "thread '<unnamed>' panicked at /root/.cargo/registry/src/index.crates.io-6f17d22bba15001f/libsql-0.3.1/src/hrana/hyper.rs:  File \"/home/anubhuti/Desktop/simple-graph-db/personal_graph/visualizers.py\", line 61, in graphviz_visualize\n",
      "88:9:\n",
      "there is no reactor running, must be called from the context of a Tokio 1.x runtime\n",
      "    for edge in db.atomic(connections(i), db_url, auth_token):  # type: ignore\n",
      "                ^^^^^^^^^^^^^^^^^^^^^^^^^^^^^^^^^^^^^^^^^^^^^\n",
      "pyo3_runtime.PanicException: there is no reactor running, must be called from the context of a Tokio 1.x runtime\n",
      "Traceback (most recent call last):\n",
      "  File \"/home/anubhuti/Desktop/simple-graph-db/personal_graph/visualizers.py\", line 61, in graphviz_visualize\n",
      "thread '<unnamed>' panicked at /root/.cargo/registry/src/index.crates.io-6f17d22bba15001f/libsql-0.3.1/src/hrana/hyper.rs    for edge in db.atomic(connections(i), db_url, auth_token):  # type: ignore\n",
      "                ^^^^^^^^^^^^^^^^^^^^^^^^^^^^^^^^^^^^^^^^^^^^^\n",
      "pyo3_runtime.PanicException: there is no reactor running, must be called from the context of a Tokio 1.x runtime\n",
      ":88:9:\n",
      "there is no reactor running, must be called from the context of a Tokio 1.x runtime\n",
      "Traceback (most recent call last):\n",
      "  File \"/home/anubhuti/Desktop/simple-graph-db/personal_graph/visualizers.py\", line 61, in graphviz_visualize\n",
      "thread '<unnamed>' panicked at /root/.cargo/registry/src/index.crates.io-6f17d22bba15001f/libsql-0.3.1/src/hrana/hyper.rs:88:9:\n",
      "there is no reactor running, must be called from the context of a Tokio 1.x runtime\n",
      "    for edge in db.atomic(connections(i), db_url, auth_token):  # type: ignore\n",
      "                ^^^^^^^^^^^^^^^^^^^^^^^^^^^^^^^^^^^^^^^^^^^^^\n",
      "pyo3_runtime.PanicException: there is no reactor running, must be called from the context of a Tokio 1.x runtime\n"
     ]
    },
    {
     "name": "stdout",
     "output_type": "stream",
     "text": [
      "Here (4, 'b49b8688-93f1-4ebc-a5e2-565d39e0e72e', '054c5728-df36-4b69-bbbe-84cb68778095', 'has', '{\"body\":\"\"}', '2024-04-09 09:25:02', '2024-04-09 09:25:02')\n",
      "Here (5, 'd5ec8599-0e49-4842-aacf-1e5612cbc40f', '054c5728-df36-4b69-bbbe-84cb68778095', 'has', '{\"body\":\"\"}', '2024-04-09 09:25:03', '2024-04-09 09:25:03')\n",
      "Here (4, 'b49b8688-93f1-4ebc-a5e2-565d39e0e72e', '054c5728-df36-4b69-bbbe-84cb68778095', 'has', '{\"body\":\"\"}', '2024-04-09 09:25:02', '2024-04-09 09:25:02')\n",
      "Here (5, 'd5ec8599-0e49-4842-aacf-1e5612cbc40f', '054c5728-df36-4b69-bbbe-84cb68778095', 'has', '{\"body\":\"\"}', '2024-04-09 09:25:03', '2024-04-09 09:25:03')\n"
     ]
    },
    {
     "name": "stderr",
     "output_type": "stream",
     "text": [
      "Traceback (most recent call last):\n",
      "  File \"/home/anubhuti/Desktop/simple-graph-db/personal_graph/visualizers.py\", line 61, in graphviz_visualize\n",
      "thread '<unnamed>' panicked at /root/.cargo/registry/src/index.crates.io-6f17d22bba15001f/libsql-0.3.1/src/hrana/hyper.rs:88:9:\n",
      "there is no reactor running, must be called from the context of a Tokio 1.x runtime\n",
      "    for edge in db.atomic(connections(i), db_url, auth_token):  # type: ignore\n",
      "                ^^^^^^^^^^^^^^^^^^^^^^^^^^^^^^^^^^^^^^^^^^^^^\n",
      "pyo3_runtime.PanicException: there is no reactor running, must be called from the context of a Tokio 1.x runtime\n",
      "Traceback (most recent call last):\n",
      "  File \"/home/anubhuti/Desktop/simple-graph-db/personal_graph/visualizers.py\", line 61, in graphviz_visualize\n",
      "thread '<unnamed>' panicked at /root/.cargo/registry/src/index.crates.io-6f17d22bba15001f/libsql-0.3.1/src/hrana/hyper.rs:88:9:\n",
      "there is no reactor running, must be called from the context of a Tokio 1.x runtime\n",
      "    for edge in db.atomic(connections(i), db_url, auth_token):  # type: ignore\n",
      "                ^^^^^^^^^^^^^^^^^^^^^^^^^^^^^^^^^^^^^^^^^^^^^\n",
      "pyo3_runtime.PanicException: there is no reactor running, must be called from the context of a Tokio 1.x runtime\n"
     ]
    },
    {
     "name": "stdout",
     "output_type": "stream",
     "text": [
      "Here (6, 'd3e412e9-aa04-486c-9958-2c5d28713fe6', 'b11c87b6-2d1b-4e05-8dd1-4d52c8355519', 'visits', '{\"body\":\"Regularly visits\"}', '2024-04-09 09:30:22', '2024-04-09 09:30:22')\n",
      "Here (7, 'd3e412e9-aa04-486c-9958-2c5d28713fe6', 'a31ebc79-8439-47b5-aa9d-550402a22792', 'every', '{\"body\":\"On a yearly basis\"}', '2024-04-09 09:30:23', '2024-04-09 09:30:23')\n",
      "Here (6, 'd3e412e9-aa04-486c-9958-2c5d28713fe6', 'b11c87b6-2d1b-4e05-8dd1-4d52c8355519', 'visits', '{\"body\":\"Regularly visits\"}', '2024-04-09 09:30:22', '2024-04-09 09:30:22')\n",
      "Here (7, 'd3e412e9-aa04-486c-9958-2c5d28713fe6', 'a31ebc79-8439-47b5-aa9d-550402a22792', 'every', '{\"body\":\"On a yearly basis\"}', '2024-04-09 09:30:23', '2024-04-09 09:30:23')\n"
     ]
    },
    {
     "name": "stderr",
     "output_type": "stream",
     "text": [
      "Traceback (most recent call last):\n",
      "  File \"/home/anubhuti/Desktop/simple-graph-db/personal_graph/visualizers.py\", line 75, in graphviz_visualize\n",
      "thread '<unnamed>' panicked at /root/.cargo/registry/src/index.crates.io-6f17d22bba15001f/libsql-0.3.1/src/hrana/hyper.rs:88:9:\n",
      "there is no reactor running, must be called from the context of a Tokio 1.x runtime\n",
      "    node = db.atomic(db.find_node(i), db_url, auth_token)  # type: ignore\n",
      "           ^^^^^^^^^^^^^^^^^^^^^^^^^^^^^^^^^^^^^^^^^^^^^^\n",
      "pyo3_runtime.PanicException: there is no reactor running, must be called from the context of a Tokio 1.x runtime\n",
      "Traceback (most recent call last):\n",
      "  File \"/home/anubhuti/Desktop/simple-graph-db/personal_graph/visualizers.py\", line 78, in graphviz_visualize\n",
      "    for edge in db.atomic(connections(i), db_url, auth_token):  # type: ignore\n",
      "                ^^^^^^^^^^^^^^^^^^^^^^^^^^^^^^^^^^^^^^^^^^^^^\n",
      "pyo3_runtime.PanicException: there is no reactor running, must be called from the context of a Tokio 1.x runtime\n",
      "thread '<unnamed>' panicked at /root/.cargo/registry/src/index.crates.io-6f17d22bba15001f/libsql-0.3.1/src/hrana/hyper.rs:88:9:\n",
      "there is no reactor running, must be called from the context of a Tokio 1.x runtime\n",
      "Traceback (most recent call last):\n",
      "thread '<unnamed>' panicked at /root/.cargo/registry/src/index.crates.io-6f17d22bba15001f/libsql-0.3.1/src/hrana/hyper.rs:88:9:\n",
      "there is no reactor running, must be called from the context of a Tokio 1.x runtime\n",
      "  File \"/home/anubhuti/Desktop/simple-graph-db/personal_graph/visualizers.py\", line 75, in graphviz_visualize\n",
      "    node = db.atomic(db.find_node(i), db_url, auth_token)  # type: ignore\n",
      "           ^^^^^^^^^^^^^^^^^^^^^^^^^^^^^^^^^^^^^^^^^^^^^^\n",
      "pyo3_runtime.PanicException: there is no reactor running, must be called from the context of a Tokio 1.x runtime\n",
      "Traceback (most recent call last):\n",
      "  File \"/home/anubhuti/Desktop/simple-graph-db/personal_graph/visualizers.py\", line 78, in graphviz_visualize\n",
      "thread '<unnamed>' panicked at /root/.cargo/registry/src/index.crates.io-6f17d22bba15001f/libsql-0.3.1/src/hrana/hyper.rs:88:9:\n",
      "there is no reactor running, must be called from the context of a Tokio 1.x runtime\n",
      "    for edge in db.atomic(connections(i), db_url, auth_token):  # type: ignore\n",
      "                ^^^^^^^^^^^^^^^^^^^^^^^^^^^^^^^^^^^^^^^^^^^^^\n",
      "pyo3_runtime.PanicException: there is no reactor running, must be called from the context of a Tokio 1.x runtime\n",
      "Traceback (most recent call last):\n",
      "thread '<unnamed>' panicked at   File \"/home/anubhuti/Desktop/simple-graph-db/personal_graph/visualizers.py\", line 75, in graphviz_visualize\n",
      "/root/.cargo/registry/src/index.crates.io-6f17d22bba15001f/libsql-0.3.1/src/hrana/hyper.rs:88:9:\n",
      "there is no reactor running, must be called from the context of a Tokio 1.x runtime\n",
      "    node = db.atomic(db.find_node(i), db_url, auth_token)  # type: ignore\n",
      "           ^^^^^^^^^^^^^^^^^^^^^^^^^^^^^^^^^^^^^^^^^^^^^^\n",
      "pyo3_runtime.PanicException: there is no reactor running, must be called from the context of a Tokio 1.x runtime\n",
      "Traceback (most recent call last):\n",
      "  File \"/home/anubhuti/Desktop/simple-graph-db/personal_graph/visualizers.py\", line 78, in graphviz_visualize\n",
      "thread '<unnamed>' panicked at /root/.cargo/registry/src/index.crates.io-6f17d22bba15001f/libsql-0.3.1/src/hrana/hyper.rs:88:9:\n",
      "there is no reactor running, must be called from the context of a Tokio 1.x runtime\n",
      "    for edge in db.atomic(connections(i), db_url, auth_token):  # type: ignore\n",
      "                ^^^^^^^^^^^^^^^^^^^^^^^^^^^^^^^^^^^^^^^^^^^^^\n",
      "pyo3_runtime.PanicException: there is no reactor running, must be called from the context of a Tokio 1.x runtime\n",
      "Traceback (most recent call last):\n",
      "  File \"/home/anubhuti/Desktop/simple-graph-db/personal_graph/visualizers.py\", line 75, in graphviz_visualize\n",
      "thread '<unnamed>' panicked at /root/.cargo/registry/src/index.crates.io-6f17d22bba15001f/libsql-0.3.1/src/hrana/hyper.rs:88:9:\n",
      "there is no reactor running, must be called from the context of a Tokio 1.x runtime\n",
      "    node = db.atomic(db.find_node(i), db_url, auth_token)  # type: ignore\n",
      "           ^^^^^^^^^^^^^^^^^^^^^^^^^^^^^^^^^^^^^^^^^^^^^^\n",
      "pyo3_runtime.PanicException: there is no reactor running, must be called from the context of a Tokio 1.x runtime\n",
      "Traceback (most recent call last):\n",
      "  File \"/home/anubhuti/Desktop/simple-graph-db/personal_graph/visualizers.py\", line 78, in graphviz_visualize\n",
      "thread '<unnamed>' panicked at /root/.cargo/registry/src/index.crates.io-6f17d22bba15001f/libsql-0.3.1/src/hrana/hyper.rs:88:9:\n",
      "there is no reactor running, must be called from the context of a Tokio 1.x runtime\n",
      "    for edge in db.atomic(connections(i), db_url, auth_token):  # type: ignore\n",
      "                ^^^^^^^^^^^^^^^^^^^^^^^^^^^^^^^^^^^^^^^^^^^^^\n",
      "pyo3_runtime.PanicException: there is no reactor running, must be called from the context of a Tokio 1.x runtime\n",
      "Traceback (most recent call last):\n",
      "  File \"/home/anubhuti/Desktop/simple-graph-db/personal_graph/visualizers.py\", line 75, in graphviz_visualize\n",
      "thread '<unnamed>' panicked at /root/.cargo/registry/src/index.crates.io-6f17d22bba15001f/libsql-0.3.1/src/hrana/hyper.rs:88:9:\n",
      "there is no reactor running, must be called from the context of a Tokio 1.x runtime\n",
      "    node = db.atomic(db.find_node(i), db_url, auth_token)  # type: ignore\n",
      "           ^^^^^^^^^^^^^^^^^^^^^^^^^^^^^^^^^^^^^^^^^^^^^^\n",
      "pyo3_runtime.PanicException: there is no reactor running, must be called from the context of a Tokio 1.x runtime\n",
      "Traceback (most recent call last):\n",
      "thread '<unnamed>' panicked at /root/.cargo/registry/src/index.crates.io-6f17d22bba15001f/libsql-0.3.1/src/hrana/hyper.rs:  File \"/home/anubhuti/Desktop/simple-graph-db/personal_graph/visualizers.py\", line 78, in graphviz_visualize\n",
      "    88:9:\n",
      "there is no reactor running, must be called from the context of a Tokio 1.x runtime\n",
      "for edge in db.atomic(connections(i), db_url, auth_token):  # type: ignore\n",
      "                ^^^^^^^^^^^^^^^^^^^^^^^^^^^^^^^^^^^^^^^^^^^^^\n",
      "pyo3_runtime.PanicException: there is no reactor running, must be called from the context of a Tokio 1.x runtime\n",
      "Traceback (most recent call last):\n",
      "  File \"/home/anubhuti/Desktop/simple-graph-db/personal_graph/visualizers.py\", line 75, in graphviz_visualize\n",
      "thread '<unnamed>' panicked at /root/.cargo/registry/src/index.crates.io-6f17d22bba15001f/libsql-0.3.1/src/hrana/hyper.rs:    node = db.atomic(db.find_node(i), db_url, auth_token)  # type: ignore\n",
      "           ^^^^^^^^^^^^^^^^^^^^^^^^^^^^^^^^^^^^^^^^^^^^^^\n",
      "pyo3_runtime.PanicException: there is no reactor running, must be called from the context of a Tokio 1.x runtime\n",
      "88:9:\n",
      "there is no reactor running, must be called from the context of a Tokio 1.x runtime\n",
      "Traceback (most recent call last):\n",
      "  File \"/home/anubhuti/Desktop/simple-graph-db/personal_graph/visualizers.py\", line 78, in graphviz_visualize\n",
      "thread '<unnamed>' panicked at /root/.cargo/registry/src/index.crates.io-6f17d22bba15001f/libsql-0.3.1/src/hrana/hyper.rs:88:9:\n",
      "there is no reactor running, must be called from the context of a Tokio 1.x runtime\n",
      "    for edge in db.atomic(connections(i), db_url, auth_token):  # type: ignore\n",
      "                ^^^^^^^^^^^^^^^^^^^^^^^^^^^^^^^^^^^^^^^^^^^^^\n",
      "pyo3_runtime.PanicException: there is no reactor running, must be called from the context of a Tokio 1.x runtime\n",
      "Traceback (most recent call last):\n",
      "thread '<unnamed>' panicked at /root/.cargo/registry/src/index.crates.io-6f17d22bba15001f/libsql-0.3.1/src/hrana/hyper.rs:  File \"/home/anubhuti/Desktop/simple-graph-db/personal_graph/visualizers.py\", line 75, in graphviz_visualize\n",
      "88:9:\n",
      "there is no reactor running, must be called from the context of a Tokio 1.x runtime\n",
      "    node = db.atomic(db.find_node(i), db_url, auth_token)  # type: ignore\n",
      "           ^^^^^^^^^^^^^^^^^^^^^^^^^^^^^^^^^^^^^^^^^^^^^^\n",
      "pyo3_runtime.PanicException: there is no reactor running, must be called from the context of a Tokio 1.x runtime\n",
      "Traceback (most recent call last):\n",
      "  File \"/home/anubhuti/Desktop/simple-graph-db/personal_graph/visualizers.py\", line 78, in graphviz_visualize\n",
      "thread '<unnamed>' panicked at /root/.cargo/registry/src/index.crates.io-6f17d22bba15001f/libsql-0.3.1/src/hrana/hyper.rs:88:9:\n",
      "there is no reactor running, must be called from the context of a Tokio 1.x runtime\n",
      "    for edge in db.atomic(connections(i), db_url, auth_token):  # type: ignore\n",
      "                ^^^^^^^^^^^^^^^^^^^^^^^^^^^^^^^^^^^^^^^^^^^^^\n",
      "pyo3_runtime.PanicException: there is no reactor running, must be called from the context of a Tokio 1.x runtime\n",
      "Traceback (most recent call last):\n",
      "  File \"/home/anubhuti/Desktop/simple-graph-db/personal_graph/visualizers.py\", line 75, in graphviz_visualize\n",
      "thread '<unnamed>' panicked at /root/.cargo/registry/src/index.crates.io-6f17d22bba15001f/libsql-0.3.1/src/hrana/hyper.rs:88:9:\n",
      "there is no reactor running, must be called from the context of a Tokio 1.x runtime\n",
      "    node = db.atomic(db.find_node(i), db_url, auth_token)  # type: ignore\n",
      "           ^^^^^^^^^^^^^^^^^^^^^^^^^^^^^^^^^^^^^^^^^^^^^^\n",
      "pyo3_runtime.PanicException: there is no reactor running, must be called from the context of a Tokio 1.x runtime\n",
      "Traceback (most recent call last):\n",
      "thread '<unnamed>' panicked at /root/.cargo/registry/src/index.crates.io-6f17d22bba15001f/libsql-0.3.1/src/hrana/hyper.rs:  File \"/home/anubhuti/Desktop/simple-graph-db/personal_graph/visualizers.py\", line 78, in graphviz_visualize\n",
      "    for edge in db.atomic(connections(i), db_url, auth_token):  # type: ignore\n",
      "                ^^^^^^^^^^^^^^^^^^^^^^^^^^^^^^^^^^^^^^^^^^^^^\n",
      "pyo3_runtime.PanicException: there is no reactor running, must be called from the context of a Tokio 1.x runtime\n",
      "88:9:\n",
      "there is no reactor running, must be called from the context of a Tokio 1.x runtime\n"
     ]
    }
   ],
   "source": [
    "# Visualization\n",
    "from personal_graph import visualizers\n",
    "raw_path = \"temp_path\" +  \"sample1.dot\"\n",
    "visualizers.graphviz_visualize(db_url, auth_token, raw_path, ['53ce030f-3307-4a22-b45c-d8ec95867ddc', '3ba94f84-da52-4453-a765-812d67caf2da', 'b49b8688-93f1-4ebc-a5e2-565d39e0e72e', 'd5ec8599-0e49-4842-aacf-1e5612cbc40f', '054c5728-df36-4b69-bbbe-84cb68778095', 'd3e412e9-aa04-486c-9958-2c5d28713fe6', 'b11c87b6-2d1b-4e05-8dd1-4d52c8355519', 'a31ebc79-8439-47b5-aa9d-550402a22792'])"
   ]
  },
  {
   "cell_type": "code",
   "execution_count": null,
   "metadata": {},
   "outputs": [
    {
     "name": "stderr",
     "output_type": "stream",
     "text": [
      "Traceback (most recent call last):\n",
      "  File \"/home/anubhuti/Desktop/simple-graph-db/personal_graph/database.py\", line 592, in traverse\n",
      "thread '<unnamed>' panicked at /root/.cargo/registry/src/index.crates.io-6f17d22bba15001f/libsql-0.3.1/src/hrana/hyper.rs:88:9:\n",
      "there is no reactor running, must be called from the context of a Tokio 1.x runtime\n",
      "    return atomic(_traverse, db_url, auth_token)  # type: ignore\n",
      "           ^^^^^^^^^^^^^^^^^^^^^^^^^^^^^^^^^^^^^\n",
      "pyo3_runtime.PanicException: there is no reactor running, must be called from the context of a Tokio 1.x runtime\n"
     ]
    }
   ],
   "source": [
    "# Visualization with bodies\n",
    "\n",
    "raw_path = \"temp_path\" +  \"bodies.dot\"\n",
    "path_with_bodies = db.traverse(db_url, auth_token, 2, with_bodies=True)\n",
    "visualizers.graphviz_visualize_bodies(raw_path, path_with_bodies)"
   ]
  },
  {
   "cell_type": "code",
   "execution_count": null,
   "metadata": {},
   "outputs": [
    {
     "name": "stderr",
     "output_type": "stream",
     "text": [
      "Traceback (most recent call last):\n",
      "  File \"/tmp/ipykernel_38235/407694518.py\", line 4, in vector_search_node\n",
      "thread '<unnamed>' panicked at /root/.cargo/registry/src/index.crates.io-6f17d22bba15001f/libsql-0.3.1/src/hrana/hyper.rs:88:9:\n",
      "there is no reactor running, must be called from the context of a Tokio 1.x runtime\n",
      "pyo3_runtime.PanicException: there is no reactor running, must be called from the context of a Tokio 1.x runtime\n"
     ]
    },
    {
     "name": "stdout",
     "output_type": "stream",
     "text": [
      "[(33, 'bf848082-5a6a-4f53-85ff-dc39df7cf23a', 'Boy', '{\"body\":\"Person with asthma\",\"id\":\"bf848082-5a6a-4f53-85ff-dc39df7cf23a\"}', 0.2946716547012329), (34, 'd00f671f-a1c3-4150-be7e-ec273bcd832c', 'asthma', '{\"body\":\"Medical condition\",\"id\":\"d00f671f-a1c3-4150-be7e-ec273bcd832c\"}', 0.7506613731384277), (37, '1bf823fd-da57-4e2a-8178-2d2c76efa617', 'Jack', '{\"body\":\"Person\",\"id\":\"1bf823fd-da57-4e2a-8178-2d2c76efa617\"}', 0.8328555822372437)]\n"
     ]
    },
    {
     "data": {
      "text/plain": [
       "[(33,\n",
       "  'bf848082-5a6a-4f53-85ff-dc39df7cf23a',\n",
       "  'Boy',\n",
       "  '{\"body\":\"Person with asthma\",\"id\":\"bf848082-5a6a-4f53-85ff-dc39df7cf23a\"}',\n",
       "  0.2946716547012329),\n",
       " (34,\n",
       "  'd00f671f-a1c3-4150-be7e-ec273bcd832c',\n",
       "  'asthma',\n",
       "  '{\"body\":\"Medical condition\",\"id\":\"d00f671f-a1c3-4150-be7e-ec273bcd832c\"}',\n",
       "  0.7506613731384277),\n",
       " (37,\n",
       "  '1bf823fd-da57-4e2a-8178-2d2c76efa617',\n",
       "  'Jack',\n",
       "  '{\"body\":\"Person\",\"id\":\"1bf823fd-da57-4e2a-8178-2d2c76efa617\"}',\n",
       "  0.8328555822372437)]"
      ]
     },
     "execution_count": 4,
     "metadata": {},
     "output_type": "execute_result"
    }
   ],
   "source": [
    "# vector search node\n",
    "def vector_search_node(db_url, auth_token, data, k):\n",
    "    try:\n",
    "        return db.atomic(db.vector_search_node(data, k), db_url, auth_token)\n",
    "    except Exception as e:\n",
    "        assert False\n",
    "        \n",
    "data = {\"body\": \"Who has Asthma.\"}\n",
    "k = 3\n",
    "vector_search_node(db_url, auth_token, data, k)\n"
   ]
  },
  {
   "cell_type": "code",
   "execution_count": null,
   "metadata": {},
   "outputs": [
    {
     "name": "stderr",
     "output_type": "stream",
     "text": [
      "Traceback (most recent call last):\n",
      "  File \"/tmp/ipykernel_28438/3169921463.py\", line 4, in vector_search_edge\n",
      "thread '<unnamed>' panicked at /root/.cargo/registry/src/index.crates.io-6f17d22bba15001f/libsql-0.3.1/src/hrana/hyper.rs:88:9:\n",
      "there is no reactor running, must be called from the context of a Tokio 1.x runtime\n",
      "pyo3_runtime.PanicException: there is no reactor running, must be called from the context of a Tokio 1.x runtime\n"
     ]
    },
    {
     "name": "stdout",
     "output_type": "stream",
     "text": [
      "[(33, 'bf848082-5a6a-4f53-85ff-dc39df7cf23a', 'Boy', '{\"body\":\"Person with asthma\",\"id\":\"bf848082-5a6a-4f53-85ff-dc39df7cf23a\"}', 0.3284595012664795), (34, 'd00f671f-a1c3-4150-be7e-ec273bcd832c', 'asthma', '{\"body\":\"Medical condition\",\"id\":\"d00f671f-a1c3-4150-be7e-ec273bcd832c\"}', 0.7943490147590637)]\n"
     ]
    }
   ],
   "source": [
    "# vector search edge\n",
    "def vector_search_edge(db_url, auth_token, data, k):\n",
    "    try:\n",
    "        db.atomic(db.vector_search_edge(data, k), db_url, auth_token)\n",
    "    except Exception as e:\n",
    "        assert False\n",
    "        \n",
    "data = {\"body\": \"Who has Asthma?\"}\n",
    "k = 2\n",
    "vector_search_edge(db_url, auth_token, data, k)\n",
    "    "
   ]
  }
 ],
 "metadata": {
  "kernelspec": {
   "display_name": "simple-graph-sqlite-_HGANDYB-py3.11",
   "language": "python",
   "name": "python3"
  },
  "language_info": {
   "codemirror_mode": {
    "name": "ipython",
    "version": 3
   },
   "file_extension": ".py",
   "mimetype": "text/x-python",
   "name": "python",
   "nbconvert_exporter": "python",
   "pygments_lexer": "ipython3",
   "version": "3.11.7"
  }
 },
 "nbformat": 4,
 "nbformat_minor": 2
}
