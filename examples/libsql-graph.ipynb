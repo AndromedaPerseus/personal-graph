{
 "cells": [
  {
   "cell_type": "code",
   "execution_count": 1,
   "metadata": {},
   "outputs": [],
   "source": [
    "import os\n",
    "import sys\n",
    "\n",
    "parent_dir = os.path.abspath(os.path.join(os.pardir))\n",
    "sys.path.append(parent_dir)\n",
    "\n",
    "from libsql_graph_db import database as db\n",
    "from dotenv import load_dotenv # type: ignore\n",
    "\n",
    "load_dotenv()\n",
    "db_url = os.getenv(\"LIBSQL_URL\")\n",
    "auth_token = os.getenv(\"LIBSQL_AUTH_TOKEN\")\n"
   ]
  },
  {
   "cell_type": "code",
   "execution_count": 2,
   "metadata": {},
   "outputs": [
    {
     "name": "stderr",
     "output_type": "stream",
     "text": [
      "Traceback (most recent call last):\n",
      "thread '<unnamed>' panicked at /root/.cargo/registry/src/index.crates.io-6f17d22bba15001f/libsql-0.3.1/src/hrana/hyper.rs:88:9:\n",
      "there is no reactor running, must be called from the context of a Tokio 1.x runtime\n",
      "note: run with `RUST_BACKTRACE=1` environment variable to display a backtrace\n",
      "  File \"/home/anubhuti/Desktop/simple-graph-db/libsql_graph_db/database.py\", line 79, in initialize\n",
      "    return atomic(_init, db_url, auth_token)  # type: ignore\n",
      "           ^^^^^^^^^^^^^^^^^^^^^^^^^^^^^^^^^\n",
      "pyo3_runtime.PanicException: there is no reactor running, must be called from the context of a Tokio 1.x runtime\n"
     ]
    }
   ],
   "source": [
    "# To initialze the database and establish a connection with tursodb\n",
    "db.initialize(db_url, auth_token)"
   ]
  },
  {
   "cell_type": "code",
   "execution_count": 3,
   "metadata": {},
   "outputs": [],
   "source": [
    "# To add a single node\n",
    "def insert_single_node(db_url, auth_token, new_node, new_node_id):\n",
    "    try:\n",
    "        db.atomic(db.add_node(new_node, new_node_id), db_url, auth_token)\n",
    "    except Exception as e:\n",
    "        assert False\n",
    "new_node = {'subject': 'MES', 'type': ['person', 'Dr']}\n",
    "new_node_id = 1\n",
    "\n",
    "insert_single_node(db_url, auth_token, new_node, new_node_id)\n",
    "    "
   ]
  },
  {
   "cell_type": "code",
   "execution_count": 4,
   "metadata": {},
   "outputs": [],
   "source": [
    "# To add multiple nodes\n",
    "def bulk_insert_operations(db_url, auth_token, nodes):\n",
    "    ids = []\n",
    "    bodies = []\n",
    "    for id, body in nodes.items():\n",
    "        ids.append(id)\n",
    "        bodies.append(body)\n",
    "\n",
    "    # bulk add and confirm\n",
    "    db.atomic(db.add_nodes(bodies, ids), db_url, auth_token)\n",
    "\n",
    "new_nodes = {\n",
    "    2 : {'name': 'Peri', 'age': '90'},\n",
    "    3 : {'name': 'Pema', 'age': '66'}\n",
    "}\n",
    "\n",
    "bulk_insert_operations(db_url, auth_token, new_nodes)"
   ]
  },
  {
   "cell_type": "code",
   "execution_count": 5,
   "metadata": {},
   "outputs": [
    {
     "name": "stderr",
     "output_type": "stream",
     "text": [
      "Traceback (most recent call last):\n",
      "thread '<unnamed>' panicked at /root/.cargo/registry/src/index.crates.io-6f17d22bba15001f/libsql-0.3.1/src/hrana/hyper.rs  File \"/tmp/ipykernel_78534/3005601512.py\", line 3, in find_a_node\n",
      ":88:9:\n",
      "there is no reactor running, must be called from the context of a Tokio 1.x runtime\n",
      "pyo3_runtime.PanicException: there is no reactor running, must be called from the context of a Tokio 1.x runtime\n"
     ]
    },
    {
     "data": {
      "text/plain": [
       "{}"
      ]
     },
     "execution_count": 5,
     "metadata": {},
     "output_type": "execute_result"
    }
   ],
   "source": [
    "# To find for a node\n",
    "def find_a_node(db_url, auth_token, node):\n",
    "            return db.atomic(db.find_node(node), db_url, auth_token)\n",
    "\n",
    "\n",
    "find_a_node(db_url, auth_token, 5)"
   ]
  },
  {
   "cell_type": "code",
   "execution_count": 6,
   "metadata": {},
   "outputs": [],
   "source": [
    "# For bulk upsert: Update and insert\n",
    "def bulk_upsert(db_url, auth_token, nodes):\n",
    "    ids = []\n",
    "    bodies = []\n",
    "    for id, body in nodes.items():\n",
    "        ids.append(id)\n",
    "        bodies.append(body)\n",
    "\n",
    "    db.atomic(db.upsert_nodes(bodies, ids), db_url, auth_token)\n",
    "nodes = {\n",
    "    1 : {'name': 'Stanley', 'age': '30'},\n",
    "    2 : {'name': 'Sheeran', 'type': ['singer', 'rich']}\n",
    "}\n",
    "\n",
    "bulk_upsert(db_url, auth_token, nodes)\n",
    "    "
   ]
  },
  {
   "cell_type": "code",
   "execution_count": 7,
   "metadata": {},
   "outputs": [],
   "source": [
    "# For single upsert: Update and insert a node\n",
    "def single_upsert(db_url, auth_token, body, id):\n",
    "    \n",
    "    db.atomic(db.upsert_node(id, body), db_url, auth_token)\n",
    "\n",
    "body = {'name': 'Sheeran', 'type': ['singer', 'rich']}\n",
    "id = 2\n",
    "single_upsert(db_url, auth_token, body, id)"
   ]
  },
  {
   "cell_type": "code",
   "execution_count": 8,
   "metadata": {},
   "outputs": [],
   "source": [
    "# Bulk connect and confirm\n",
    "def bulk_node_connect(db_url, auth_token, edges):\n",
    "    sources = []\n",
    "    targets = []\n",
    "    properties = []\n",
    "    for src, tgts in edges.items():\n",
    "        for target in tgts:\n",
    "            tgt, label = target\n",
    "            sources.append(src)\n",
    "            targets.append(tgt)\n",
    "            if label:\n",
    "                properties.append(label)\n",
    "            else:\n",
    "                properties.append({})\n",
    "        \n",
    "\n",
    "    db.atomic(db.connect_many_nodes(\n",
    "        sources, targets, properties), db_url, auth_token)\n",
    "    \n",
    "edges = {\n",
    "    2: [\n",
    "        (3 , {'wealth':'1000 Billion'}),\n",
    "        (2 , {'balance': '1000 rupees'})\n",
    "    ]\n",
    "}\n",
    "\n",
    "bulk_node_connect(db_url, auth_token, edges)\n",
    "    \n"
   ]
  },
  {
   "cell_type": "code",
   "execution_count": 9,
   "metadata": {},
   "outputs": [],
   "source": [
    "# Single connect and confirm\n",
    "def single_node_connect(db_url, auth_token, source, target,  property):\n",
    "    db.atomic(db.connect_nodes(\n",
    "        source, target,  property), db_url, auth_token)\n",
    "    \n",
    "source = 3\n",
    "target = 1\n",
    "property = {'relation': 'enemy'}\n",
    "\n",
    "single_node_connect(db_url, auth_token, source, target, property)"
   ]
  },
  {
   "cell_type": "code",
   "execution_count": 10,
   "metadata": {},
   "outputs": [],
   "source": [
    "# To remove nodes\n",
    "def remove_bulk_nodes(db_url, auth_token, ids):\n",
    "        db.atomic(db.remove_nodes(ids), db_url, auth_token)\n",
    "\n",
    "ids = [1, 4]\n",
    "\n",
    "remove_bulk_nodes(db_url, auth_token, ids)\n"
   ]
  },
  {
   "cell_type": "code",
   "execution_count": 11,
   "metadata": {},
   "outputs": [],
   "source": [
    "# To remove a single node\n",
    "def remove_single_node(db_url, auth_token, id):\n",
    "    db.atomic(db.remove_node(id), db_url, auth_token)\n",
    "\n",
    "remove_single_node(db_url, auth_token, 2)"
   ]
  },
  {
   "cell_type": "code",
   "execution_count": 12,
   "metadata": {},
   "outputs": [
    {
     "name": "stderr",
     "output_type": "stream",
     "text": [
      "Traceback (most recent call last):\n",
      "  File \"/home/anubhuti/Desktop/simple-graph-db/libsql_graph_db/database.py\", line 513, in traverse\n",
      "thread '<unnamed>' panicked at /root/.cargo/registry/src/index.crates.io-6f17d22bba15001f/libsql-0.3.1/src/hrana/hyper.rs:88:9:\n",
      "there is no reactor running, must be called from the context of a Tokio 1.x runtime\n",
      "    return atomic(_traverse, db_url, auth_token)  # type: ignore\n",
      "           ^^^^^^^^^^^^^^^^^^^^^^^^^^^^^^^^^^^^^\n",
      "pyo3_runtime.PanicException: there is no reactor running, must be called from the context of a Tokio 1.x runtime\n"
     ]
    },
    {
     "data": {
      "text/plain": [
       "['3']"
      ]
     },
     "execution_count": 12,
     "metadata": {},
     "output_type": "execute_result"
    }
   ],
   "source": [
    "# To traverse the nodes\n",
    "def traverse_nodes(db_url, auth_token, src, tgt):\n",
    "    return db.traverse(db_url, auth_token, src, tgt)\n",
    "traverse_nodes(db_url, auth_token, 3, 2)"
   ]
  },
  {
   "cell_type": "code",
   "execution_count": 13,
   "metadata": {},
   "outputs": [
    {
     "name": "stderr",
     "output_type": "stream",
     "text": [
      "Traceback (most recent call last):\n",
      "  File \"/tmp/ipykernel_78534/2893161704.py\", line 3, in <module>\n",
      "thread '<unnamed>' panicked at /root/.cargo/registry/src/index.crates.io-6f17d22bba15001f/libsql-0.3.1/src/hrana/hyper.rs:88:9:\n",
      "there is no reactor running, must be called from the context of a Tokio 1.x runtime\n",
      "pyo3_runtime.PanicException: there is no reactor running, must be called from the context of a Tokio 1.x runtime\n"
     ]
    },
    {
     "name": "stdout",
     "output_type": "stream",
     "text": [
      "[{'name': 'Pema', 'age': '66', 'id': 3}]\n"
     ]
    }
   ],
   "source": [
    "# To generate a query clause and find nodes\n",
    "kv_name_like = db._generate_clause('name', predicate='LIKE')\n",
    "print(db.atomic(db.find_nodes([kv_name_like], ('Pe%',)), db_url, auth_token))\n"
   ]
  },
  {
   "cell_type": "code",
   "execution_count": 14,
   "metadata": {},
   "outputs": [
    {
     "ename": "TypeError",
     "evalue": "argument 'auth_token': 'function' object cannot be converted to 'PyString'",
     "output_type": "error",
     "traceback": [
      "\u001b[0;31m---------------------------------------------------------------------------\u001b[0m",
      "\u001b[0;31mTypeError\u001b[0m                                 Traceback (most recent call last)",
      "Cell \u001b[0;32mIn[14], line 4\u001b[0m\n\u001b[1;32m      2\u001b[0m \u001b[38;5;28;01mfrom\u001b[39;00m \u001b[38;5;21;01mlibsql_graph_db\u001b[39;00m \u001b[38;5;28;01mimport\u001b[39;00m visualizers\n\u001b[1;32m      3\u001b[0m raw_path \u001b[38;5;241m=\u001b[39m \u001b[38;5;124m\"\u001b[39m\u001b[38;5;124mtemp_path\u001b[39m\u001b[38;5;124m\"\u001b[39m \u001b[38;5;241m+\u001b[39m  \u001b[38;5;124m\"\u001b[39m\u001b[38;5;124msample1.dot\u001b[39m\u001b[38;5;124m\"\u001b[39m\n\u001b[0;32m----> 4\u001b[0m \u001b[43mvisualizers\u001b[49m\u001b[38;5;241;43m.\u001b[39;49m\u001b[43mgraphviz_visualize\u001b[49m\u001b[43m(\u001b[49m\u001b[43mdb_url\u001b[49m\u001b[43m,\u001b[49m\u001b[43m \u001b[49m\u001b[43mauth_token\u001b[49m\u001b[43m,\u001b[49m\u001b[43m \u001b[49m\u001b[43mraw_path\u001b[49m\u001b[43m,\u001b[49m\u001b[43m \u001b[49m\u001b[43m[\u001b[49m\u001b[38;5;124;43m'\u001b[39;49m\u001b[38;5;124;43m3\u001b[39;49m\u001b[38;5;124;43m'\u001b[39;49m\u001b[43m]\u001b[49m\u001b[43m)\u001b[49m\n",
      "File \u001b[0;32m~/Desktop/simple-graph-db/libsql_graph_db/visualizers.py:61\u001b[0m, in \u001b[0;36mgraphviz_visualize\u001b[0;34m(db_url, auth_token, dot_file, path, connections, format, exclude_node_keys, hide_node_key, node_kv, exclude_edge_keys, hide_edge_key, edge_kv)\u001b[0m\n\u001b[1;32m     59\u001b[0m \u001b[38;5;28;01mfor\u001b[39;00m i \u001b[38;5;129;01min\u001b[39;00m path:\n\u001b[1;32m     60\u001b[0m     ids\u001b[38;5;241m.\u001b[39mappend(\u001b[38;5;28mstr\u001b[39m(i))\n\u001b[0;32m---> 61\u001b[0m     \u001b[38;5;28;01mfor\u001b[39;00m edge \u001b[38;5;129;01min\u001b[39;00m \u001b[43mdb\u001b[49m\u001b[38;5;241;43m.\u001b[39;49m\u001b[43matomic\u001b[49m\u001b[43m(\u001b[49m\u001b[43mdb_url\u001b[49m\u001b[43m,\u001b[49m\u001b[43m \u001b[49m\u001b[43mauth_token\u001b[49m\u001b[43m,\u001b[49m\u001b[43m \u001b[49m\u001b[43mconnections\u001b[49m\u001b[43m(\u001b[49m\u001b[43mi\u001b[49m\u001b[43m)\u001b[49m\u001b[43m)\u001b[49m:  \u001b[38;5;66;03m# type: ignore\u001b[39;00m\n\u001b[1;32m     62\u001b[0m         \u001b[38;5;28mprint\u001b[39m(edge)\n\u001b[1;32m     63\u001b[0m         _, src, tgt, _ \u001b[38;5;241m=\u001b[39m edge\n",
      "File \u001b[0;32m~/Desktop/simple-graph-db/libsql_graph_db/database.py:59\u001b[0m, in \u001b[0;36matomic\u001b[0;34m(cursor_exec_fn, db_url, auth_token)\u001b[0m\n\u001b[1;32m     57\u001b[0m connection \u001b[38;5;241m=\u001b[39m \u001b[38;5;28;01mNone\u001b[39;00m\n\u001b[1;32m     58\u001b[0m \u001b[38;5;28;01mtry\u001b[39;00m:\n\u001b[0;32m---> 59\u001b[0m     connection \u001b[38;5;241m=\u001b[39m libsql\u001b[38;5;241m.\u001b[39mconnect(database\u001b[38;5;241m=\u001b[39mdb_url, auth_token\u001b[38;5;241m=\u001b[39mauth_token)\n\u001b[1;32m     60\u001b[0m     cursor \u001b[38;5;241m=\u001b[39m connection\u001b[38;5;241m.\u001b[39mcursor()\n\u001b[1;32m     61\u001b[0m     cursor\u001b[38;5;241m.\u001b[39mexecute(\u001b[38;5;124m\"\u001b[39m\u001b[38;5;124mPRAGMA foreign_keys = TRUE;\u001b[39m\u001b[38;5;124m\"\u001b[39m)\n",
      "\u001b[0;31mTypeError\u001b[0m: argument 'auth_token': 'function' object cannot be converted to 'PyString'"
     ]
    }
   ],
   "source": [
    "# Visualization\n",
    "from libsql_graph_db import visualizers\n",
    "raw_path = \"temp_path\" +  \"sample1.dot\"\n",
    "visualizers.graphviz_visualize(db_url, auth_token, raw_path, ['3'])"
   ]
  },
  {
   "cell_type": "code",
   "execution_count": null,
   "metadata": {},
   "outputs": [
    {
     "name": "stderr",
     "output_type": "stream",
     "text": [
      "Traceback (most recent call last):\n",
      "thread '<unnamed>' panicked at /root/.cargo/registry/src/index.crates.io-6f17d22bba15001f/libsql-0.3.1/src/hrana/hyper.rs  File \"/home/anubhuti/Desktop/simple-graph-db/libsql_graph_db/database.py\", line 491, in traverse\n",
      ":88:9:\n",
      "there is no reactor running, must be called from the context of a Tokio 1.x runtime\n",
      "    return atomic(db_url, auth_token, _traverse)\n",
      "           ^^^^^^^^^^^^^^^^^^^^^^^^^^^^^^^^^^^^^\n",
      "pyo3_runtime.PanicException: there is no reactor running, must be called from the context of a Tokio 1.x runtime\n"
     ]
    }
   ],
   "source": [
    "# Visualization with bodies\n",
    "\n",
    "raw_path = \"temp_path\" +  \"bodies.dot\"\n",
    "path_with_bodies = db.traverse(db_url, auth_token, 2, with_bodies=True)\n",
    "visualizers.graphviz_visualize_bodies(raw_path, path_with_bodies)"
   ]
  }
 ],
 "metadata": {
  "kernelspec": {
   "display_name": "simple-graph-sqlite-_HGANDYB-py3.11",
   "language": "python",
   "name": "python3"
  },
  "language_info": {
   "codemirror_mode": {
    "name": "ipython",
    "version": 3
   },
   "file_extension": ".py",
   "mimetype": "text/x-python",
   "name": "python",
   "nbconvert_exporter": "python",
   "pygments_lexer": "ipython3",
   "version": "3.11.7"
  }
 },
 "nbformat": 4,
 "nbformat_minor": 2
}
