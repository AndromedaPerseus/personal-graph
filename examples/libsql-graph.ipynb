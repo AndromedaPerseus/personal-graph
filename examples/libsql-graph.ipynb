{
 "cells": [
  {
   "cell_type": "code",
   "execution_count": 1,
   "metadata": {},
   "outputs": [
    {
     "name": "stderr",
     "output_type": "stream",
     "text": [
      "/home/anubhuti/.cache/pypoetry/virtualenvs/libsql-graph-db-_HGANDYB-py3.11/lib/python3.11/site-packages/tqdm/auto.py:21: TqdmWarning: IProgress not found. Please update jupyter and ipywidgets. See https://ipywidgets.readthedocs.io/en/stable/user_install.html\n",
      "  from .autonotebook import tqdm as notebook_tqdm\n"
     ]
    }
   ],
   "source": [
    "import os\n",
    "import sys\n",
    "\n",
    "parent_dir = os.path.abspath(os.path.join(os.pardir))\n",
    "sys.path.append(parent_dir)\n",
    "\n",
    "from libsql_graph_db import database as db\n",
    "from dotenv import load_dotenv # type: ignore\n",
    "\n",
    "load_dotenv()\n",
    "db_url = os.getenv(\"LIBSQL_URL\")\n",
    "auth_token = os.getenv(\"LIBSQL_AUTH_TOKEN\")"
   ]
  },
  {
   "cell_type": "code",
   "execution_count": 2,
   "metadata": {},
   "outputs": [
    {
     "name": "stderr",
     "output_type": "stream",
     "text": [
      "thread '<unnamed>' panicked at /root/.cargo/registry/src/index.crates.io-6f17d22bba15001f/libsql-0.3.1/src/hrana/hyper.rs:Traceback (most recent call last):\n",
      "  File \"/home/anubhuti/Desktop/simple-graph-db/libsql_graph_db/database.py\", line 62, in initialize\n",
      "    return atomic(db_url, auth_token, _init)\n",
      "           ^^^^^^^^^^^^^^^^^^^^^^^^^^^^^^^^^\n",
      "pyo3_runtime.PanicException: there is no reactor running, must be called from the context of a Tokio 1.x runtime\n",
      "88:9:\n",
      "there is no reactor running, must be called from the context of a Tokio 1.x runtime\n",
      "note: run with `RUST_BACKTRACE=1` environment variable to display a backtrace\n"
     ]
    }
   ],
   "source": [
    "# To initialze the database and establish a connection with tursodb\n",
    "db.initialize(db_url, auth_token)"
   ]
  },
  {
   "cell_type": "code",
   "execution_count": 4,
   "metadata": {},
   "outputs": [],
   "source": [
    "# To add a single node\n",
    "def insert_single_node(db_url, auth_token, new_node, new_node_id):\n",
    "    try:\n",
    "        db.atomic(db_url, auth_token, db.add_node(new_node, new_node_id))\n",
    "    except Exception as e:\n",
    "        assert False\n",
    "new_node = {'subject': 'ME', 'type': ['something', 'Btech']}\n",
    "new_node_id = '3'\n",
    "\n",
    "insert_single_node(db_url, auth_token, new_node, new_node_id)\n",
    "    "
   ]
  },
  {
   "cell_type": "code",
   "execution_count": 3,
   "metadata": {},
   "outputs": [],
   "source": [
    "# To add multiple nodes\n",
    "def bulk_insert_operations(db_url, auth_token, nodes):\n",
    "    ids = []\n",
    "    bodies = []\n",
    "    for id, body in nodes.items():\n",
    "        ids.append(id)\n",
    "        bodies.append(body)\n",
    "\n",
    "    # bulk add and confirm\n",
    "    db.atomic(db_url, auth_token, db.add_nodes(bodies, ids))\n",
    "\n",
    "new_nodes = {\n",
    "    '3': {'name': 'Jessy', 'age': '90'},\n",
    "    '4': {'name': 'Pema', 'age': '66'}\n",
    "}\n",
    "\n",
    "bulk_insert_operations(db_url, auth_token, new_nodes)"
   ]
  },
  {
   "cell_type": "code",
   "execution_count": 6,
   "metadata": {},
   "outputs": [
    {
     "name": "stderr",
     "output_type": "stream",
     "text": [
      "Traceback (most recent call last):\n",
      "  File \"/tmp/ipykernel_107091/1153528586.py\", line 3, in find_a_node\n",
      "pyo3_runtime.PanicException: there is no reactor running, must be called from the context of a Tokio 1.x runtime\n",
      "thread '<unnamed>' panicked at /root/.cargo/git/checkouts/libsql-311658d335deb3b1/9de3ccc/libsql/src/hrana/hyper.rs:88:9:\n",
      "there is no reactor running, must be called from the context of a Tokio 1.x runtime\n"
     ]
    },
    {
     "data": {
      "text/plain": [
       "{'name': 'Bill Gates',\n",
       " 'toy_name': 'soft toy',\n",
       " 'animal': 'lion',\n",
       " 'id': 'Bill Gates'}"
      ]
     },
     "execution_count": 6,
     "metadata": {},
     "output_type": "execute_result"
    }
   ],
   "source": [
    "# To find for a node\n",
    "def find_a_node(db_url, auth_token, node):\n",
    "            return db.atomic(db_url, auth_token, db.find_node(node))\n",
    "\n",
    "\n",
    "find_a_node(db_url, auth_token, 'Bill Gates')"
   ]
  },
  {
   "cell_type": "code",
   "execution_count": 10,
   "metadata": {},
   "outputs": [
    {
     "name": "stderr",
     "output_type": "stream",
     "text": [
      "Traceback (most recent call last):\n",
      "  File \"/tmp/ipykernel_107091/3974166414.py\", line 3, in find_bulk_node\n",
      "thread '<unnamed>' panicked at /root/.cargo/git/checkouts/libsql-311658d335deb3b1/9de3ccc/libsql/src/hrana/hyper.rs:88:9:\n",
      "there is no reactor running, must be called from the context of a Tokio 1.x runtime\n",
      "pyo3_runtime.PanicException: there is no reactor running, must be called from the context of a Tokio 1.x runtime\n"
     ]
    },
    {
     "data": {
      "text/plain": [
       "{'name': 'Stanley', 'age': '20', 'id': 'Student'}"
      ]
     },
     "execution_count": 10,
     "metadata": {},
     "output_type": "execute_result"
    }
   ],
   "source": [
    "# To find multiple nodes\n",
    "def find_bulk_node(db_url, auth_token, node):\n",
    "        return db.atomic(db_url, auth_token, db.find_node(node))\n",
    "\n",
    "\n",
    "\n",
    "find_bulk_node(db_url, auth_token, 'Student')"
   ]
  },
  {
   "cell_type": "code",
   "execution_count": 12,
   "metadata": {},
   "outputs": [],
   "source": [
    "# For bulk upsert: Update and insert\n",
    "def bulk_upsert(db_url, auth_token, nodes):\n",
    "    ids = []\n",
    "    bodies = []\n",
    "    for id, body in nodes.items():\n",
    "        ids.append(id)\n",
    "        bodies.append(body)\n",
    "\n",
    "    db.atomic(db_url, auth_token, db.upsert_nodes(bodies, ids))\n",
    "nodes = {\n",
    "    'Student': {'name': 'Stanley', 'age': '30'},\n",
    "    'Professor': {'name': 'James', 'age': '35'}\n",
    "}\n",
    "\n",
    "bulk_upsert(db_url, auth_token, nodes)\n",
    "    "
   ]
  },
  {
   "cell_type": "code",
   "execution_count": 5,
   "metadata": {},
   "outputs": [
    {
     "name": "stdout",
     "output_type": "stream",
     "text": [
      "[0.0650622770190239, -0.0196066927164793, 0.003945534583181143, 0.038847822695970535, -0.06490755826234818, -0.003531594527885318, 0.15659809112548828, 0.016752729192376137, 0.04389641061425209, 0.023750219494104385, 0.03643007576465607, -0.01431016530841589, 0.007509519346058369, 0.021525055170059204, 0.003836605232208967, -0.010733508504927158, 0.03461679443717003, 0.004589764401316643, -0.07079921662807465, -0.05220963433384895, -0.07423219829797745, -0.017062578350305557, 0.049803707748651505, 0.03443034365773201, -0.02446500025689602, -0.05603032186627388, -0.03647678345441818, -0.0007288364577107131, -0.023181037977337837, -0.11885038763284683, -0.06101895496249199, 0.02527826651930809, -0.017471902072429657, -0.01479726005345583, -0.030292345210909843, -0.01297658123075962, 0.035142406821250916, 0.03760885074734688, 0.07417608052492142, -0.017859525978565216, -0.028159335255622864, -0.11491086333990097, -0.026055321097373962, -0.01659213937819004, 0.035139717161655426, -0.01094922423362732, 0.03417237475514412, 0.006780536379665136, 0.06257320940494537, 0.045765168964862823, -0.02729245088994503, 0.014557331800460815, -0.04287119582295418, 0.04933306947350502, -0.02781527489423752, 0.04067040979862213, -0.018731748685240746, -0.04456077143549919, 0.048477496951818466, -0.08503962308168411, -0.06706327944993973, 0.054733678698539734, 0.06650400161743164, 0.008250080980360508, -0.02121100202202797, -0.016049198806285858, -0.020304033532738686, -0.016279814764857292, 0.057236332446336746, -0.05774611607193947, 0.017167970538139343, -0.032159287482500076, -0.010991147719323635, -0.007415663916617632, 0.020388487726449966, -0.07004617899656296, 0.039255112409591675, -0.010846095159649849, 0.07622702419757843, 0.028261659666895866, 0.019149603322148323, -0.025139927864074707, 0.016589418053627014, -0.0006545834476128221, -0.05831989645957947, 0.05477875843644142, 0.008467845618724823, -0.0245358869433403, -0.06087394431233406, -0.06356137245893478, -0.0706394836306572, -0.024561425670981407, 0.11534351110458374, 0.059979766607284546, -0.013374494388699532, -0.03464595600962639, 0.06710398197174072, -0.046313486993312836, -0.08013486117124557, 0.2566877007484436, 0.026450609788298607, 0.012868428602814674, 0.06076892092823982, 0.0018628061516210437, 0.09322776645421982, -0.02724822796881199, 0.035414304584264755, -0.05139532312750816, 0.032185666263103485, -0.05359678342938423, -0.0007745407056063414, -0.09694886207580566, -0.012490990571677685, 0.0018456936813890934, -0.001968384487554431, 0.04503060132265091, -0.02021213434636593, 0.0005509912734851241, 0.014231101609766483, 0.05808611959218979, 0.10026057809591293, 0.04029561206698418, -0.020735416561365128, 0.028918171301484108, -0.037543609738349915, -0.044898923486471176, -0.017746638506650925, -3.840190535948668e-33, 0.0030173968989402056, -0.03952498361468315, 0.05637038126587868, 0.0036842888221144676, 0.12884920835494995, 0.04675460234284401, 0.0035345014184713364, -0.03473425656557083, -0.036294810473918915, 0.007360066287219524, -0.062098972499370575, -0.002366476459428668, -0.1093815490603447, 0.03769488260149956, 0.03571956604719162, 0.11018131673336029, -0.023451194167137146, -0.016669459640979767, -0.0041719540022313595, 0.024594450369477272, -0.033796247094869614, 0.0680021271109581, -0.03565941005945206, 0.051892854273319244, 0.036606281995773315, -0.04973312094807625, -0.012661561369895935, -0.026689503341913223, -0.011080383323132992, 0.048265475779771805, 0.10122668743133545, 0.036354996263980865, 0.036957431584596634, -0.0046016802079975605, -0.025732968002557755, -0.1693505048751831, -0.04359545558691025, -0.04665440693497658, 0.02764998748898506, 0.07836325466632843, 0.07326342910528183, -0.06488773226737976, 0.007761739194393158, 0.07109145075082779, -0.037487030029296875, -0.044150885194540024, 0.05072975158691406, 0.03668278083205223, -0.07666133344173431, 0.07465895265340805, 0.039459921419620514, 0.027418166399002075, -0.08207777887582779, 0.023683946579694748, -0.036219704896211624, -0.0818672850728035, 0.0018409930635243654, -0.02384638786315918, -0.05768842250108719, 0.06601770967245102, -0.04661617428064346, 0.04827316477894783, 0.03417466953396797, -0.010819126851856709, 0.005782019812613726, -0.10643341392278671, 0.0013955533504486084, 0.011257057078182697, -0.008861695416271687, -0.023713143542408943, -0.05942952260375023, -0.025074906647205353, 0.02525027096271515, -0.11008977144956589, -0.019109347835183144, -0.03573409467935562, 0.014123490080237389, 0.03200913220643997, -0.03229045495390892, -0.0865958034992218, 0.014771864749491215, 0.06993831694126129, -0.05604761093854904, -0.007932892069220543, -0.08206991851329803, 0.00502424081787467, 0.004565951880067587, -0.09479433298110962, 0.018584024161100388, -0.026186684146523476, -0.05367452651262283, 0.05169083923101425, 0.014596786350011826, -0.008460971526801586, -0.0006580959889106452, 4.228726316383974e-33, -0.05986807867884636, -0.008151416666805744, -0.018770039081573486, 0.13001152873039246, 0.07124307751655579, -0.05339893326163292, 0.049089640378952026, -0.0565350241959095, 0.05565894767642021, 0.02783937007188797, -0.07670847326517105, -0.05973974987864494, 0.03500375524163246, 0.0015616947785019875, 0.11981762945652008, 0.057490915060043335, 0.06270837783813477, -0.04792919382452965, 0.02764858305454254, 0.008776073344051838, -0.07093784958124161, -0.03866478428244591, -0.04943082109093666, -0.018817609176039696, 0.0037444541230797768, 0.05754534900188446, 0.05485871806740761, -0.003675983287394047, 0.06065511703491211, 0.005061907693743706, -0.023466207087039948, -0.020156269893050194, 0.025451064109802246, 0.030359512194991112, -0.021345384418964386, 0.032046206295490265, 0.03275980055332184, -0.0014569018967449665, -0.05002555251121521, -0.06430191546678543, 0.05126187205314636, -0.039284367114305496, -0.028481775894761086, 0.0722220242023468, 0.02872336469590664, 0.0069288089871406555, 0.02614765428006649, 0.06756110489368439, 0.022048601880669594, 0.015520979650318623, -0.005806841421872377, -0.10448010265827179, 0.019268346950411797, -0.021236849948763847, 0.012094047851860523, 0.06318323314189911, -0.03209701180458069, 0.04522117227315903, 0.03068162500858307, -0.014298435300588608, 0.004931821953505278, 0.05708290636539459, 0.0785602256655693, 0.058544229716062546, -0.062018536031246185, -0.027211198583245277, -0.018853869289159775, -0.024995306506752968, 0.01573105901479721, -0.043418508023023605, 0.06392410397529602, 0.07660066336393356, 0.01646328531205654, 0.00470793666318059, -0.0058154817670583725, 0.09535381942987442, -0.03499549254775047, -0.0146950026974082, -0.014744647778570652, -0.050576623529195786, -0.10751504451036453, -0.04900893568992615, -0.0032575568184256554, 0.025026835501194, -0.020463379099965096, 0.013255275785923004, 0.021445848047733307, 0.11064416915178299, 0.039312753826379776, 0.0115518132224679, 0.039528053253889084, -0.01443387195467949, -0.06741829961538315, -0.011541532352566719, -0.019968193024396896, -1.1503021646319667e-08, 0.014459429308772087, 0.008385077118873596, -0.0776526927947998, 0.04184321314096451, 0.1043984591960907, 0.00525266956537962, 0.04546104371547699, -0.021886128932237625, -0.007381101604551077, 0.08426406234502792, 0.034942056983709335, 0.04295075684785843, 0.0786013975739479, -0.01575814001262188, 0.07691732794046402, 0.036179278045892715, 0.004870336968451738, 0.02844606153666973, -0.014959423802793026, 0.04108965024352074, -0.04888294264674187, 0.0462707094848156, 0.04935930296778679, -0.0074817100539803505, -0.05508033558726311, -0.04726831614971161, -0.03260157257318497, 0.10805309563875198, -0.04634903743863106, 0.017351020127534866, 0.001610049745067954, 0.04426633566617966, -0.10071153938770294, -0.07516789436340332, 0.04787629470229149, -0.09578463435173035, -0.03269979730248451, -0.013279221020638943, 0.03396867215633392, -0.007590419612824917, 0.048800352960824966, 0.06451902538537979, 0.08914065361022949, -0.09051341563463211, -0.04786645248532295, -0.04640693590044975, 0.03644587844610214, -0.11328395456075668, 0.02379448153078556, -0.03454156592488289, -0.04917898401618004, 0.01631145551800728, 0.02848857454955578, 0.09072769433259964, -0.01020581740885973, 0.0445735864341259, -0.026297692209482193, -0.001943195820786059, -0.050464920699596405, 0.016278734430670738, 0.027121499180793762, 0.008862479589879513, 0.006072630640119314, -0.01920468546450138]\n"
     ]
    }
   ],
   "source": [
    "# For single upsert: Update and insert a node\n",
    "def single_upsert(db_url, auth_token, body, id):\n",
    "    \n",
    "    db.atomic(db_url, auth_token, db.upsert_node(id, body))\n",
    "\n",
    "body = {'name': 'Bunny', 'age': '50'}\n",
    "id = '2'\n",
    "single_upsert(db_url, auth_token, body, id)"
   ]
  },
  {
   "cell_type": "code",
   "execution_count": 4,
   "metadata": {},
   "outputs": [],
   "source": [
    "# Bulk connect and confirm\n",
    "def bulk_node_connect(db_url, auth_token, edges):\n",
    "    sources = []\n",
    "    targets = []\n",
    "    properties = []\n",
    "    for src, tgts in edges.items():\n",
    "        for target in tgts:\n",
    "            tgt, label = target\n",
    "            sources.append(src)\n",
    "            targets.append(tgt)\n",
    "            if label:\n",
    "                properties.append(label)\n",
    "            else:\n",
    "                properties.append({})\n",
    "        \n",
    "\n",
    "    db.atomic(db_url, auth_token, db.connect_many_nodes(\n",
    "        sources, targets, properties))\n",
    "    \n",
    "edges = {\n",
    "    '1': [('Bill Gates', {'wealth':'1000 Billion'})],\n",
    "    '2': [('Professor', {'balance': '1000 rupees'})]\n",
    "}\n",
    "\n",
    "bulk_node_connect(db_url, auth_token, edges)\n",
    "    \n"
   ]
  },
  {
   "cell_type": "code",
   "execution_count": 15,
   "metadata": {},
   "outputs": [],
   "source": [
    "# Single connect and confirm\n",
    "def single_node_connect(db_url, auth_token, sources, target,  property):\n",
    "    db.atomic(db_url, auth_token, db.connect_nodes(\n",
    "        source, target,  property))\n",
    "    \n",
    "source = 'Engineer'\n",
    "target = 'Bill Gates'\n",
    "property = {'package': '100000 lpa'}\n",
    "\n",
    "single_node_connect(db_url, auth_token, source, target, property)"
   ]
  },
  {
   "cell_type": "code",
   "execution_count": 16,
   "metadata": {},
   "outputs": [],
   "source": [
    "# To remove nodes\n",
    "def remove_bulk_nodes(db_url, auth_token, ids):\n",
    "        db.atomic(db_url, auth_token,  db.remove_nodes(ids))\n",
    "\n",
    "ids = ['Student']\n",
    "\n",
    "remove_bulk_nodes(db_url, auth_token, ids)\n"
   ]
  },
  {
   "cell_type": "code",
   "execution_count": 4,
   "metadata": {},
   "outputs": [],
   "source": [
    "# To remove a single node\n",
    "def remove_single_node(db_url, auth_token, id):\n",
    "    db.atomic(db_url, auth_token, db.remove_node(id))\n",
    "\n",
    "remove_single_node(db_url, auth_token, 'Professor')"
   ]
  },
  {
   "cell_type": "code",
   "execution_count": 17,
   "metadata": {},
   "outputs": [
    {
     "name": "stderr",
     "output_type": "stream",
     "text": [
      "Traceback (most recent call last):\n",
      "  File \"/home/anubhuti/Desktop/simple-graph-db/src/simple_graph_sqlite/database.py\", line 234, in traverse\n",
      "    return atomic(db_url, auth_token, _traverse)\n",
      "           ^^^^^^^^^^^^^^^^^^^^^^^^^^^^^^^^^^^^^\n",
      "pyo3_runtime.PanicException: there is no reactor running, must be called from the context of a Tokio 1.x runtime\n",
      "thread '<unnamed>' panicked at /root/.cargo/git/checkouts/libsql-311658d335deb3b1/9de3ccc/libsql/src/hrana/hyper.rs:88:9:\n",
      "there is no reactor running, must be called from the context of a Tokio 1.x runtime\n"
     ]
    },
    {
     "name": "stdout",
     "output_type": "stream",
     "text": [
      "Bill Gates\n",
      "Here Engineer\n",
      "Here Bill Gates\n",
      "Here Professor\n"
     ]
    },
    {
     "data": {
      "text/plain": [
       "['Engineer', 'Bill Gates', 'Professor']"
      ]
     },
     "execution_count": 17,
     "metadata": {},
     "output_type": "execute_result"
    }
   ],
   "source": [
    "# To traverse the nodes\n",
    "def traverse_nodes(db_url, auth_token, src, tgt=None):\n",
    "    return db.traverse(db_url, auth_token, src, tgt)\n",
    "traverse_nodes(db_url, auth_token, 'Engineer', 'Bill Gates')"
   ]
  },
  {
   "cell_type": "code",
   "execution_count": 18,
   "metadata": {},
   "outputs": [
    {
     "name": "stderr",
     "output_type": "stream",
     "text": [
      "Traceback (most recent call last):\n",
      "  File \"/tmp/ipykernel_107091/1985963463.py\", line 3, in <module>\n",
      "pyo3_runtime.PanicException: there is no reactor running, must be called from the context of a Tokio 1.x runtime\n"
     ]
    },
    {
     "name": "stdout",
     "output_type": "stream",
     "text": [
      "[{'name': 'Bill Gates', 'toy_name': 'soft toy', 'animal': 'lion', 'id': 'Bill Gates'}]\n"
     ]
    },
    {
     "name": "stderr",
     "output_type": "stream",
     "text": [
      "thread '<unnamed>' panicked at /root/.cargo/git/checkouts/libsql-311658d335deb3b1/9de3ccc/libsql/src/hrana/hyper.rs:88:9:\n",
      "there is no reactor running, must be called from the context of a Tokio 1.x runtime\n"
     ]
    }
   ],
   "source": [
    "# To generate a query clause\n",
    "kv_name_like = db._generate_clause('name', predicate='LIKE')\n",
    "print(db.atomic(db_url, auth_token, db.find_nodes([kv_name_like], ('Bill%',))))\n"
   ]
  },
  {
   "cell_type": "code",
   "execution_count": 5,
   "metadata": {},
   "outputs": [
    {
     "name": "stderr",
     "output_type": "stream",
     "text": [
      "Traceback (most recent call last):\n",
      "thread '<unnamed>' panicked at /root/.cargo/registry/src/index.crates.io-6f17d22bba15001f/libsql-0.3.1/src/hrana/hyper.rs:88:9:\n",
      "there is no reactor running, must be called from the context of a Tokio 1.x runtime\n",
      "  File \"/home/anubhuti/Desktop/simple-graph-db/libsql_graph_db/visualizers.py\", line 50, in graphviz_visualize\n",
      "    for edge in db.atomic(db_url, auth_token, connections(i)):\n",
      "                ^^^^^^^^^^^^^^^^^^^^^^^^^^^^^^^^^^^^^^^^^^^^^\n",
      "pyo3_runtime.PanicException: there is no reactor running, must be called from the context of a Tokio 1.x runtime\n",
      "Traceback (most recent call last):\n",
      "thread '<unnamed>' panicked at /root/.cargo/registry/src/index.crates.io-6f17d22bba15001f/libsql-0.3.1/src/hrana/hyper.rs  File \"/home/anubhuti/Desktop/simple-graph-db/libsql_graph_db/visualizers.py\", line 50, in graphviz_visualize\n",
      "    for edge in db.atomic(db_url, auth_token, connections(i)):\n",
      "                ^^^^^^^^^^^^^^^^^^^^^^^^^^^^^^^^^^^^^^^^^^^^^\n",
      "pyo3_runtime.PanicException: there is no reactor running, must be called from the context of a Tokio 1.x runtime\n",
      ":88:9:\n",
      "there is no reactor running, must be called from the context of a Tokio 1.x runtime\n",
      "Traceback (most recent call last):\n",
      "thread '<unnamed>' panicked at /root/.cargo/registry/src/index.crates.io-6f17d22bba15001f/libsql-0.3.1/src/hrana/hyper.rs:88:9:\n",
      "there is no reactor running, must be called from the context of a Tokio 1.x runtime\n",
      "  File \"/home/anubhuti/Desktop/simple-graph-db/libsql_graph_db/visualizers.py\", line 63, in graphviz_visualize\n",
      "    node = db.atomic(db_url, auth_token, db.find_node(i))\n",
      "           ^^^^^^^^^^^^^^^^^^^^^^^^^^^^^^^^^^^^^^^^^^^^^^\n",
      "pyo3_runtime.PanicException: there is no reactor running, must be called from the context of a Tokio 1.x runtime\n",
      "Traceback (most recent call last):\n",
      "  File \"/home/anubhuti/Desktop/simple-graph-db/libsql_graph_db/visualizers.py\", line 66, in graphviz_visualize\n",
      "thread '<unnamed>' panicked at /root/.cargo/registry/src/index.crates.io-6f17d22bba15001f/libsql-0.3.1/src/hrana/hyper.rs:88:9:\n",
      "there is no reactor running, must be called from the context of a Tokio 1.x runtime\n",
      "    for edge in db.atomic(db_url, auth_token, connections(i)):\n",
      "                ^^^^^^^^^^^^^^^^^^^^^^^^^^^^^^^^^^^^^^^^^^^^^\n",
      "pyo3_runtime.PanicException: there is no reactor running, must be called from the context of a Tokio 1.x runtime\n",
      "Traceback (most recent call last):\n",
      "thread '<unnamed>' panicked at /root/.cargo/registry/src/index.crates.io-6f17d22bba15001f/libsql-0.3.1/src/hrana/hyper.rs:88  File \"/home/anubhuti/Desktop/simple-graph-db/libsql_graph_db/visualizers.py\", line 63, in graphviz_visualize\n",
      ":9:\n",
      "there is no reactor running, must be called from the context of a Tokio 1.x runtime\n",
      "    node = db.atomic(db_url, auth_token, db.find_node(i))\n",
      "           ^^^^^^^^^^^^^^^^^^^^^^^^^^^^^^^^^^^^^^^^^^^^^^\n",
      "pyo3_runtime.PanicException: there is no reactor running, must be called from the context of a Tokio 1.x runtime\n",
      "Traceback (most recent call last):\n",
      "  File \"/home/anubhuti/Desktop/simple-graph-db/libsql_graph_db/visualizers.py\", line 66, in graphviz_visualize\n",
      "thread '<unnamed>' panicked at /root/.cargo/registry/src/index.crates.io-6f17d22bba15001f/libsql-0.3.1/src/hrana/hyper.rs:88:9:\n",
      "there is no reactor running, must be called from the context of a Tokio 1.x runtime\n",
      "    for edge in db.atomic(db_url, auth_token, connections(i)):\n",
      "                ^^^^^^^^^^^^^^^^^^^^^^^^^^^^^^^^^^^^^^^^^^^^^\n",
      "pyo3_runtime.PanicException: there is no reactor running, must be called from the context of a Tokio 1.x runtime\n"
     ]
    }
   ],
   "source": [
    "# Visualization\n",
    "from libsql_graph_db import visualizers\n",
    "raw_path = \"temp_path\" +  \"sample.dot\"\n",
    "visualizers.graphviz_visualize(db_url, auth_token, raw_path, ['1', '2'])"
   ]
  },
  {
   "cell_type": "code",
   "execution_count": 20,
   "metadata": {},
   "outputs": [
    {
     "name": "stderr",
     "output_type": "stream",
     "text": [
      "Traceback (most recent call last):\n",
      "thread '<unnamed>  File \"/home/anubhuti/Desktop/simple-graph-db/src/simple_graph_sqlite/database.py\", line 234, in traverse\n",
      "' panicked at /root/.cargo/git/checkouts/libsql-311658d335deb3b1/9de3ccc/libsql/src/hrana/hyper.rs:88:9:\n",
      "there is no reactor running, must be called from the context of a Tokio 1.x runtime\n",
      "    return atomic(db_url, auth_token, _traverse)\n",
      "           ^^^^^^^^^^^^^^^^^^^^^^^^^^^^^^^^^^^^^\n",
      "pyo3_runtime.PanicException: there is no reactor running, must be called from the context of a Tokio 1.x runtime\n"
     ]
    },
    {
     "name": "stdout",
     "output_type": "stream",
     "text": [
      "Bill Gates\n",
      "Here Engineer\n",
      "Here Bill Gates\n",
      "Here Bill Gates\n",
      "Here Bill Gates\n",
      "Here Professor\n",
      "Here Engineer\n",
      "Here Engineer\n",
      "Here Professor\n",
      "Here Professor\n",
      "Here Bill Gates\n",
      "Here Bill Gates\n"
     ]
    }
   ],
   "source": [
    "# Visualization with bodies\n",
    "\n",
    "raw_path = \"temp_path\" +  \"bodies.dot\"\n",
    "path_with_bodies = db.traverse(db_url, auth_token, 'Engineer', 'Bill Gates', with_bodies=True)\n",
    "visualizers.graphviz_visualize_bodies(raw_path, path_with_bodies)"
   ]
  }
 ],
 "metadata": {
  "kernelspec": {
   "display_name": "simple-graph-sqlite-_HGANDYB-py3.11",
   "language": "python",
   "name": "python3"
  },
  "language_info": {
   "codemirror_mode": {
    "name": "ipython",
    "version": 3
   },
   "file_extension": ".py",
   "mimetype": "text/x-python",
   "name": "python",
   "nbconvert_exporter": "python",
   "pygments_lexer": "ipython3",
   "version": "3.11.7"
  }
 },
 "nbformat": 4,
 "nbformat_minor": 2
}
