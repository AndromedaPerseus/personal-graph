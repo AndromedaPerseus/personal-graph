{
 "cells": [
  {
   "cell_type": "code",
   "execution_count": 11,
   "metadata": {},
   "outputs": [],
   "source": [
    "import os\n",
    "import sys\n",
    "\n",
    "parent_dir = os.path.abspath(os.path.join(os.pardir))\n",
    "sys.path.append(parent_dir)\n",
    "\n",
    "from libsql_graph_db import database as db\n",
    "from dotenv import load_dotenv # type: ignore\n",
    "\n",
    "load_dotenv()\n",
    "db_url = os.getenv(\"LIBSQL_URL\")\n",
    "auth_token = os.getenv(\"LIBSQL_AUTH_TOKEN\")"
   ]
  },
  {
   "cell_type": "code",
   "execution_count": 12,
   "metadata": {},
   "outputs": [
    {
     "name": "stderr",
     "output_type": "stream",
     "text": [
      "thread '<unnamed>' panicked at /root/.cargo/git/checkouts/libsql-311658d335deb3b1/9de3ccc/libsql/src/hrana/hyper.rs:88:9:\n",
      "there is no reactor running, must be called from the context of a Tokio 1.x runtime\n",
      "note: run with `RUST_BACKTRACE=1` environment variable to display a backtrace\n",
      "Traceback (most recent call last):\n",
      "  File \"/home/anubhuti/Desktop/simple-graph-db/libsql_graph_db/database.py\", line 59, in initialize\n",
      "    return atomic(db_url, auth_token, _init)\n",
      "           ^^^^^^^^^^^^^^^^^^^^^^^^^^^^^^^^^\n",
      "pyo3_runtime.PanicException: there is no reactor running, must be called from the context of a Tokio 1.x runtime\n"
     ]
    }
   ],
   "source": [
    "# To initialze the database and establish a connection with tursodb\n",
    "db.initialize(db_url, auth_token)"
   ]
  },
  {
   "cell_type": "code",
   "execution_count": 13,
   "metadata": {},
   "outputs": [],
   "source": [
    "# To add a single node\n",
    "def insert_single_node(db_url, auth_token, new_node, new_node_id):\n",
    "    try:\n",
    "        db.atomic(db_url, auth_token, db.add_node(new_node, new_node_id))\n",
    "    except Exception as e:\n",
    "        assert False\n",
    "new_node = {'subject': 'Civil', 'type': ['person', 'loves physics']}\n",
    "new_node_id = 'Student'\n",
    "\n",
    "insert_single_node(db_url, auth_token, new_node, new_node_id)\n",
    "    "
   ]
  },
  {
   "cell_type": "code",
   "execution_count": 3,
   "metadata": {},
   "outputs": [],
   "source": [
    "# To add multiple nodes\n",
    "def bulk_insert_operations(db_url, auth_token, nodes):\n",
    "    ids = []\n",
    "    bodies = []\n",
    "    for id, body in nodes.items():\n",
    "        ids.append(id)\n",
    "        bodies.append(body)\n",
    "\n",
    "    # bulk add and confirm\n",
    "    db.atomic(db_url, auth_token, db.add_nodes(bodies, ids))\n",
    "\n",
    "new_nodes = {\n",
    "    'Student': {'name': 'Stanley', 'age': '20'},\n",
    "    'Principal': {'name': 'Jenny', 'age': '55'}\n",
    "}\n",
    "\n",
    "bulk_insert_operations(db_url, auth_token, new_nodes)"
   ]
  },
  {
   "cell_type": "code",
   "execution_count": 6,
   "metadata": {},
   "outputs": [
    {
     "name": "stderr",
     "output_type": "stream",
     "text": [
      "Traceback (most recent call last):\n",
      "  File \"/tmp/ipykernel_107091/1153528586.py\", line 3, in find_a_node\n",
      "pyo3_runtime.PanicException: there is no reactor running, must be called from the context of a Tokio 1.x runtime\n",
      "thread '<unnamed>' panicked at /root/.cargo/git/checkouts/libsql-311658d335deb3b1/9de3ccc/libsql/src/hrana/hyper.rs:88:9:\n",
      "there is no reactor running, must be called from the context of a Tokio 1.x runtime\n"
     ]
    },
    {
     "data": {
      "text/plain": [
       "{'name': 'Bill Gates',\n",
       " 'toy_name': 'soft toy',\n",
       " 'animal': 'lion',\n",
       " 'id': 'Bill Gates'}"
      ]
     },
     "execution_count": 6,
     "metadata": {},
     "output_type": "execute_result"
    }
   ],
   "source": [
    "# To find for a node\n",
    "def find_a_node(db_url, auth_token, node):\n",
    "            return db.atomic(db_url, auth_token, db.find_node(node))\n",
    "\n",
    "\n",
    "find_a_node(db_url, auth_token, 'Bill Gates')"
   ]
  },
  {
   "cell_type": "code",
   "execution_count": 10,
   "metadata": {},
   "outputs": [
    {
     "name": "stderr",
     "output_type": "stream",
     "text": [
      "Traceback (most recent call last):\n",
      "  File \"/tmp/ipykernel_107091/3974166414.py\", line 3, in find_bulk_node\n",
      "thread '<unnamed>' panicked at /root/.cargo/git/checkouts/libsql-311658d335deb3b1/9de3ccc/libsql/src/hrana/hyper.rs:88:9:\n",
      "there is no reactor running, must be called from the context of a Tokio 1.x runtime\n",
      "pyo3_runtime.PanicException: there is no reactor running, must be called from the context of a Tokio 1.x runtime\n"
     ]
    },
    {
     "data": {
      "text/plain": [
       "{'name': 'Stanley', 'age': '20', 'id': 'Student'}"
      ]
     },
     "execution_count": 10,
     "metadata": {},
     "output_type": "execute_result"
    }
   ],
   "source": [
    "# To find multiple nodes\n",
    "def find_bulk_node(db_url, auth_token, node):\n",
    "        return db.atomic(db_url, auth_token, db.find_node(node))\n",
    "\n",
    "\n",
    "\n",
    "find_bulk_node(db_url, auth_token, 'Student')"
   ]
  },
  {
   "cell_type": "code",
   "execution_count": 12,
   "metadata": {},
   "outputs": [],
   "source": [
    "# For bulk upsert: Update and insert\n",
    "def bulk_upsert(db_url, auth_token, nodes):\n",
    "    ids = []\n",
    "    bodies = []\n",
    "    for id, body in nodes.items():\n",
    "        ids.append(id)\n",
    "        bodies.append(body)\n",
    "\n",
    "    db.atomic(db_url, auth_token, db.upsert_nodes(bodies, ids))\n",
    "nodes = {\n",
    "    'Student': {'name': 'Stanley', 'age': '30'},\n",
    "    'Professor': {'name': 'James', 'age': '35'}\n",
    "}\n",
    "\n",
    "bulk_upsert(db_url, auth_token, nodes)\n",
    "    "
   ]
  },
  {
   "cell_type": "code",
   "execution_count": 13,
   "metadata": {},
   "outputs": [
    {
     "name": "stdout",
     "output_type": "stream",
     "text": [
      "{'name': 'Bob', 'age': '23'} Student\n"
     ]
    }
   ],
   "source": [
    "# For single upsert: Update and insert a node\n",
    "def single_upsert(db_url, auth_token, body, id):\n",
    "    print(body, id)\n",
    "    \n",
    "    db.atomic(db_url, auth_token, db.upsert_node(id, body))\n",
    "\n",
    "body = {'name': 'Bob', 'age': '23'}\n",
    "id = 'Student'\n",
    "single_upsert(db_url, auth_token, body, id)"
   ]
  },
  {
   "cell_type": "code",
   "execution_count": 14,
   "metadata": {},
   "outputs": [],
   "source": [
    "# Bulk connect and confirm\n",
    "def bulk_node_connect(db_url, auth_token, edges):\n",
    "    sources = []\n",
    "    targets = []\n",
    "    properties = []\n",
    "    for src, tgts in edges.items():\n",
    "        for target in tgts:\n",
    "            tgt, label = target\n",
    "            sources.append(src)\n",
    "            targets.append(tgt)\n",
    "            if label:\n",
    "                properties.append(label)\n",
    "            else:\n",
    "                properties.append({})\n",
    "        \n",
    "\n",
    "    db.atomic(db_url, auth_token, db.connect_many_nodes(\n",
    "        sources, targets, properties))\n",
    "    \n",
    "edges = {\n",
    "    'Professor': [('Bill Gates', {'wealth':'1000 Billion'})],\n",
    "    'Bill Gates': [('Professor', {'balance': '1000 rupees'})]\n",
    "}\n",
    "\n",
    "bulk_node_connect(db_url, auth_token, edges)\n",
    "    \n"
   ]
  },
  {
   "cell_type": "code",
   "execution_count": 15,
   "metadata": {},
   "outputs": [],
   "source": [
    "# Single connect and confirm\n",
    "def single_node_connect(db_url, auth_token, sources, target,  property):\n",
    "    db.atomic(db_url, auth_token, db.connect_nodes(\n",
    "        source, target,  property))\n",
    "    \n",
    "source = 'Engineer'\n",
    "target = 'Bill Gates'\n",
    "property = {'package': '100000 lpa'}\n",
    "\n",
    "single_node_connect(db_url, auth_token, source, target, property)"
   ]
  },
  {
   "cell_type": "code",
   "execution_count": 16,
   "metadata": {},
   "outputs": [],
   "source": [
    "# To remove nodes\n",
    "def remove_bulk_nodes(db_url, auth_token, ids):\n",
    "        db.atomic(db_url, auth_token,  db.remove_nodes(ids))\n",
    "\n",
    "ids = ['Student']\n",
    "\n",
    "remove_bulk_nodes(db_url, auth_token, ids)\n"
   ]
  },
  {
   "cell_type": "code",
   "execution_count": 4,
   "metadata": {},
   "outputs": [],
   "source": [
    "# To remove a single node\n",
    "def remove_single_node(db_url, auth_token, id):\n",
    "    db.atomic(db_url, auth_token, db.remove_node(id))\n",
    "\n",
    "remove_single_node(db_url, auth_token, 'Professor')"
   ]
  },
  {
   "cell_type": "code",
   "execution_count": 17,
   "metadata": {},
   "outputs": [
    {
     "name": "stderr",
     "output_type": "stream",
     "text": [
      "Traceback (most recent call last):\n",
      "  File \"/home/anubhuti/Desktop/simple-graph-db/src/simple_graph_sqlite/database.py\", line 234, in traverse\n",
      "    return atomic(db_url, auth_token, _traverse)\n",
      "           ^^^^^^^^^^^^^^^^^^^^^^^^^^^^^^^^^^^^^\n",
      "pyo3_runtime.PanicException: there is no reactor running, must be called from the context of a Tokio 1.x runtime\n",
      "thread '<unnamed>' panicked at /root/.cargo/git/checkouts/libsql-311658d335deb3b1/9de3ccc/libsql/src/hrana/hyper.rs:88:9:\n",
      "there is no reactor running, must be called from the context of a Tokio 1.x runtime\n"
     ]
    },
    {
     "name": "stdout",
     "output_type": "stream",
     "text": [
      "Bill Gates\n",
      "Here Engineer\n",
      "Here Bill Gates\n",
      "Here Professor\n"
     ]
    },
    {
     "data": {
      "text/plain": [
       "['Engineer', 'Bill Gates', 'Professor']"
      ]
     },
     "execution_count": 17,
     "metadata": {},
     "output_type": "execute_result"
    }
   ],
   "source": [
    "# To traverse the nodes\n",
    "def traverse_nodes(db_url, auth_token, src, tgt=None):\n",
    "    return db.traverse(db_url, auth_token, src, tgt)\n",
    "traverse_nodes(db_url, auth_token, 'Engineer', 'Bill Gates')"
   ]
  },
  {
   "cell_type": "code",
   "execution_count": 18,
   "metadata": {},
   "outputs": [
    {
     "name": "stderr",
     "output_type": "stream",
     "text": [
      "Traceback (most recent call last):\n",
      "  File \"/tmp/ipykernel_107091/1985963463.py\", line 3, in <module>\n",
      "pyo3_runtime.PanicException: there is no reactor running, must be called from the context of a Tokio 1.x runtime\n"
     ]
    },
    {
     "name": "stdout",
     "output_type": "stream",
     "text": [
      "[{'name': 'Bill Gates', 'toy_name': 'soft toy', 'animal': 'lion', 'id': 'Bill Gates'}]\n"
     ]
    },
    {
     "name": "stderr",
     "output_type": "stream",
     "text": [
      "thread '<unnamed>' panicked at /root/.cargo/git/checkouts/libsql-311658d335deb3b1/9de3ccc/libsql/src/hrana/hyper.rs:88:9:\n",
      "there is no reactor running, must be called from the context of a Tokio 1.x runtime\n"
     ]
    }
   ],
   "source": [
    "# To generate a query clause\n",
    "kv_name_like = db._generate_clause('name', predicate='LIKE')\n",
    "print(db.atomic(db_url, auth_token, db.find_nodes([kv_name_like], ('Bill%',))))\n"
   ]
  },
  {
   "cell_type": "code",
   "execution_count": 19,
   "metadata": {},
   "outputs": [
    {
     "name": "stderr",
     "output_type": "stream",
     "text": [
      "Traceback (most recent call last):\n",
      "thread '<unnamed>' panicked at /root/.cargo/git/checkouts/libsql-311658d335deb3b1/9de3ccc/libsql/src/hrana/hyper.rs  File \"/home/anubhuti/Desktop/simple-graph-db/src/simple_graph_sqlite/visualizers.py\", line 37, in graphviz_visualize\n",
      "    for edge in db.atomic(db_url, auth_token, connections(i)):\n",
      "                ^^^^^^^^^^^^^^^^^^^^^^^^^^^^^^^^^^^^^^^^^^^^^\n",
      "pyo3_runtime.PanicException: there is no reactor running, must be called from the context of a Tokio 1.x runtime\n",
      ":88:9:\n",
      "there is no reactor running, must be called from the context of a Tokio 1.x runtime\n",
      "Traceback (most recent call last):\n",
      "thread '<unnamed>' panicked at   File \"/home/anubhuti/Desktop/simple-graph-db/src/simple_graph_sqlite/visualizers.py\", line 37, in graphviz_visualize\n",
      "/root/.cargo/git/checkouts/libsql-311658d335deb3b1/9de3ccc/libsql/src/hrana/hyper.rs:88:9:\n",
      "there is no reactor running, must be called from the context of a Tokio 1.x runtime\n",
      "    for edge in db.atomic(db_url, auth_token, connections(i)):\n",
      "                ^^^^^^^^^^^^^^^^^^^^^^^^^^^^^^^^^^^^^^^^^^^^^\n",
      "pyo3_runtime.PanicException: there is no reactor running, must be called from the context of a Tokio 1.x runtime\n",
      "Traceback (most recent call last):\n",
      "  File \"/home/anubhuti/Desktop/simple-graph-db/src/simple_graph_sqlite/visualizers.py\", line 50, in graphviz_visualize\n",
      "thread '<unnamed>' panicked at /root/.cargo/git/checkouts/libsql-311658d335deb3b1/9de3ccc/libsql/src/hrana/hyper.rs:88:9:\n",
      "there is no reactor running, must be called from the context of a Tokio 1.x runtime\n",
      "    node = db.atomic(db_url, auth_token, db.find_node(i))\n",
      "           ^^^^^^^^^^^^^^^^^^^^^^^^^^^^^^^^^^^^^^^^^^^^^^\n",
      "pyo3_runtime.PanicException: there is no reactor running, must be called from the context of a Tokio 1.x runtime\n",
      "Traceback (most recent call last):\n",
      "thread '<unnamed>' panicked at   File \"/home/anubhuti/Desktop/simple-graph-db/src/simple_graph_sqlite/visualizers.py\", line 54, in graphviz_visualize\n",
      "/root/.cargo/git/checkouts/libsql-311658d335deb3b1/9de3ccc/libsql/src/hrana/hyper.rs:88:9:\n",
      "there is no reactor running, must be called from the context of a Tokio 1.x runtime\n",
      "    for edge in db.atomic(db_url, auth_token, connections(i)):\n",
      "                ^^^^^^^^^^^^^^^^^^^^^^^^^^^^^^^^^^^^^^^^^^^^^\n",
      "pyo3_runtime.PanicException: there is no reactor running, must be called from the context of a Tokio 1.x runtime\n",
      "Traceback (most recent call last):\n",
      "thread '<unnamed>' panicked at /root/.cargo/git/checkouts/libsql-311658d335deb3b1/9de3ccc/libsql/src/hrana/hyper.rs:  File \"/home/anubhuti/Desktop/simple-graph-db/src/simple_graph_sqlite/visualizers.py\", line 50, in graphviz_visualize\n",
      "88:9:\n",
      "there is no reactor running, must be called from the context of a Tokio 1.x runtime\n",
      "    node = db.atomic(db_url, auth_token, db.find_node(i))\n",
      "           ^^^^^^^^^^^^^^^^^^^^^^^^^^^^^^^^^^^^^^^^^^^^^^\n",
      "pyo3_runtime.PanicException: there is no reactor running, must be called from the context of a Tokio 1.x runtime\n",
      "Traceback (most recent call last):\n",
      "  File \"/home/anubhuti/Desktop/simple-graph-db/src/simple_graph_sqlite/visualizers.py\", line 54, in graphviz_visualize\n",
      "thread '<unnamed>' panicked at /root/.cargo/git/checkouts/libsql-311658d335deb3b1/9de3ccc/libsql/src/hrana/hyper.rs:88:9:\n",
      "there is no reactor running, must be called from the context of a Tokio 1.x runtime\n",
      "    for edge in db.atomic(db_url, auth_token, connections(i)):\n",
      "                ^^^^^^^^^^^^^^^^^^^^^^^^^^^^^^^^^^^^^^^^^^^^^\n",
      "pyo3_runtime.PanicException: there is no reactor running, must be called from the context of a Tokio 1.x runtime\n",
      "Traceback (most recent call last):\n",
      "thread '<unnamed>' panicked at /root/.cargo/git/checkouts/libsql-311658d335deb3b1/9de3ccc/libsql/src/hrana/hyper.rs  File \"/home/anubhuti/Desktop/simple-graph-db/src/simple_graph_sqlite/visualizers.py\", line 50, in graphviz_visualize\n",
      ":88:9:\n",
      "there is no reactor running, must be called from the context of a Tokio 1.x runtime\n",
      "    node = db.atomic(db_url, auth_token, db.find_node(i))\n",
      "           ^^^^^^^^^^^^^^^^^^^^^^^^^^^^^^^^^^^^^^^^^^^^^^\n",
      "pyo3_runtime.PanicException: there is no reactor running, must be called from the context of a Tokio 1.x runtime\n",
      "Traceback (most recent call last):\n",
      "  File \"/home/anubhuti/Desktop/simple-graph-db/src/simple_graph_sqlite/visualizers.py\", line 54, in graphviz_visualize\n",
      "thread '<unnamed>' panicked at /root/.cargo/git/checkouts/libsql-311658d335deb3b1/9de3ccc/libsql/src/hrana/hyper.rs:88:9:\n",
      "there is no reactor running, must be called from the context of a Tokio 1.x runtime\n",
      "    for edge in db.atomic(db_url, auth_token, connections(i)):\n",
      "                ^^^^^^^^^^^^^^^^^^^^^^^^^^^^^^^^^^^^^^^^^^^^^\n",
      "pyo3_runtime.PanicException: there is no reactor running, must be called from the context of a Tokio 1.x runtime\n"
     ]
    }
   ],
   "source": [
    "# Visualization\n",
    "from libsql_graph_db import visualizers\n",
    "raw_path = \"temp_path\" +  \"sample.dot\"\n",
    "visualizers.graphviz_visualize(db_url, auth_token, raw_path, ['Engineer', 'Bill Gates'])"
   ]
  },
  {
   "cell_type": "code",
   "execution_count": 20,
   "metadata": {},
   "outputs": [
    {
     "name": "stderr",
     "output_type": "stream",
     "text": [
      "Traceback (most recent call last):\n",
      "thread '<unnamed>  File \"/home/anubhuti/Desktop/simple-graph-db/src/simple_graph_sqlite/database.py\", line 234, in traverse\n",
      "' panicked at /root/.cargo/git/checkouts/libsql-311658d335deb3b1/9de3ccc/libsql/src/hrana/hyper.rs:88:9:\n",
      "there is no reactor running, must be called from the context of a Tokio 1.x runtime\n",
      "    return atomic(db_url, auth_token, _traverse)\n",
      "           ^^^^^^^^^^^^^^^^^^^^^^^^^^^^^^^^^^^^^\n",
      "pyo3_runtime.PanicException: there is no reactor running, must be called from the context of a Tokio 1.x runtime\n"
     ]
    },
    {
     "name": "stdout",
     "output_type": "stream",
     "text": [
      "Bill Gates\n",
      "Here Engineer\n",
      "Here Bill Gates\n",
      "Here Bill Gates\n",
      "Here Bill Gates\n",
      "Here Professor\n",
      "Here Engineer\n",
      "Here Engineer\n",
      "Here Professor\n",
      "Here Professor\n",
      "Here Bill Gates\n",
      "Here Bill Gates\n"
     ]
    }
   ],
   "source": [
    "# Visualization with bodies\n",
    "\n",
    "raw_path = \"temp_path\" +  \"bodies.dot\"\n",
    "path_with_bodies = db.traverse(db_url, auth_token, 'Engineer', 'Bill Gates', with_bodies=True)\n",
    "visualizers.graphviz_visualize_bodies(raw_path, path_with_bodies)"
   ]
  }
 ],
 "metadata": {
  "kernelspec": {
   "display_name": "simple-graph-sqlite-_HGANDYB-py3.11",
   "language": "python",
   "name": "python3"
  },
  "language_info": {
   "codemirror_mode": {
    "name": "ipython",
    "version": 3
   },
   "file_extension": ".py",
   "mimetype": "text/x-python",
   "name": "python",
   "nbconvert_exporter": "python",
   "pygments_lexer": "ipython3",
   "version": "3.11.7"
  }
 },
 "nbformat": 4,
 "nbformat_minor": 2
}
