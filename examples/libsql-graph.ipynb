{
 "cells": [
  {
   "cell_type": "code",
   "execution_count": 1,
   "metadata": {},
   "outputs": [],
   "source": [
    "import os\n",
    "import sys\n",
    "\n",
    "parent_dir = os.path.abspath(os.path.join(os.pardir))\n",
    "sys.path.append(parent_dir)\n",
    "\n",
    "from libsql_graph_db import database as db\n",
    "from dotenv import load_dotenv # type: ignore\n",
    "\n",
    "load_dotenv()\n",
    "db_url = os.getenv(\"LIBSQL_URL\")\n",
    "auth_token = os.getenv(\"LIBSQL_AUTH_TOKEN\")\n"
   ]
  },
  {
   "cell_type": "code",
   "execution_count": 2,
   "metadata": {},
   "outputs": [
    {
     "name": "stderr",
     "output_type": "stream",
     "text": [
      "Traceback (most recent call last):\n",
      "thread '<unnamed>' panicked at /root/.cargo/registry/src/index.crates.io-6f17d22bba15001f/libsql-0.3.1/src/hrana/hyper.rs:88  File \"/home/anubhuti/Desktop/simple-graph-db/libsql_graph_db/database.py\", line 79, in initialize\n",
      ":9:\n",
      "there is no reactor running, must be called from the context of a Tokio 1.x runtime\n",
      "note: run with `RUST_BACKTRACE=1` environment variable to display a backtrace\n",
      "    return atomic(_init, db_url, auth_token)  # type: ignore\n",
      "           ^^^^^^^^^^^^^^^^^^^^^^^^^^^^^^^^^\n",
      "pyo3_runtime.PanicException: there is no reactor running, must be called from the context of a Tokio 1.x runtime\n"
     ]
    }
   ],
   "source": [
    "# To initialze the database and establish a connection with tursodb\n",
    "db.initialize(db_url, auth_token)"
   ]
  },
  {
   "cell_type": "code",
   "execution_count": 3,
   "metadata": {},
   "outputs": [],
   "source": [
    "# To add a single node\n",
    "def insert_single_node(db_url, auth_token, new_label, new_node, new_node_id):\n",
    "    try:\n",
    "        db.atomic(db.add_node(new_label, new_node, new_node_id), db_url, auth_token)\n",
    "    except Exception as e:\n",
    "        assert False\n",
    "new_node = {'subject': 'MES', 'type': ['person', 'Dr']}\n",
    "new_label = \"Mechanical Engineer\"\n",
    "new_node_id = 2\n",
    "\n",
    "insert_single_node(db_url, auth_token, new_label, new_node, new_node_id)\n",
    "    "
   ]
  },
  {
   "cell_type": "code",
   "execution_count": 4,
   "metadata": {},
   "outputs": [
    {
     "name": "stderr",
     "output_type": "stream",
     "text": [
      "Traceback (most recent call last):\n",
      "  File \"/tmp/ipykernel_181443/2910530372.py\", line 10, in bulk_insert_operations\n",
      "thread '<unnamed>' panicked at /root/.cargo/registry/src/index.crates.io-6f17d22bba15001f/libsql-0.3.1/src/hrana/hyper.rs:88:9:\n",
      "there is no reactor running, must be called from the context of a Tokio 1.x runtime\n",
      "pyo3_runtime.PanicException: there is no reactor running, must be called from the context of a Tokio 1.x runtime\n"
     ]
    }
   ],
   "source": [
    "# To add multiple nodes\n",
    "def bulk_insert_operations(db_url, auth_token, labels, nodes):\n",
    "    ids = []\n",
    "    bodies = []\n",
    "    for id, body in nodes.items():\n",
    "        ids.append(id)\n",
    "        bodies.append(body)\n",
    "\n",
    "    # bulk add and confirm\n",
    "    db.atomic(db.add_nodes(bodies, labels, ids), db_url, auth_token)\n",
    "\n",
    "new_nodes = {\n",
    "    2 : {'name': 'Peri', 'age': '90'},\n",
    "    3 : {'name': 'Pema', 'age': '66'}\n",
    "}\n",
    "new_labels = [\"Cancer Patient\", \"Tuberculosis Patient\"]\n",
    "\n",
    "bulk_insert_operations(db_url, auth_token, new_labels, new_nodes)"
   ]
  },
  {
   "cell_type": "code",
   "execution_count": 6,
   "metadata": {},
   "outputs": [
    {
     "name": "stderr",
     "output_type": "stream",
     "text": [
      "Traceback (most recent call last):\n",
      "  File \"/tmp/ipykernel_181443/3171091352.py\", line 3, in find_a_node\n",
      "thread '<unnamed>' panicked at /root/.cargo/registry/src/index.crates.io-6f17d22bba15001f/libsql-0.3.1/src/hrana/hyper.rs:88:9:\n",
      "there is no reactor running, must be called from the context of a Tokio 1.x runtime\n",
      "pyo3_runtime.PanicException: there is no reactor running, must be called from the context of a Tokio 1.x runtime\n"
     ]
    },
    {
     "data": {
      "text/plain": [
       "{'subject': 'MES', 'type': ['person', 'Dr'], 'id': 2}"
      ]
     },
     "execution_count": 6,
     "metadata": {},
     "output_type": "execute_result"
    }
   ],
   "source": [
    "# To find for a node\n",
    "def find_a_node(db_url, auth_token, node):\n",
    "            return db.atomic(db.find_node(node), db_url, auth_token)\n",
    "\n",
    "\n",
    "find_a_node(db_url, auth_token, 2)"
   ]
  },
  {
   "cell_type": "code",
   "execution_count": 7,
   "metadata": {},
   "outputs": [],
   "source": [
    "# For bulk upsert: Update and insert\n",
    "def bulk_upsert(db_url, auth_token, labels, nodes):\n",
    "    ids = []\n",
    "    bodies = []\n",
    "    for id, body in nodes.items():\n",
    "        ids.append(id)\n",
    "        bodies.append(body)\n",
    "\n",
    "    db.atomic(db.upsert_nodes(bodies, labels, ids), db_url, auth_token)\n",
    "nodes = {\n",
    "    1 : {'name': 'Stanley', 'age': '30'},\n",
    "    \n",
    "    2 : {'name': 'Sheeran', 'type': ['singer', 'rich']}\n",
    "}\n",
    "labels = [\"Lunch Box\", \"Pop Singer\"]\n",
    "\n",
    "bulk_upsert(db_url, auth_token, labels, nodes)\n",
    "    "
   ]
  },
  {
   "cell_type": "code",
   "execution_count": 8,
   "metadata": {},
   "outputs": [],
   "source": [
    "# For single upsert: Update and insert a node\n",
    "def single_upsert(db_url, auth_token, label, body, id):\n",
    "    \n",
    "    db.atomic(db.upsert_node(id, label, body), db_url, auth_token)\n",
    "\n",
    "body = {'name': 'Sheeran', 'type': ['singer', 'rich']}\n",
    "label = \"related as an\"\n",
    "id = 2\n",
    "single_upsert(db_url, auth_token, label, body, id)"
   ]
  },
  {
   "cell_type": "code",
   "execution_count": 9,
   "metadata": {},
   "outputs": [],
   "source": [
    "# Bulk connect and confirm\n",
    "def bulk_node_connect(db_url, auth_token, labels, edges):\n",
    "    sources = []\n",
    "    targets = []\n",
    "    attributes = []\n",
    "    for src, tgts in edges.items():\n",
    "        for target in tgts:\n",
    "            tgt, label = target\n",
    "            sources.append(src)\n",
    "            targets.append(tgt)\n",
    "            if label:\n",
    "                attributes.append(label)\n",
    "            else:\n",
    "                attributes.append({})\n",
    "        \n",
    "\n",
    "    db.atomic(db.connect_many_nodes(\n",
    "        sources, targets, label, attributes), db_url, auth_token)\n",
    "    \n",
    "edges = {\n",
    "    1: [\n",
    "        (3 , {'wealth':'1000 Billion'}),\n",
    "        (1 , {'balance': '1000 rupees'})\n",
    "    ]\n",
    "}\n",
    "edges_labels = [\"Has\", \"Has\"]\n",
    "\n",
    "bulk_node_connect(db_url, auth_token, edges_labels, edges)\n",
    "    \n"
   ]
  },
  {
   "cell_type": "code",
   "execution_count": 11,
   "metadata": {},
   "outputs": [],
   "source": [
    "# Single connect and confirm\n",
    "def single_node_connect(db_url, auth_token, source, target, label, attribute):\n",
    "    db.atomic(db.connect_nodes(\n",
    "        source, target,  label, attribute), db_url, auth_token)\n",
    "    \n",
    "source = 3\n",
    "target = 1\n",
    "label = \"related as an\"\n",
    "attribute = {\"relation\": \"enemy\"}\n",
    "\n",
    "single_node_connect(db_url, auth_token, source, target, label, attribute)"
   ]
  },
  {
   "cell_type": "code",
   "execution_count": 12,
   "metadata": {},
   "outputs": [],
   "source": [
    "# To remove nodes\n",
    "def remove_bulk_nodes(db_url, auth_token, ids):\n",
    "        db.atomic(db.remove_nodes(ids), db_url, auth_token)\n",
    "\n",
    "ids = [1, 4]\n",
    "\n",
    "remove_bulk_nodes(db_url, auth_token, ids)\n"
   ]
  },
  {
   "cell_type": "code",
   "execution_count": 13,
   "metadata": {},
   "outputs": [],
   "source": [
    "# To remove a single node\n",
    "def remove_single_node(db_url, auth_token, id):\n",
    "    db.atomic(db.remove_node(id), db_url, auth_token)\n",
    "\n",
    "remove_single_node(db_url, auth_token, 2)"
   ]
  },
  {
   "cell_type": "code",
   "execution_count": 14,
   "metadata": {},
   "outputs": [
    {
     "name": "stderr",
     "output_type": "stream",
     "text": [
      "Traceback (most recent call last):\n",
      "  File \"/home/anubhuti/Desktop/simple-graph-db/libsql_graph_db/database.py\", line 552, in traverse\n",
      "thread '<unnamed>' panicked at /root/.cargo/registry/src/index.crates.io-6f17d22bba15001f/libsql-0.3.1/src/hrana/hyper.rs:88:9:\n",
      "there is no reactor running, must be called from the context of a Tokio 1.x runtime\n",
      "    return atomic(_traverse, db_url, auth_token)  # type: ignore\n",
      "           ^^^^^^^^^^^^^^^^^^^^^^^^^^^^^^^^^^^^^\n",
      "pyo3_runtime.PanicException: there is no reactor running, must be called from the context of a Tokio 1.x runtime\n"
     ]
    },
    {
     "data": {
      "text/plain": [
       "['3']"
      ]
     },
     "execution_count": 14,
     "metadata": {},
     "output_type": "execute_result"
    }
   ],
   "source": [
    "# To traverse the nodes\n",
    "def traverse_nodes(db_url, auth_token, src, tgt):\n",
    "    return db.traverse(db_url, auth_token, src, tgt)\n",
    "traverse_nodes(db_url, auth_token, 3, 2)"
   ]
  },
  {
   "cell_type": "code",
   "execution_count": 15,
   "metadata": {},
   "outputs": [
    {
     "name": "stderr",
     "output_type": "stream",
     "text": [
      "Traceback (most recent call last):\n",
      "  File \"/tmp/ipykernel_181443/2893161704.py\", line 3, in <module>\n",
      "thread '<unnamed>' panicked at /root/.cargo/registry/src/index.crates.io-6f17d22bba15001f/libsql-0.3.1/src/hrana/hyper.rs:88:9:\n",
      "there is no reactor running, must be called from the context of a Tokio 1.x runtime\n",
      "pyo3_runtime.PanicException: there is no reactor running, must be called from the context of a Tokio 1.x runtime\n"
     ]
    },
    {
     "name": "stdout",
     "output_type": "stream",
     "text": [
      "[{'name': 'Pema', 'age': '66', 'id': 3}]\n"
     ]
    }
   ],
   "source": [
    "# To generate a query clause and find nodes\n",
    "kv_name_like = db._generate_clause('name', predicate='LIKE')\n",
    "print(db.atomic(db.find_nodes([kv_name_like], ('Pe%',)), db_url, auth_token))\n"
   ]
  },
  {
   "cell_type": "code",
   "execution_count": 16,
   "metadata": {},
   "outputs": [
    {
     "name": "stderr",
     "output_type": "stream",
     "text": [
      "Traceback (most recent call last):\n",
      "thread '<unnamed>' panicked at /root/.cargo/registry/src/index.crates.io-6f17d22bba15001f/libsql-0.3.1/src/hrana/hyper.rs:  File \"/home/anubhuti/Desktop/simple-graph-db/libsql_graph_db/visualizers.py\", line 61, in graphviz_visualize\n",
      "    for edge in db.atomic(connections(i), db_url, auth_token):  # type: ignore\n",
      "                ^^^^^^^^^^^^^^^^^^^^^^^^^^^^^^^^^^^^^^^^^^^^^\n",
      "pyo3_runtime.PanicException: there is no reactor running, must be called from the context of a Tokio 1.x runtime\n",
      "88:9:\n",
      "there is no reactor running, must be called from the context of a Tokio 1.x runtime\n",
      "Traceback (most recent call last):\n",
      "  File \"/home/anubhuti/Desktop/simple-graph-db/libsql_graph_db/visualizers.py\", line 75, in graphviz_visualize\n",
      "thread '<unnamed>' panicked at /root/.cargo/registry/src/index.crates.io-6f17d22bba15001f/libsql-0.3.1/src/hrana/hyper.rs:88:9:\n",
      "there is no reactor running, must be called from the context of a Tokio 1.x runtime\n",
      "    node = db.atomic(db.find_node(i), db_url, auth_token)  # type: ignore\n",
      "           ^^^^^^^^^^^^^^^^^^^^^^^^^^^^^^^^^^^^^^^^^^^^^^\n",
      "pyo3_runtime.PanicException: there is no reactor running, must be called from the context of a Tokio 1.x runtime\n",
      "Traceback (most recent call last):\n",
      "thread '<unnamed>' panicked at /root/.cargo/registry/src/index.crates.io-6f17d22bba15001f/libsql-0.3.1/src/hrana/hyper.rs:  File \"/home/anubhuti/Desktop/simple-graph-db/libsql_graph_db/visualizers.py\", line 78, in graphviz_visualize\n",
      "88:9:\n",
      "there is no reactor running, must be called from the context of a Tokio 1.x runtime\n",
      "    for edge in db.atomic(connections(i), db_url, auth_token):  # type: ignore\n",
      "                ^^^^^^^^^^^^^^^^^^^^^^^^^^^^^^^^^^^^^^^^^^^^^\n",
      "pyo3_runtime.PanicException: there is no reactor running, must be called from the context of a Tokio 1.x runtime\n"
     ]
    },
    {
     "name": "stdout",
     "output_type": "stream",
     "text": [
      "Here (2, '3', '3', 'Has', '{\"wealth\":\"1000 Billion\"}', '2024-04-01 11:10:42', '2024-04-01 11:10:42')\n",
      "Here (4, '3', '3', 'related as an', '{\"relation\":\"enemy\"}', '2024-04-01 11:10:43', '2024-04-01 11:10:43')\n"
     ]
    }
   ],
   "source": [
    "# Visualization\n",
    "from libsql_graph_db import visualizers\n",
    "raw_path = \"temp_path\" +  \"sample1.dot\"\n",
    "visualizers.graphviz_visualize(db_url, auth_token, raw_path, ['3'])"
   ]
  },
  {
   "cell_type": "code",
   "execution_count": 17,
   "metadata": {},
   "outputs": [
    {
     "name": "stderr",
     "output_type": "stream",
     "text": [
      "Traceback (most recent call last):\n",
      "  File \"/home/anubhuti/Desktop/simple-graph-db/libsql_graph_db/database.py\", line 552, in traverse\n",
      "thread '<unnamed>' panicked at /root/.cargo/registry/src/index.crates.io-6f17d22bba15001f/libsql-0.3.1/src/hrana/hyper.rs:88:9:\n",
      "there is no reactor running, must be called from the context of a Tokio 1.x runtime\n",
      "    return atomic(_traverse, db_url, auth_token)  # type: ignore\n",
      "           ^^^^^^^^^^^^^^^^^^^^^^^^^^^^^^^^^^^^^\n",
      "pyo3_runtime.PanicException: there is no reactor running, must be called from the context of a Tokio 1.x runtime\n"
     ]
    }
   ],
   "source": [
    "# Visualization with bodies\n",
    "\n",
    "raw_path = \"temp_path\" +  \"bodies.dot\"\n",
    "path_with_bodies = db.traverse(db_url, auth_token, 2, with_bodies=True)\n",
    "visualizers.graphviz_visualize_bodies(raw_path, path_with_bodies)"
   ]
  },
  {
   "cell_type": "code",
   "execution_count": 19,
   "metadata": {},
   "outputs": [
    {
     "name": "stderr",
     "output_type": "stream",
     "text": [
      "Traceback (most recent call last):\n",
      "thread '<unnamed>' panicked at /root/.cargo/registry/src/index.crates.io-6f17d22bba15001f/libsql-0.3.1/src/hrana/hyper.rs:  File \"/tmp/ipykernel_181443/1772204510.py\", line 4, in vector_search_node\n",
      "pyo3_runtime.PanicException: there is no reactor running, must be called from the context of a Tokio 1.x runtime\n",
      "88:9:\n",
      "there is no reactor running, must be called from the context of a Tokio 1.x runtime\n"
     ]
    }
   ],
   "source": [
    "# vector search node\n",
    "def vector_search_node(db_url, auth_token, data, k):\n",
    "    try:\n",
    "        db.atomic(db.vector_search_node(data, k), db_url, auth_token)\n",
    "    except Exception as e:\n",
    "        assert False\n",
    "        \n",
    "data = {'subject': 'MES', 'type': ['person', 'Dr']}\n",
    "k = 1\n",
    "vector_search_node(db_url, auth_token, data, k)\n",
    "    "
   ]
  },
  {
   "cell_type": "code",
   "execution_count": 20,
   "metadata": {},
   "outputs": [
    {
     "name": "stderr",
     "output_type": "stream",
     "text": [
      "Traceback (most recent call last):\n",
      "thread '<unnamed>' panicked at /root/.cargo/registry/src/index.crates.io-6f17d22bba15001f/libsql-0.3.1/src/hrana/hyper.rs:88:  File \"/tmp/ipykernel_181443/1772204510.py\", line 4, in vector_search_node\n",
      "9:\n",
      "there is no reactor running, must be called from the context of a Tokio 1.x runtime\n",
      "pyo3_runtime.PanicException: there is no reactor running, must be called from the context of a Tokio 1.x runtime\n"
     ]
    }
   ],
   "source": [
    "# vector search edge\n",
    "def vector_search_edge(db_url, auth_token, data, k):\n",
    "    try:\n",
    "        db.atomic(db.vector_search_edge(data, k), db_url, auth_token)\n",
    "    except Exception as e:\n",
    "        assert False\n",
    "        \n",
    "data = {'subject': 'MES', 'type': ['person', 'Dr']}\n",
    "k = 1\n",
    "vector_search_node(db_url, auth_token, data, k)\n",
    "    "
   ]
  }
 ],
 "metadata": {
  "kernelspec": {
   "display_name": "simple-graph-sqlite-_HGANDYB-py3.11",
   "language": "python",
   "name": "python3"
  },
  "language_info": {
   "codemirror_mode": {
    "name": "ipython",
    "version": 3
   },
   "file_extension": ".py",
   "mimetype": "text/x-python",
   "name": "python",
   "nbconvert_exporter": "python",
   "pygments_lexer": "ipython3",
   "version": "3.11.7"
  }
 },
 "nbformat": 4,
 "nbformat_minor": 2
}
