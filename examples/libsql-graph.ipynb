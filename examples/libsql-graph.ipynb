{
 "cells": [
  {
   "cell_type": "code",
   "execution_count": 1,
   "metadata": {},
   "outputs": [],
   "source": [
    "import os\n",
    "import sys\n",
    "\n",
    "parent_dir = os.path.abspath(os.path.join(os.pardir))\n",
    "sys.path.append(parent_dir)\n",
    "\n",
    "from libsql_graph_db import database as db\n",
    "from dotenv import load_dotenv # type: ignore\n",
    "\n",
    "load_dotenv()\n",
    "db_url = os.getenv(\"LIBSQL_URL\")\n",
    "auth_token = os.getenv(\"LIBSQL_AUTH_TOKEN\")\n"
   ]
  },
  {
   "cell_type": "code",
   "execution_count": 2,
   "metadata": {},
   "outputs": [
    {
     "name": "stderr",
     "output_type": "stream",
     "text": [
      "Traceback (most recent call last):\n",
      "thread '<unnamed>' panicked at   File \"/home/anubhuti/Desktop/simple-graph-db/libsql_graph_db/database.py\", line 79, in initialize\n",
      "/root/.cargo/registry/src/index.crates.io-6f17d22bba15001f/libsql-0.3.1/src/hrana/hyper.rs:88:9:\n",
      "there is no reactor running, must be called from the context of a Tokio 1.x runtime\n",
      "note: run with `RUST_BACKTRACE=1` environment variable to display a backtrace\n",
      "    return atomic(_init, db_url, auth_token)  # type: ignore\n",
      "           ^^^^^^^^^^^^^^^^^^^^^^^^^^^^^^^^^\n",
      "pyo3_runtime.PanicException: there is no reactor running, must be called from the context of a Tokio 1.x runtime\n"
     ]
    }
   ],
   "source": [
    "# To initialze the database and establish a connection with tursodb\n",
    "db.initialize(db_url, auth_token)"
   ]
  },
  {
   "cell_type": "code",
   "execution_count": 3,
   "metadata": {},
   "outputs": [
    {
     "name": "stdout",
     "output_type": "stream",
     "text": [
      "[-0.029957118, -0.012369172, 0.035401814, -0.05986905, 0.011567153, 0.021507675, 0.051509976, 0.062263813, -0.033368524, -0.043534968, -0.03203559, -0.11657521, 0.12642537, 0.038406562, -0.004891189, 0.11485821, -0.006444395, -0.012595093, 0.027584948, 0.09597122, 0.04681082, 0.010420604, 0.11838258, 0.05132924, -0.022501728, 0.04812116, 0.021643227, 0.08110562, 0.02706533, -0.034972563, 0.05693208, -0.034791827, 0.0007921353, 0.0491604, -0.053498082, 0.04570381, 0.015848355, 0.037367325, -0.03838397, -0.0037474637, 0.0034820067, -0.073605046, 0.06529116, 0.051374424, 0.007110862, -0.04721748, -0.013668218, 0.035650328, 0.042766836, 0.05788095, -0.041592047, -0.04238277, 0.0022916857, 0.15028262, -0.02869196, 0.027517172, 0.013984507, 0.04893448, -0.0017720675, -0.0017819515, 0.032419655, -0.026274607, -0.02555166, 0.11124348, -0.017994603, 0.01088939, -0.10347179, 0.0014910783, -0.024557607, 0.007568352, 0.03623772, 0.10121258, -0.03007008, 0.009240167, 0.05196182, -0.044257913, 0.0036429754, -0.021936925, -0.098953374, -0.02566462, 0.01034718, 0.0020022243, 0.011623633, -0.004781052, -0.046720453, -0.10880353, -0.062083077, -0.061721604, -0.0057694563, -0.08399741, -0.048075978, -0.04635898, -0.025167594, 0.012696758, 0.053543266, -0.009245815, -0.01574669, -0.08196412, -0.09497717, -0.06357416, 0.0057722805, -0.027765686, 0.047850057, 0.07450873, -0.042473137, -0.013238967, 0.053995106, -0.0734695, -0.05855871, -0.0025500827, -0.05539582, 0.06886071, 0.07613536, 0.009155447, -0.043263864, -0.015983908, -0.0114316, -0.020615287, -0.07125547, -0.03418184, 0.062083077, 0.039920233, 0.057835765, -0.111876056, 0.0074384473, 0.04012356, -0.076722756, -0.0038999605, -0.06705334, -0.030928578, -0.022027293, -0.015102816, 0.042857204, -0.0146509735, -0.04613306, 0.028872699, -0.039400615, -0.0580165, -0.09185946, -0.024399463, 0.0036119113, -0.035401814, 0.01837867, 0.038835812, 0.019112913, 0.03513071, -0.051826265, 0.12009958, 0.046087876, -0.0328715, -0.06221863, 0.002849428, -0.034882195, 0.0121884355, -0.10500806, -0.031018946, 0.11088201, -0.016334085, -0.10094148, -0.016740743, 0.01331804, -0.075412415, 0.019112913, -0.044732347, 0.058649078, 0.12127437, -0.013984507, -0.024986858, 0.021744892, -0.014458941, -0.04226981, -0.008138802, -0.03007008, 0.021936925, -0.034882195, -0.034249615, 0.0045664273, -0.02555166, -0.08838028, 0.0030216926, 0.024941674, 0.034249615, -0.052142557, 0.07419244, 0.03937802, -0.07179768, -0.052684765, 0.019666418, 0.022298397, -0.06854442, 0.021338234, 0.056254316, 0.105731, 0.007873345, 0.044822715, -0.060320895, 0.008172691, 0.0095903445, 0.032758538, 0.030250816, 0.062037893, -0.021055833, 0.15968093, -0.0056000156, -0.061314948, -0.00027710616, -0.0065855957, 0.011793073, -0.0039310246, -0.070442155, 0.1088939, 0.0121319555, 0.015227072, 0.05950758, 0.018853104, -0.05855871, -0.08838028, -0.075864255, -0.0069753095, -0.09823043, -0.095700115, 0.03879063, 0.12714832, -0.0048121163, -0.044483837, -0.03361704, 0.035650328, -0.041772783, -0.041885745, -0.041592047, 0.03937802, 0.0053627985, 0.049747795, -0.06470376, 0.0001531144, -0.0020078726, -0.035650328, 0.04498086, 0.025935726, -0.0050860452, -0.07487021, -0.037819166, 0.07243026, 0.02160934, 0.061405316, 0.029460093, -0.010189035, -0.09380238, 0.022140253, -0.02964083, 0.015362625, 0.027404211, -0.012538613, 0.0012185611, -0.074553914, -0.011171791, 0.010093018, 0.007562704, 0.02880492, -0.047488585, 0.046991557, 0.03569551, -0.0060490337, 0.026364975, -0.08743141, -0.030386368, -0.042653877, -0.035401814, 0.060185343, 0.016390566, -0.061360132, 0.012764534, 0.030341184, -0.057655025, -0.10997832, 0.089374326, 0.014876895, 0.02360874, -0.06398081, 0.04236018, -0.031403013, -0.01768961, -0.029211579, -0.029505277, -0.0403043, 0.0009912282, 0.009104614, 0.009697657, 0.0057355682, -0.026410159, -0.04184056, 0.0108555015, 0.01746369, -0.05512471, -0.036938075, 0.04226981, 0.05155516, -0.022614688, 0.05896537, 0.045771584, 0.075864255, 0.08318409, 0.04461939, -0.019282354, -0.046223428, -0.019135505, 0.08056341, -0.022851905, 0.06764074, -0.02340541, -0.10907464, -0.060592, -0.01815275, 0.03569551, -0.004546659, -0.015148, -0.012809718, 0.10356216, -0.051871452, -0.04667527, 0.01597261, -0.06782147, -0.011296048, -0.05241366, -0.0711651, -0.022998752, 0.03384296, -2.570292e-05, 0.08842546, -0.06831849, -0.011906034, -0.08697957, -0.016718151, 0.07310802, 0.04118539, -0.008161395, -0.009788025, 0.07432799, -0.05521508, 0.052323293, 0.017407209, -0.06994513, -0.103381425, -0.061314948, -0.05657061, 0.0077547366, -0.030002302, 0.042405363, 0.013623034, -0.009251463, -0.010324587, 0.033729997, -0.110159054, -0.0211462, -0.08810917, -0.05919129, -0.034769233, 0.0031572452, -0.0019386841, 0.008133154, 0.010669117, -0.00031011182, 0.0134310005, 0.053678818, 0.04256351, 0.031628933, -0.08919359, 0.014763935, -0.01703444, -0.03203559, 0.004498651, -0.071842864, 0.058829814, 0.004456291, -0.0058739446, 0.038880996, -0.12217805, 0.0342948, -0.009912282, 0.050651476, 0.0454327, 0.033458892, -0.039829865, -0.045658626]\n"
     ]
    }
   ],
   "source": [
    "# To add a single node\n",
    "def insert_single_node(db_url, auth_token, new_node, new_node_id):\n",
    "    try:\n",
    "        db.atomic(db.add_node(new_node, new_node_id), db_url, auth_token)\n",
    "    except Exception as e:\n",
    "        assert False\n",
    "new_node = {'subject': 'MES', 'type': ['person', 'Dr']}\n",
    "new_node_id = 2\n",
    "\n",
    "insert_single_node(db_url, auth_token, new_node, new_node_id)\n",
    "    "
   ]
  },
  {
   "cell_type": "code",
   "execution_count": 4,
   "metadata": {},
   "outputs": [],
   "source": [
    "# To add multiple nodes\n",
    "def bulk_insert_operations(db_url, auth_token, nodes):\n",
    "    ids = []\n",
    "    bodies = []\n",
    "    for id, body in nodes.items():\n",
    "        ids.append(id)\n",
    "        bodies.append(body)\n",
    "\n",
    "    # bulk add and confirm\n",
    "    db.atomic(db.add_nodes(bodies, ids), db_url, auth_token)\n",
    "\n",
    "new_nodes = {\n",
    "    2 : {'name': 'Peri', 'age': '90'},\n",
    "    3 : {'name': 'Pema', 'age': '66'}\n",
    "}\n",
    "\n",
    "bulk_insert_operations(db_url, auth_token, new_nodes)"
   ]
  },
  {
   "cell_type": "code",
   "execution_count": 5,
   "metadata": {},
   "outputs": [
    {
     "name": "stderr",
     "output_type": "stream",
     "text": [
      "Traceback (most recent call last):\n",
      "  File \"/tmp/ipykernel_91070/3005601512.py\", line 3, in find_a_node\n",
      "thread '<unnamed>' panicked at /root/.cargo/registry/src/index.crates.io-6f17d22bba15001f/libsql-0.3.1/src/hrana/hyper.rs:88:9:\n",
      "there is no reactor running, must be called from the context of a Tokio 1.x runtime\n",
      "pyo3_runtime.PanicException: there is no reactor running, must be called from the context of a Tokio 1.x runtime\n"
     ]
    },
    {
     "data": {
      "text/plain": [
       "{}"
      ]
     },
     "execution_count": 5,
     "metadata": {},
     "output_type": "execute_result"
    }
   ],
   "source": [
    "# To find for a node\n",
    "def find_a_node(db_url, auth_token, node):\n",
    "            return db.atomic(db.find_node(node), db_url, auth_token)\n",
    "\n",
    "\n",
    "find_a_node(db_url, auth_token, 5)"
   ]
  },
  {
   "cell_type": "code",
   "execution_count": 6,
   "metadata": {},
   "outputs": [],
   "source": [
    "# For bulk upsert: Update and insert\n",
    "def bulk_upsert(db_url, auth_token, nodes):\n",
    "    ids = []\n",
    "    bodies = []\n",
    "    for id, body in nodes.items():\n",
    "        ids.append(id)\n",
    "        bodies.append(body)\n",
    "\n",
    "    db.atomic(db.upsert_nodes(bodies, ids), db_url, auth_token)\n",
    "nodes = {\n",
    "    1 : {'name': 'Stanley', 'age': '30'},\n",
    "    2 : {'name': 'Sheeran', 'type': ['singer', 'rich']}\n",
    "}\n",
    "\n",
    "bulk_upsert(db_url, auth_token, nodes)\n",
    "    "
   ]
  },
  {
   "cell_type": "code",
   "execution_count": 7,
   "metadata": {},
   "outputs": [],
   "source": [
    "# For single upsert: Update and insert a node\n",
    "def single_upsert(db_url, auth_token, body, id):\n",
    "    \n",
    "    db.atomic(db.upsert_node(id, body), db_url, auth_token)\n",
    "\n",
    "body = {'name': 'Sheeran', 'type': ['singer', 'rich']}\n",
    "id = 2\n",
    "single_upsert(db_url, auth_token, body, id)"
   ]
  },
  {
   "cell_type": "code",
   "execution_count": 20,
   "metadata": {},
   "outputs": [],
   "source": [
    "# Bulk connect and confirm\n",
    "def bulk_node_connect(db_url, auth_token, edges):\n",
    "    sources = []\n",
    "    targets = []\n",
    "    properties = []\n",
    "    for src, tgts in edges.items():\n",
    "        for target in tgts:\n",
    "            tgt, label = target\n",
    "            sources.append(src)\n",
    "            targets.append(tgt)\n",
    "            if label:\n",
    "                properties.append(label)\n",
    "            else:\n",
    "                properties.append({})\n",
    "        \n",
    "\n",
    "    db.atomic(db.connect_many_nodes(\n",
    "        sources, targets, properties), db_url, auth_token)\n",
    "    \n",
    "edges = {\n",
    "    1: [\n",
    "        (3 , {'wealth':'1000 Billion'}),\n",
    "        (1 , {'balance': '1000 rupees'})\n",
    "    ]\n",
    "}\n",
    "\n",
    "bulk_node_connect(db_url, auth_token, edges)\n",
    "    \n"
   ]
  },
  {
   "cell_type": "code",
   "execution_count": 9,
   "metadata": {},
   "outputs": [],
   "source": [
    "# Single connect and confirm\n",
    "def single_node_connect(db_url, auth_token, source, target,  property):\n",
    "    db.atomic(db.connect_nodes(\n",
    "        source, target,  property), db_url, auth_token)\n",
    "    \n",
    "source = 3\n",
    "target = 1\n",
    "property = {'relation': 'enemy'}\n",
    "\n",
    "single_node_connect(db_url, auth_token, source, target, property)"
   ]
  },
  {
   "cell_type": "code",
   "execution_count": 10,
   "metadata": {},
   "outputs": [],
   "source": [
    "# To remove nodes\n",
    "def remove_bulk_nodes(db_url, auth_token, ids):\n",
    "        db.atomic(db.remove_nodes(ids), db_url, auth_token)\n",
    "\n",
    "ids = [1, 4]\n",
    "\n",
    "remove_bulk_nodes(db_url, auth_token, ids)\n"
   ]
  },
  {
   "cell_type": "code",
   "execution_count": 11,
   "metadata": {},
   "outputs": [],
   "source": [
    "# To remove a single node\n",
    "def remove_single_node(db_url, auth_token, id):\n",
    "    db.atomic(db.remove_node(id), db_url, auth_token)\n",
    "\n",
    "remove_single_node(db_url, auth_token, 2)"
   ]
  },
  {
   "cell_type": "code",
   "execution_count": 12,
   "metadata": {},
   "outputs": [
    {
     "name": "stderr",
     "output_type": "stream",
     "text": [
      "Traceback (most recent call last):\n",
      "  File \"/home/anubhuti/Desktop/simple-graph-db/libsql_graph_db/database.py\", line 512, in traverse\n",
      "thread '<unnamed>' panicked at /root/.cargo/registry/src/index.crates.io-6f17d22bba15001f/libsql-0.3.1/src/hrana/hyper.rs:88    return atomic(_traverse, db_url, auth_token)  # type: ignore\n",
      "           ^^^^^^^^^^^^^^^^^^^^^^^^^^^^^^^^^^^^^\n",
      "pyo3_runtime.PanicException: there is no reactor running, must be called from the context of a Tokio 1.x runtime\n",
      ":9:\n",
      "there is no reactor running, must be called from the context of a Tokio 1.x runtime\n"
     ]
    },
    {
     "data": {
      "text/plain": [
       "['3']"
      ]
     },
     "execution_count": 12,
     "metadata": {},
     "output_type": "execute_result"
    }
   ],
   "source": [
    "# To traverse the nodes\n",
    "def traverse_nodes(db_url, auth_token, src, tgt):\n",
    "    return db.traverse(db_url, auth_token, src, tgt)\n",
    "traverse_nodes(db_url, auth_token, 3, 2)"
   ]
  },
  {
   "cell_type": "code",
   "execution_count": 13,
   "metadata": {},
   "outputs": [
    {
     "name": "stderr",
     "output_type": "stream",
     "text": [
      "Traceback (most recent call last):\n",
      "  File \"/tmp/ipykernel_91070/2893161704.py\", line 3, in <module>\n",
      "thread '<unnamed>' panicked at /root/.cargo/registry/src/index.crates.io-6f17d22bba15001f/libsql-0.3.1/src/hrana/hyper.rs:88:9:\n",
      "there is no reactor running, must be called from the context of a Tokio 1.x runtime\n",
      "pyo3_runtime.PanicException: there is no reactor running, must be called from the context of a Tokio 1.x runtime\n"
     ]
    },
    {
     "name": "stdout",
     "output_type": "stream",
     "text": [
      "[{'name': 'Pema', 'age': '66', 'id': 3}]\n"
     ]
    }
   ],
   "source": [
    "# To generate a query clause and find nodes\n",
    "kv_name_like = db._generate_clause('name', predicate='LIKE')\n",
    "print(db.atomic(db.find_nodes([kv_name_like], ('Pe%',)), db_url, auth_token))\n"
   ]
  },
  {
   "cell_type": "code",
   "execution_count": 14,
   "metadata": {},
   "outputs": [
    {
     "name": "stderr",
     "output_type": "stream",
     "text": [
      "Traceback (most recent call last):\n",
      "thread '<unnamed>' panicked at /root/.cargo/registry/src/index.crates.io-6f17d22bba15001f/libsql-0.3.1/src/hrana/hyper.rs:88:9:\n",
      "there is no reactor running, must be called from the context of a Tokio 1.x runtime\n",
      "  File \"/home/anubhuti/Desktop/simple-graph-db/libsql_graph_db/visualizers.py\", line 61, in graphviz_visualize\n",
      "    for edge in db.atomic(connections(i), db_url, auth_token):  # type: ignore\n",
      "                ^^^^^^^^^^^^^^^^^^^^^^^^^^^^^^^^^^^^^^^^^^^^^\n",
      "pyo3_runtime.PanicException: there is no reactor running, must be called from the context of a Tokio 1.x runtime\n",
      "Traceback (most recent call last):\n",
      "thread '<unnamed>' panicked at /root/.cargo/registry/src/index.crates.io-6f17d22bba15001f/libsql-0.3.1/src/hrana/hyper.rs:  File \"/home/anubhuti/Desktop/simple-graph-db/libsql_graph_db/visualizers.py\", line 75, in graphviz_visualize\n",
      "    node = db.atomic(db.find_node(i), db_url, auth_token)  # type: ignore\n",
      "           ^^^^^^^^^^^^^^^^^^^^^^^^^^^^^^^^^^^^^^^^^^^^^^\n",
      "pyo3_runtime.PanicException: there is no reactor running, must be called from the context of a Tokio 1.x runtime\n",
      "88:9:\n",
      "there is no reactor running, must be called from the context of a Tokio 1.x runtime\n",
      "Traceback (most recent call last):\n",
      "thread '<unnamed>' panicked at /root/.cargo/registry/src/index.crates.io-6f17d22bba15001f/libsql-0.3.1/src/hrana/hyper.rs:  File \"/home/anubhuti/Desktop/simple-graph-db/libsql_graph_db/visualizers.py\", line 78, in graphviz_visualize\n",
      "88:9:\n",
      "there is no reactor running, must be called from the context of a Tokio 1.x runtime\n",
      "    for edge in db.atomic(connections(i), db_url, auth_token):  # type: ignore\n",
      "                ^^^^^^^^^^^^^^^^^^^^^^^^^^^^^^^^^^^^^^^^^^^^^\n",
      "pyo3_runtime.PanicException: there is no reactor running, must be called from the context of a Tokio 1.x runtime\n"
     ]
    }
   ],
   "source": [
    "# Visualization\n",
    "from libsql_graph_db import visualizers\n",
    "raw_path = \"temp_path\" +  \"sample1.dot\"\n",
    "visualizers.graphviz_visualize(db_url, auth_token, raw_path, ['3'])"
   ]
  },
  {
   "cell_type": "code",
   "execution_count": 15,
   "metadata": {},
   "outputs": [
    {
     "name": "stderr",
     "output_type": "stream",
     "text": [
      "Traceback (most recent call last):\n",
      "  File \"/home/anubhuti/Desktop/simple-graph-db/libsql_graph_db/database.py\", line 512, in traverse\n",
      "thread '<unnamed>' panicked at /root/.cargo/registry/src/index.crates.io-6f17d22bba15001f/libsql-0.3.1/src/hrana/hyper.rs:88:9:\n",
      "there is no reactor running, must be called from the context of a Tokio 1.x runtime\n",
      "    return atomic(_traverse, db_url, auth_token)  # type: ignore\n",
      "           ^^^^^^^^^^^^^^^^^^^^^^^^^^^^^^^^^^^^^\n",
      "pyo3_runtime.PanicException: there is no reactor running, must be called from the context of a Tokio 1.x runtime\n"
     ]
    }
   ],
   "source": [
    "# Visualization with bodies\n",
    "\n",
    "raw_path = \"temp_path\" +  \"bodies.dot\"\n",
    "path_with_bodies = db.traverse(db_url, auth_token, 2, with_bodies=True)\n",
    "visualizers.graphviz_visualize_bodies(raw_path, path_with_bodies)"
   ]
  },
  {
   "cell_type": "code",
   "execution_count": 3,
   "metadata": {},
   "outputs": [
    {
     "name": "stderr",
     "output_type": "stream",
     "text": [
      "Traceback (most recent call last):\n",
      "  File \"/tmp/ipykernel_182667/1375690238.py\", line 4, in vector_search_node\n",
      "thread '<unnamed>' panicked at /root/.cargo/registry/src/index.crates.io-6f17d22bba15001f/libsql-0.3.1/src/hrana/hyper.rs:88:9:\n",
      "there is no reactor running, must be called from the context of a Tokio 1.x runtime\n",
      "pyo3_runtime.PanicException: there is no reactor running, must be called from the context of a Tokio 1.x runtime\n"
     ]
    },
    {
     "name": "stdout",
     "output_type": "stream",
     "text": [
      "(4, '1', '{\"subject\":\"MES\",\"type\":[\"person\",\"Dr\"],\"id\":1}', 0.06872987747192383)\n",
      "None\n"
     ]
    }
   ],
   "source": [
    "# vector search\n",
    "def vector_search_node(db_url, auth_token, data, k):\n",
    "    try:\n",
    "        db.atomic(db.vector_search(data, k), db_url, auth_token)\n",
    "    except Exception as e:\n",
    "        assert False\n",
    "        \n",
    "data = {'subject': 'MES', 'type': ['person', 'Dr']}\n",
    "k = 1\n",
    "vector_search_node(db_url, auth_token, data, k)\n",
    "    "
   ]
  }
 ],
 "metadata": {
  "kernelspec": {
   "display_name": "simple-graph-sqlite-_HGANDYB-py3.11",
   "language": "python",
   "name": "python3"
  },
  "language_info": {
   "codemirror_mode": {
    "name": "ipython",
    "version": 3
   },
   "file_extension": ".py",
   "mimetype": "text/x-python",
   "name": "python",
   "nbconvert_exporter": "python",
   "pygments_lexer": "ipython3",
   "version": "3.11.7"
  }
 },
 "nbformat": 4,
 "nbformat_minor": 2
}
